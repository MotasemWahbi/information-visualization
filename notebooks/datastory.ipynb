{
 "cells": [
  {
   "cell_type": "code",
   "execution_count": 21,
   "id": "bb93d5c1-42be-40b5-8255-1622ca6d473a",
   "metadata": {},
   "outputs": [],
   "source": [
    "import pandas as pd\n",
    "import matplotlib.pyplot as plt\n",
    "import plotly.express as px"
   ]
  },
  {
   "cell_type": "code",
   "execution_count": null,
   "id": "3e264bbe-bf2a-4105-8a0d-5d0614b50857",
   "metadata": {},
   "outputs": [
    {
     "data": {
      "text/html": [
       "<div>\n",
       "<style scoped>\n",
       "    .dataframe tbody tr th:only-of-type {\n",
       "        vertical-align: middle;\n",
       "    }\n",
       "\n",
       "    .dataframe tbody tr th {\n",
       "        vertical-align: top;\n",
       "    }\n",
       "\n",
       "    .dataframe thead th {\n",
       "        text-align: right;\n",
       "    }\n",
       "</style>\n",
       "<table border=\"1\" class=\"dataframe\">\n",
       "  <thead>\n",
       "    <tr style=\"text-align: right;\">\n",
       "      <th></th>\n",
       "      <th>Ranking</th>\n",
       "      <th>Country</th>\n",
       "      <th>Regional indicator</th>\n",
       "      <th>Happiness score</th>\n",
       "      <th>GDP per capita</th>\n",
       "      <th>Social support</th>\n",
       "      <th>Healthy life expectancy</th>\n",
       "      <th>Freedom to make life choices</th>\n",
       "      <th>Generosity</th>\n",
       "      <th>Perceptions of corruption</th>\n",
       "    </tr>\n",
       "  </thead>\n",
       "  <tbody>\n",
       "    <tr>\n",
       "      <th>0</th>\n",
       "      <td>1</td>\n",
       "      <td>Switzerland</td>\n",
       "      <td>Western Europe</td>\n",
       "      <td>7,59</td>\n",
       "      <td>8,26</td>\n",
       "      <td>0,96</td>\n",
       "      <td>73</td>\n",
       "      <td>0,99</td>\n",
       "      <td>0,37</td>\n",
       "      <td>0,24</td>\n",
       "    </tr>\n",
       "    <tr>\n",
       "      <th>1</th>\n",
       "      <td>2</td>\n",
       "      <td>Iceland</td>\n",
       "      <td>Western Europe</td>\n",
       "      <td>7,56</td>\n",
       "      <td>7,7</td>\n",
       "      <td>1</td>\n",
       "      <td>73</td>\n",
       "      <td>0,94</td>\n",
       "      <td>0,55</td>\n",
       "      <td>0,74</td>\n",
       "    </tr>\n",
       "    <tr>\n",
       "      <th>2</th>\n",
       "      <td>3</td>\n",
       "      <td>Denmark</td>\n",
       "      <td>Western Europe</td>\n",
       "      <td>7,53</td>\n",
       "      <td>7,84</td>\n",
       "      <td>0,97</td>\n",
       "      <td>70</td>\n",
       "      <td>0,97</td>\n",
       "      <td>0,43</td>\n",
       "      <td>0,12</td>\n",
       "    </tr>\n",
       "    <tr>\n",
       "      <th>3</th>\n",
       "      <td>4</td>\n",
       "      <td>Norway</td>\n",
       "      <td>Western Europe</td>\n",
       "      <td>7,52</td>\n",
       "      <td>8,63</td>\n",
       "      <td>0,95</td>\n",
       "      <td>71</td>\n",
       "      <td>1</td>\n",
       "      <td>0,44</td>\n",
       "      <td>0,34</td>\n",
       "    </tr>\n",
       "    <tr>\n",
       "      <th>4</th>\n",
       "      <td>5</td>\n",
       "      <td>Canada</td>\n",
       "      <td>North America and ANZ</td>\n",
       "      <td>7,43</td>\n",
       "      <td>7,85</td>\n",
       "      <td>0,94</td>\n",
       "      <td>71</td>\n",
       "      <td>0,95</td>\n",
       "      <td>0,58</td>\n",
       "      <td>0,4</td>\n",
       "    </tr>\n",
       "  </tbody>\n",
       "</table>\n",
       "</div>"
      ],
      "text/plain": [
       "   Ranking      Country     Regional indicator Happiness score GDP per capita  \\\n",
       "0        1  Switzerland         Western Europe            7,59           8,26   \n",
       "1        2      Iceland         Western Europe            7,56            7,7   \n",
       "2        3      Denmark         Western Europe            7,53           7,84   \n",
       "3        4       Norway         Western Europe            7,52           8,63   \n",
       "4        5       Canada  North America and ANZ            7,43           7,85   \n",
       "\n",
       "  Social support  Healthy life expectancy Freedom to make life choices  \\\n",
       "0           0,96                       73                         0,99   \n",
       "1              1                       73                         0,94   \n",
       "2           0,97                       70                         0,97   \n",
       "3           0,95                       71                            1   \n",
       "4           0,94                       71                         0,95   \n",
       "\n",
       "  Generosity Perceptions of corruption  \n",
       "0       0,37                      0,24  \n",
       "1       0,55                      0,74  \n",
       "2       0,43                      0,12  \n",
       "3       0,44                      0,34  \n",
       "4       0,58                       0,4  "
      ]
     },
     "execution_count": 13,
     "metadata": {},
     "output_type": "execute_result"
    }
   ],
   "source": [
    "w_h = pd.read_csv('../datasets/world_happiness_2015.csv', sep=';')\n",
    "\n",
    "w_h.head(5)"
   ]
  },
  {
   "cell_type": "code",
   "execution_count": 14,
   "id": "004f636d-74d8-4d32-b87e-9d7be9f0a462",
   "metadata": {},
   "outputs": [
    {
     "name": "stdout",
     "output_type": "stream",
     "text": [
      "Gemiddelde Happiness score: 5.38\n",
      "Gemiddelde Social support: 0.71 (std: 0.19)\n",
      "Gemiddelde Healthy life expectancy: 61.50 jaar\n",
      "Gemiddelde Freedom to make life choices: 0.64\n"
     ]
    }
   ],
   "source": [
    "def clean_number(x):\n",
    "    if isinstance(x, str):\n",
    "        x = x.replace('.', '')\n",
    "        x = x.replace(',', '.')\n",
    "    return x\n",
    "\n",
    "w_h['Happiness score'] = w_h['Happiness score'].apply(clean_number).astype(float)\n",
    "w_h['Social support'] = w_h['Social support'].apply(clean_number).astype(float)\n",
    "w_h['Healthy life expectancy'] = w_h['Healthy life expectancy'].apply(clean_number).astype(float)\n",
    "w_h['Freedom to make life choices'] = w_h['Freedom to make life choices'].apply(clean_number).astype(float)\n",
    "\n",
    "mean_happiness = w_h['Happiness score'].mean()\n",
    "mean_social_support = w_h['Social support'].mean()\n",
    "std_social_support = w_h['Social support'].std()\n",
    "mean_healthy_life = w_h['Healthy life expectancy'].mean()\n",
    "mean_freedom = w_h['Freedom to make life choices'].mean()\n",
    "\n",
    "print(f\"Gemiddelde Happiness score: {mean_happiness:.2f}\")\n",
    "print(f\"Gemiddelde Social support: {mean_social_support:.2f} (std: {std_social_support:.2f})\")\n",
    "print(f\"Gemiddelde Healthy life expectancy: {mean_healthy_life:.2f} jaar\")\n",
    "print(f\"Gemiddelde Freedom to make life choices: {mean_freedom:.2f}\")"
   ]
  },
  {
   "cell_type": "code",
   "execution_count": null,
   "id": "a3ded471-3777-4b78-bcfc-d96fce9d9434",
   "metadata": {},
   "outputs": [
    {
     "name": "stdout",
     "output_type": "stream",
     "text": [
      "Gemiddelde Social support: 0.71\n",
      "Standaarddeviatie Social support: 0.19\n"
     ]
    }
   ],
   "source": [
    "gemiddelde = w_h['Social support'].mean()\n",
    "standaarddeviatie = w_h['Social support'].std()\n",
    "\n",
    "print(f\"Gemiddelde Social support: {gemiddelde:.2f}\")\n",
    "print(f\"Standaarddeviatie Social support: {standaarddeviatie:.2f}\")"
   ]
  },
  {
   "cell_type": "code",
   "execution_count": null,
   "id": "1e1806ef-df0a-48cf-bafc-c0942703428e",
   "metadata": {},
   "outputs": [
    {
     "data": {
      "text/html": [
       "<div>\n",
       "<style scoped>\n",
       "    .dataframe tbody tr th:only-of-type {\n",
       "        vertical-align: middle;\n",
       "    }\n",
       "\n",
       "    .dataframe tbody tr th {\n",
       "        vertical-align: top;\n",
       "    }\n",
       "\n",
       "    .dataframe thead th {\n",
       "        text-align: right;\n",
       "    }\n",
       "</style>\n",
       "<table border=\"1\" class=\"dataframe\">\n",
       "  <thead>\n",
       "    <tr style=\"text-align: right;\">\n",
       "      <th></th>\n",
       "      <th>Entity</th>\n",
       "      <th>Code</th>\n",
       "      <th>Year</th>\n",
       "      <th>Schizophrenia disorders (share of population) - Sex: Both - Age: Age-standardized</th>\n",
       "      <th>Depressive disorders (share of population) - Sex: Both - Age: Age-standardized</th>\n",
       "      <th>Anxiety disorders (share of population) - Sex: Both - Age: Age-standardized</th>\n",
       "      <th>Bipolar disorders (share of population) - Sex: Both - Age: Age-standardized</th>\n",
       "      <th>Eating disorders (share of population) - Sex: Both - Age: Age-standardized</th>\n",
       "    </tr>\n",
       "  </thead>\n",
       "  <tbody>\n",
       "    <tr>\n",
       "      <th>0</th>\n",
       "      <td>Afghanistan</td>\n",
       "      <td>AFG</td>\n",
       "      <td>1990</td>\n",
       "      <td>0.223206</td>\n",
       "      <td>4.996118</td>\n",
       "      <td>4.713314</td>\n",
       "      <td>0.703023</td>\n",
       "      <td>0.127700</td>\n",
       "    </tr>\n",
       "    <tr>\n",
       "      <th>1</th>\n",
       "      <td>Afghanistan</td>\n",
       "      <td>AFG</td>\n",
       "      <td>1991</td>\n",
       "      <td>0.222454</td>\n",
       "      <td>4.989290</td>\n",
       "      <td>4.702100</td>\n",
       "      <td>0.702069</td>\n",
       "      <td>0.123256</td>\n",
       "    </tr>\n",
       "    <tr>\n",
       "      <th>2</th>\n",
       "      <td>Afghanistan</td>\n",
       "      <td>AFG</td>\n",
       "      <td>1992</td>\n",
       "      <td>0.221751</td>\n",
       "      <td>4.981346</td>\n",
       "      <td>4.683743</td>\n",
       "      <td>0.700792</td>\n",
       "      <td>0.118844</td>\n",
       "    </tr>\n",
       "    <tr>\n",
       "      <th>3</th>\n",
       "      <td>Afghanistan</td>\n",
       "      <td>AFG</td>\n",
       "      <td>1993</td>\n",
       "      <td>0.220987</td>\n",
       "      <td>4.976958</td>\n",
       "      <td>4.673549</td>\n",
       "      <td>0.700087</td>\n",
       "      <td>0.115089</td>\n",
       "    </tr>\n",
       "    <tr>\n",
       "      <th>4</th>\n",
       "      <td>Afghanistan</td>\n",
       "      <td>AFG</td>\n",
       "      <td>1994</td>\n",
       "      <td>0.220183</td>\n",
       "      <td>4.977782</td>\n",
       "      <td>4.670810</td>\n",
       "      <td>0.699898</td>\n",
       "      <td>0.111815</td>\n",
       "    </tr>\n",
       "  </tbody>\n",
       "</table>\n",
       "</div>"
      ],
      "text/plain": [
       "        Entity Code  Year  \\\n",
       "0  Afghanistan  AFG  1990   \n",
       "1  Afghanistan  AFG  1991   \n",
       "2  Afghanistan  AFG  1992   \n",
       "3  Afghanistan  AFG  1993   \n",
       "4  Afghanistan  AFG  1994   \n",
       "\n",
       "   Schizophrenia disorders (share of population) - Sex: Both - Age: Age-standardized  \\\n",
       "0                                           0.223206                                   \n",
       "1                                           0.222454                                   \n",
       "2                                           0.221751                                   \n",
       "3                                           0.220987                                   \n",
       "4                                           0.220183                                   \n",
       "\n",
       "   Depressive disorders (share of population) - Sex: Both - Age: Age-standardized  \\\n",
       "0                                           4.996118                                \n",
       "1                                           4.989290                                \n",
       "2                                           4.981346                                \n",
       "3                                           4.976958                                \n",
       "4                                           4.977782                                \n",
       "\n",
       "   Anxiety disorders (share of population) - Sex: Both - Age: Age-standardized  \\\n",
       "0                                           4.713314                             \n",
       "1                                           4.702100                             \n",
       "2                                           4.683743                             \n",
       "3                                           4.673549                             \n",
       "4                                           4.670810                             \n",
       "\n",
       "   Bipolar disorders (share of population) - Sex: Both - Age: Age-standardized  \\\n",
       "0                                           0.703023                             \n",
       "1                                           0.702069                             \n",
       "2                                           0.700792                             \n",
       "3                                           0.700087                             \n",
       "4                                           0.699898                             \n",
       "\n",
       "   Eating disorders (share of population) - Sex: Both - Age: Age-standardized  \n",
       "0                                           0.127700                           \n",
       "1                                           0.123256                           \n",
       "2                                           0.118844                           \n",
       "3                                           0.115089                           \n",
       "4                                           0.111815                           "
      ]
     },
     "execution_count": 16,
     "metadata": {},
     "output_type": "execute_result"
    }
   ],
   "source": [
    "df = pd.read_csv('../datasets/mental-illnesses-prevalence.csv')\n",
    "\n",
    "df.head(5)"
   ]
  },
  {
   "cell_type": "code",
   "execution_count": 17,
   "id": "06e157f4-8652-4e8d-b746-548b29ae9a8d",
   "metadata": {},
   "outputs": [
    {
     "name": "stdout",
     "output_type": "stream",
     "text": [
      "Depressive disorders range: 1.52% – 7.65%\n",
      "Anxiety disorders range: 1.88% – 8.62%\n",
      "Gemiddelde depressie: 3.77%\n",
      "Gemiddelde angst: 4.10%\n"
     ]
    }
   ],
   "source": [
    "depression_col = 'Depressive disorders (share of population) - Sex: Both - Age: Age-standardized'\n",
    "anxiety_col = 'Anxiety disorders (share of population) - Sex: Both - Age: Age-standardized'\n",
    "\n",
    "depression_min = df[depression_col].min()\n",
    "depression_max = df[depression_col].max()\n",
    "\n",
    "anxiety_min = df[anxiety_col].min()\n",
    "anxiety_max = df[anxiety_col].max()\n",
    "\n",
    "print(f\"Depressive disorders range: {depression_min:.2f}% – {depression_max:.2f}%\")\n",
    "print(f\"Anxiety disorders range: {anxiety_min:.2f}% – {anxiety_max:.2f}%\")\n",
    "\n",
    "print(f\"Gemiddelde depressie: {df[depression_col].mean():.2f}%\")\n",
    "print(f\"Gemiddelde angst: {df[anxiety_col].mean():.2f}%\")\n"
   ]
  },
  {
   "cell_type": "code",
   "execution_count": 19,
   "id": "4e7b8a33-5d69-4a58-b9d4-c717b027c02f",
   "metadata": {},
   "outputs": [
    {
     "data": {
      "image/png": "[encoded data removed]",
      "text/plain": [
       "<Figure size 1400x600 with 1 Axes>"
      ]
     },
     "metadata": {},
     "output_type": "display_data"
    }
   ],
   "source": [
    "#1- Lijndiagram (Data 1)\n",
    "# Toont de evolutie van de geluksindex in landen van 2015\n",
    "# Helpt bij het begrijpen van algemene trends\n",
    "\n",
    "w_h_sorted = w_h.sort_values('Happiness score', ascending=False)\n",
    "\n",
    "top_landen = w_h_sorted.head(30)\n",
    "\n",
    "plt.figure(figsize=(14, 6))\n",
    "plt.plot(top_landen['Country'], top_landen['Happiness score'], marker='o', linestyle='-', color='dodgerblue')\n",
    "\n",
    "plt.title('Happiness score per land (2015)', fontsize=14)\n",
    "plt.xlabel('Land')\n",
    "plt.ylabel('Happiness score')\n",
    "plt.xticks(rotation=45, ha='right')\n",
    "plt.grid(True)\n",
    "plt.tight_layout()\n",
    "plt.show()\n"
   ]
  },
  {
   "cell_type": "code",
   "execution_count": 100,
   "id": "533265dd-c7b7-4227-bc59-91e12a1aea1d",
   "metadata": {},
   "outputs": [
    {
     "ename": "TypeError",
     "evalue": "'<' not supported between instances of 'str' and 'int'",
     "output_type": "error",
     "traceback": [
      "\u001b[1;31m---------------------------------------------------------------------------\u001b[0m",
      "\u001b[1;31mTypeError\u001b[0m                                 Traceback (most recent call last)",
      "Cell \u001b[1;32mIn[100], line 15\u001b[0m\n\u001b[0;32m     12\u001b[0m     \u001b[38;5;28;01melse\u001b[39;00m:\n\u001b[0;32m     13\u001b[0m         \u001b[38;5;28;01mreturn\u001b[39;00m \u001b[38;5;124m'\u001b[39m\u001b[38;5;124mHoog (7.5–10)\u001b[39m\u001b[38;5;124m'\u001b[39m\n\u001b[1;32m---> 15\u001b[0m w_h[\u001b[38;5;124m'\u001b[39m\u001b[38;5;124mScore Category\u001b[39m\u001b[38;5;124m'\u001b[39m] \u001b[38;5;241m=\u001b[39m w_h[\u001b[38;5;124m'\u001b[39m\u001b[38;5;124mHappiness score\u001b[39m\u001b[38;5;124m'\u001b[39m]\u001b[38;5;241m.\u001b[39mapply(categoriseer)\n\u001b[0;32m     17\u001b[0m kleurenschema \u001b[38;5;241m=\u001b[39m {\n\u001b[0;32m     18\u001b[0m     \u001b[38;5;124m'\u001b[39m\u001b[38;5;124mZeer laag (0–4)\u001b[39m\u001b[38;5;124m'\u001b[39m: \u001b[38;5;124m'\u001b[39m\u001b[38;5;124mdarkred\u001b[39m\u001b[38;5;124m'\u001b[39m,\n\u001b[0;32m     19\u001b[0m     \u001b[38;5;124m'\u001b[39m\u001b[38;5;124mLaag (4–6)\u001b[39m\u001b[38;5;124m'\u001b[39m: \u001b[38;5;124m'\u001b[39m\u001b[38;5;124morange\u001b[39m\u001b[38;5;124m'\u001b[39m,\n\u001b[0;32m     20\u001b[0m     \u001b[38;5;124m'\u001b[39m\u001b[38;5;124mGemiddeld (6–7.5)\u001b[39m\u001b[38;5;124m'\u001b[39m: \u001b[38;5;124m'\u001b[39m\u001b[38;5;124mlightgreen\u001b[39m\u001b[38;5;124m'\u001b[39m,\n\u001b[0;32m     21\u001b[0m     \u001b[38;5;124m'\u001b[39m\u001b[38;5;124mHoog (7.5–10)\u001b[39m\u001b[38;5;124m'\u001b[39m: \u001b[38;5;124m'\u001b[39m\u001b[38;5;124mgreen\u001b[39m\u001b[38;5;124m'\u001b[39m\n\u001b[0;32m     22\u001b[0m }\n\u001b[0;32m     24\u001b[0m fig \u001b[38;5;241m=\u001b[39m px\u001b[38;5;241m.\u001b[39mchoropleth(\n\u001b[0;32m     25\u001b[0m     w_h,\n\u001b[0;32m     26\u001b[0m     locations\u001b[38;5;241m=\u001b[39m\u001b[38;5;124m'\u001b[39m\u001b[38;5;124mCountry\u001b[39m\u001b[38;5;124m'\u001b[39m,\n\u001b[1;32m   (...)\u001b[0m\n\u001b[0;32m     31\u001b[0m     title\u001b[38;5;241m=\u001b[39m\u001b[38;5;124m'\u001b[39m\u001b[38;5;130;01m\\U0001F30D\u001b[39;00m\u001b[38;5;124m Wereldkaart: Categorisatie van Happiness score (2015)\u001b[39m\u001b[38;5;124m'\u001b[39m\n\u001b[0;32m     32\u001b[0m )\n",
      "File \u001b[1;32m~\\anaconda3\\Lib\\site-packages\\pandas\\core\\series.py:4764\u001b[0m, in \u001b[0;36mSeries.apply\u001b[1;34m(self, func, convert_dtype, args, by_row, **kwargs)\u001b[0m\n\u001b[0;32m   4629\u001b[0m \u001b[38;5;28;01mdef\u001b[39;00m \u001b[38;5;21mapply\u001b[39m(\n\u001b[0;32m   4630\u001b[0m     \u001b[38;5;28mself\u001b[39m,\n\u001b[0;32m   4631\u001b[0m     func: AggFuncType,\n\u001b[1;32m   (...)\u001b[0m\n\u001b[0;32m   4636\u001b[0m     \u001b[38;5;241m*\u001b[39m\u001b[38;5;241m*\u001b[39mkwargs,\n\u001b[0;32m   4637\u001b[0m ) \u001b[38;5;241m-\u001b[39m\u001b[38;5;241m>\u001b[39m DataFrame \u001b[38;5;241m|\u001b[39m Series:\n\u001b[0;32m   4638\u001b[0m \u001b[38;5;250m    \u001b[39m\u001b[38;5;124;03m\"\"\"\u001b[39;00m\n\u001b[0;32m   4639\u001b[0m \u001b[38;5;124;03m    Invoke function on values of Series.\u001b[39;00m\n\u001b[0;32m   4640\u001b[0m \n\u001b[1;32m   (...)\u001b[0m\n\u001b[0;32m   4755\u001b[0m \u001b[38;5;124;03m    dtype: float64\u001b[39;00m\n\u001b[0;32m   4756\u001b[0m \u001b[38;5;124;03m    \"\"\"\u001b[39;00m\n\u001b[0;32m   4757\u001b[0m     \u001b[38;5;28;01mreturn\u001b[39;00m SeriesApply(\n\u001b[0;32m   4758\u001b[0m         \u001b[38;5;28mself\u001b[39m,\n\u001b[0;32m   4759\u001b[0m         func,\n\u001b[0;32m   4760\u001b[0m         convert_dtype\u001b[38;5;241m=\u001b[39mconvert_dtype,\n\u001b[0;32m   4761\u001b[0m         by_row\u001b[38;5;241m=\u001b[39mby_row,\n\u001b[0;32m   4762\u001b[0m         args\u001b[38;5;241m=\u001b[39margs,\n\u001b[0;32m   4763\u001b[0m         kwargs\u001b[38;5;241m=\u001b[39mkwargs,\n\u001b[1;32m-> 4764\u001b[0m     )\u001b[38;5;241m.\u001b[39mapply()\n",
      "File \u001b[1;32m~\\anaconda3\\Lib\\site-packages\\pandas\\core\\apply.py:1209\u001b[0m, in \u001b[0;36mSeriesApply.apply\u001b[1;34m(self)\u001b[0m\n\u001b[0;32m   1206\u001b[0m     \u001b[38;5;28;01mreturn\u001b[39;00m \u001b[38;5;28mself\u001b[39m\u001b[38;5;241m.\u001b[39mapply_compat()\n\u001b[0;32m   1208\u001b[0m \u001b[38;5;66;03m# self.func is Callable\u001b[39;00m\n\u001b[1;32m-> 1209\u001b[0m \u001b[38;5;28;01mreturn\u001b[39;00m \u001b[38;5;28mself\u001b[39m\u001b[38;5;241m.\u001b[39mapply_standard()\n",
      "File \u001b[1;32m~\\anaconda3\\Lib\\site-packages\\pandas\\core\\apply.py:1289\u001b[0m, in \u001b[0;36mSeriesApply.apply_standard\u001b[1;34m(self)\u001b[0m\n\u001b[0;32m   1283\u001b[0m \u001b[38;5;66;03m# row-wise access\u001b[39;00m\n\u001b[0;32m   1284\u001b[0m \u001b[38;5;66;03m# apply doesn't have a `na_action` keyword and for backward compat reasons\u001b[39;00m\n\u001b[0;32m   1285\u001b[0m \u001b[38;5;66;03m# we need to give `na_action=\"ignore\"` for categorical data.\u001b[39;00m\n\u001b[0;32m   1286\u001b[0m \u001b[38;5;66;03m# TODO: remove the `na_action=\"ignore\"` when that default has been changed in\u001b[39;00m\n\u001b[0;32m   1287\u001b[0m \u001b[38;5;66;03m#  Categorical (GH51645).\u001b[39;00m\n\u001b[0;32m   1288\u001b[0m action \u001b[38;5;241m=\u001b[39m \u001b[38;5;124m\"\u001b[39m\u001b[38;5;124mignore\u001b[39m\u001b[38;5;124m\"\u001b[39m \u001b[38;5;28;01mif\u001b[39;00m \u001b[38;5;28misinstance\u001b[39m(obj\u001b[38;5;241m.\u001b[39mdtype, CategoricalDtype) \u001b[38;5;28;01melse\u001b[39;00m \u001b[38;5;28;01mNone\u001b[39;00m\n\u001b[1;32m-> 1289\u001b[0m mapped \u001b[38;5;241m=\u001b[39m obj\u001b[38;5;241m.\u001b[39m_map_values(\n\u001b[0;32m   1290\u001b[0m     mapper\u001b[38;5;241m=\u001b[39mcurried, na_action\u001b[38;5;241m=\u001b[39maction, convert\u001b[38;5;241m=\u001b[39m\u001b[38;5;28mself\u001b[39m\u001b[38;5;241m.\u001b[39mconvert_dtype\n\u001b[0;32m   1291\u001b[0m )\n\u001b[0;32m   1293\u001b[0m \u001b[38;5;28;01mif\u001b[39;00m \u001b[38;5;28mlen\u001b[39m(mapped) \u001b[38;5;129;01mand\u001b[39;00m \u001b[38;5;28misinstance\u001b[39m(mapped[\u001b[38;5;241m0\u001b[39m], ABCSeries):\n\u001b[0;32m   1294\u001b[0m     \u001b[38;5;66;03m# GH#43986 Need to do list(mapped) in order to get treated as nested\u001b[39;00m\n\u001b[0;32m   1295\u001b[0m     \u001b[38;5;66;03m#  See also GH#25959 regarding EA support\u001b[39;00m\n\u001b[0;32m   1296\u001b[0m     \u001b[38;5;28;01mreturn\u001b[39;00m obj\u001b[38;5;241m.\u001b[39m_constructor_expanddim(\u001b[38;5;28mlist\u001b[39m(mapped), index\u001b[38;5;241m=\u001b[39mobj\u001b[38;5;241m.\u001b[39mindex)\n",
      "File \u001b[1;32m~\\anaconda3\\Lib\\site-packages\\pandas\\core\\base.py:921\u001b[0m, in \u001b[0;36mIndexOpsMixin._map_values\u001b[1;34m(self, mapper, na_action, convert)\u001b[0m\n\u001b[0;32m    918\u001b[0m \u001b[38;5;28;01mif\u001b[39;00m \u001b[38;5;28misinstance\u001b[39m(arr, ExtensionArray):\n\u001b[0;32m    919\u001b[0m     \u001b[38;5;28;01mreturn\u001b[39;00m arr\u001b[38;5;241m.\u001b[39mmap(mapper, na_action\u001b[38;5;241m=\u001b[39mna_action)\n\u001b[1;32m--> 921\u001b[0m \u001b[38;5;28;01mreturn\u001b[39;00m algorithms\u001b[38;5;241m.\u001b[39mmap_array(arr, mapper, na_action\u001b[38;5;241m=\u001b[39mna_action, convert\u001b[38;5;241m=\u001b[39mconvert)\n",
      "File \u001b[1;32m~\\anaconda3\\Lib\\site-packages\\pandas\\core\\algorithms.py:1814\u001b[0m, in \u001b[0;36mmap_array\u001b[1;34m(arr, mapper, na_action, convert)\u001b[0m\n\u001b[0;32m   1812\u001b[0m values \u001b[38;5;241m=\u001b[39m arr\u001b[38;5;241m.\u001b[39mastype(\u001b[38;5;28mobject\u001b[39m, copy\u001b[38;5;241m=\u001b[39m\u001b[38;5;28;01mFalse\u001b[39;00m)\n\u001b[0;32m   1813\u001b[0m \u001b[38;5;28;01mif\u001b[39;00m na_action \u001b[38;5;129;01mis\u001b[39;00m \u001b[38;5;28;01mNone\u001b[39;00m:\n\u001b[1;32m-> 1814\u001b[0m     \u001b[38;5;28;01mreturn\u001b[39;00m lib\u001b[38;5;241m.\u001b[39mmap_infer(values, mapper, convert\u001b[38;5;241m=\u001b[39mconvert)\n\u001b[0;32m   1815\u001b[0m \u001b[38;5;28;01melse\u001b[39;00m:\n\u001b[0;32m   1816\u001b[0m     \u001b[38;5;28;01mreturn\u001b[39;00m lib\u001b[38;5;241m.\u001b[39mmap_infer_mask(\n\u001b[0;32m   1817\u001b[0m         values, mapper, mask\u001b[38;5;241m=\u001b[39misna(values)\u001b[38;5;241m.\u001b[39mview(np\u001b[38;5;241m.\u001b[39muint8), convert\u001b[38;5;241m=\u001b[39mconvert\n\u001b[0;32m   1818\u001b[0m     )\n",
      "File \u001b[1;32mlib.pyx:2926\u001b[0m, in \u001b[0;36mpandas._libs.lib.map_infer\u001b[1;34m()\u001b[0m\n",
      "Cell \u001b[1;32mIn[100], line 6\u001b[0m, in \u001b[0;36mcategoriseer\u001b[1;34m(score)\u001b[0m\n\u001b[0;32m      5\u001b[0m \u001b[38;5;28;01mdef\u001b[39;00m \u001b[38;5;21mcategoriseer\u001b[39m(score):\n\u001b[1;32m----> 6\u001b[0m     \u001b[38;5;28;01mif\u001b[39;00m score \u001b[38;5;241m<\u001b[39m \u001b[38;5;241m4\u001b[39m:\n\u001b[0;32m      7\u001b[0m         \u001b[38;5;28;01mreturn\u001b[39;00m \u001b[38;5;124m'\u001b[39m\u001b[38;5;124mZeer laag (0–4)\u001b[39m\u001b[38;5;124m'\u001b[39m\n\u001b[0;32m      8\u001b[0m     \u001b[38;5;28;01melif\u001b[39;00m score \u001b[38;5;241m<\u001b[39m \u001b[38;5;241m6\u001b[39m:\n",
      "\u001b[1;31mTypeError\u001b[0m: '<' not supported between instances of 'str' and 'int'"
     ]
    }
   ],
   "source": [
    "# 2. Wereldkaart (Data 1)\n",
    "# Landen zijn gekleurd volgens hun gemiddelde geluksindex.\n",
    "# Toont de wereldwijde verdeling van geluk.\n",
    "\n",
    "def categoriseer(score):\n",
    "    if score < 4:\n",
    "        return 'Zeer laag (0–4)'\n",
    "    elif score < 6:\n",
    "        return 'Laag (4–6)'\n",
    "    elif score < 7.5:\n",
    "        return 'Gemiddeld (6–7.5)'\n",
    "    else:\n",
    "        return 'Hoog (7.5–10)'\n",
    "\n",
    "w_h['Score Category'] = w_h['Happiness score'].apply(categoriseer)\n",
    "\n",
    "kleurenschema = {\n",
    "    'Zeer laag (0–4)': 'darkred',\n",
    "    'Laag (4–6)': 'orange',\n",
    "    'Gemiddeld (6–7.5)': 'lightgreen',\n",
    "    'Hoog (7.5–10)': 'green'\n",
    "}\n",
    "\n",
    "fig = px.choropleth(\n",
    "    w_h,\n",
    "    locations='Country',\n",
    "    locationmode='country names',\n",
    "    color='Score Category',\n",
    "    hover_name='Country',\n",
    "    color_discrete_map=kleurenschema,\n",
    "    title='\\U0001F30D Wereldkaart: Categorisatie van Happiness score (2015)'\n",
    ")\n",
    "\n",
    "fig.update_layout(\n",
    "    title_font=dict(size=20),\n",
    "    geo=dict(\n",
    "        showframe=False,\n",
    "        showcoastlines=True,\n",
    "        projection_type='equirectangular',\n",
    "        landcolor='lightgray'\n",
    "    ),\n",
    "    margin=dict(l=0, r=0, t=40, b=0)\n",
    ")\n",
    "\n",
    "fig.show()"
   ]
  },
  {
   "cell_type": "code",
   "execution_count": 67,
   "id": "d081d45e-5a62-4a58-818e-3a84bb0c25a8",
   "metadata": {},
   "outputs": [
    {
     "data": {
      "image/png": "[encoded data removed]",
      "text/plain": [
       "<Figure size 1200x600 with 1 Axes>"
      ]
     },
     "metadata": {},
     "output_type": "display_data"
    }
   ],
   "source": [
    "# 3. Tijdlijn van psychische stoornissen (Data 2)\n",
    "# Toont de evolutie van depressie- en angstpercentages tussen 1990 en 2019.\n",
    "\n",
    "land = 'Afghanistan'\n",
    "df_land = df[df['Entity'] == land]\n",
    "\n",
    "depressie_col = 'Depressive disorders (share of population) - Sex: Both - Age: Age-standardized'\n",
    "angst_col = 'Anxiety disorders (share of population) - Sex: Both - Age: Age-standardized'\n",
    "\n",
    "plt.figure(figsize=(12, 6))\n",
    "plt.plot(df_land['Year'], df_land[depressie_col], label='Depressie (%)', marker='o')\n",
    "plt.plot(df_land['Year'], df_land[angst_col], label='Angst (%)', marker='s')\n",
    "\n",
    "plt.title(f'Evolutie van Depressie en Angst in {land} (1990–2019)', fontsize=14)\n",
    "plt.xlabel('Jaar')\n",
    "plt.ylabel('Percentage van bevolking (%)')\n",
    "plt.grid(True)\n",
    "plt.legend()\n",
    "plt.tight_layout()\n",
    "plt.show()\n"
   ]
  },
  {
   "cell_type": "code",
   "execution_count": 68,
   "id": "22b6d8c9-1d6e-43fd-9c36-4075231637ef",
   "metadata": {},
   "outputs": [
    {
     "data": {
      "application/vnd.plotly.v1+json": {
       "config": {
        "plotlyServerURL": "https://plot.ly"
       },
       "data": [
        {
         "hovertemplate": "<b>%{hovertext}</b><br><br>Depressie (%)=%{marker.color}<br>Angst (%)=%{y}<extra></extra>",
         "hovertext": [
          "Afghanistan",
          "Africa (IHME GBD)",
          "Albania",
          "Algeria",
          "America (IHME GBD)",
          "American Samoa",
          "Andorra",
          "Angola",
          "Antigua and Barbuda",
          "Argentina",
          "Armenia",
          "Asia (IHME GBD)",
          "Australia",
          "Austria",
          "Azerbaijan",
          "Bahamas",
          "Bahrain",
          "Bangladesh",
          "Barbados",
          "Belarus",
          "Belgium",
          "Belize",
          "Benin",
          "Bermuda",
          "Bhutan",
          "Bolivia",
          "Bosnia and Herzegovina",
          "Botswana",
          "Brazil",
          "Brunei",
          "Bulgaria",
          "Burkina Faso",
          "Burundi",
          "Cambodia",
          "Cameroon",
          "Canada",
          "Cape Verde",
          "Central African Republic",
          "Chad",
          "Chile",
          "China",
          "Colombia",
          "Comoros",
          "Congo",
          "Cook Islands",
          "Costa Rica",
          "Cote d'Ivoire",
          "Croatia",
          "Cuba",
          "Cyprus",
          "Czechia",
          "Democratic Republic of Congo",
          "Denmark",
          "Djibouti",
          "Dominica",
          "Dominican Republic",
          "East Timor",
          "Ecuador",
          "Egypt",
          "El Salvador",
          "Equatorial Guinea",
          "Eritrea",
          "Estonia",
          "Eswatini",
          "Ethiopia",
          "Europe (IHME GBD)",
          "European Union (27)",
          "Fiji",
          "Finland",
          "France",
          "Gabon",
          "Gambia",
          "Georgia",
          "Germany",
          "Ghana",
          "Greece",
          "Greenland",
          "Grenada",
          "Guam",
          "Guatemala",
          "Guinea",
          "Guinea-Bissau",
          "Guyana",
          "Haiti",
          "High-income countries",
          "Honduras",
          "Hungary",
          "Iceland",
          "India",
          "Indonesia",
          "Iran",
          "Iraq",
          "Ireland",
          "Israel",
          "Italy",
          "Jamaica",
          "Japan",
          "Jordan",
          "Kazakhstan",
          "Kenya",
          "Kiribati",
          "Kuwait",
          "Kyrgyzstan",
          "Laos",
          "Latvia",
          "Lebanon",
          "Lesotho",
          "Liberia",
          "Libya",
          "Lithuania",
          "Low-income countries",
          "Lower-middle-income countries",
          "Luxembourg",
          "Madagascar",
          "Malawi",
          "Malaysia",
          "Maldives",
          "Mali",
          "Malta",
          "Marshall Islands",
          "Mauritania",
          "Mauritius",
          "Mexico",
          "Micronesia (country)",
          "Moldova",
          "Monaco",
          "Mongolia",
          "Montenegro",
          "Morocco",
          "Mozambique",
          "Myanmar",
          "Namibia",
          "Nauru",
          "Nepal",
          "Netherlands",
          "New Zealand",
          "Nicaragua",
          "Niger",
          "Nigeria",
          "Niue",
          "North Korea",
          "North Macedonia",
          "Northern Mariana Islands",
          "Norway",
          "Oman",
          "Pakistan",
          "Palau",
          "Palestine",
          "Panama",
          "Papua New Guinea",
          "Paraguay",
          "Peru",
          "Philippines",
          "Poland",
          "Portugal",
          "Puerto Rico",
          "Qatar",
          "Romania",
          "Russia",
          "Rwanda",
          "Saint Kitts and Nevis",
          "Saint Lucia",
          "Saint Vincent and the Grenadines",
          "Samoa",
          "San Marino",
          "Sao Tome and Principe",
          "Saudi Arabia",
          "Senegal",
          "Serbia",
          "Seychelles",
          "Sierra Leone",
          "Singapore",
          "Slovakia",
          "Slovenia",
          "Solomon Islands",
          "Somalia",
          "South Africa",
          "South Korea",
          "South Sudan",
          "Spain",
          "Sri Lanka",
          "Sudan",
          "Suriname",
          "Sweden",
          "Switzerland",
          "Syria",
          "Taiwan",
          "Tajikistan",
          "Tanzania",
          "Thailand",
          "Togo",
          "Tokelau",
          "Tonga",
          "Trinidad and Tobago",
          "Tunisia",
          "Turkey",
          "Turkmenistan",
          "Tuvalu",
          "Uganda",
          "Ukraine",
          "United Arab Emirates",
          "United Kingdom",
          "United States",
          "United States Virgin Islands",
          "Upper-middle-income countries",
          "Uruguay",
          "Uzbekistan",
          "Vanuatu",
          "Venezuela",
          "Vietnam",
          "World",
          "Yemen",
          "Zambia",
          "Zimbabwe"
         ],
         "legendgroup": "",
         "marker": {
          "color": [
           4.945168,
           4.462034,
           2.4602032,
           4.1296806,
           3.6074004,
           2.659042,
           3.6072073,
           5.7441936,
           3.0286796,
           2.4075098,
           2.9836516,
           3.1961586,
           4.382458,
           3.125201,
           2.7526312,
           3.0623364,
           4.5280886,
           4.6198096,
           3.1782775,
           3.824539,
           3.5420222,
           3.309065,
           4.447893,
           3.177548,
           4.024815,
           3.3994322,
           2.7624497,
           4.2572603,
           3.8015563,
           1.6031243,
           2.6916606,
           4.378302,
           4.705153,
           2.9500995,
           4.6046395,
           3.2904658,
           4.8429317,
           5.9238467,
           5.1334114,
           3.6435125,
           2.7240157,
           2.2196279,
           4.2631598,
           5.5257406,
           3.1608856,
           3.2132857,
           3.9350774,
           3.0076077,
           3.802294,
           3.1127021,
           2.878852,
           5.44306,
           3.4828994,
           4.4612656,
           3.0847688,
           3.8231027,
           2.804642,
           3.3306973,
           3.9397578,
           3.4073691,
           5.728945,
           4.841218,
           3.6936426,
           4.4255295,
           4.64972,
           3.5443268,
           3.6144438,
           2.917755,
           4.139295,
           3.835741,
           5.5459714,
           5.5018787,
           3.3233132,
           3.3767943,
           4.3620286,
           5.0422506,
           5.835712,
           3.23476,
           3.1972318,
           3.6679313,
           4.3731165,
           4.4942803,
           4.927692,
           3.6351175,
           3.6410694,
           3.1551142,
           2.8233702,
           2.9365938,
           3.6598387,
           2.4184713,
           4.860692,
           3.9326482,
           4.2169313,
           4.127255,
           3.561658,
           3.0646706,
           2.1032803,
           4.15211,
           3.4412057,
           4.723163,
           2.9703078,
           4.0603004,
           3.3816984,
           2.7468913,
           3.7478287,
           4.652712,
           5.511564,
           4.556289,
           4.406427,
           3.9911947,
           4.6618643,
           3.6115844,
           3.2193074,
           4.737187,
           4.100136,
           3.6630948,
           2.9122725,
           3.5413845,
           3.1311812,
           2.8873966,
           3.6558447,
           3.8047628,
           3.5358298,
           2.909947,
           3.22074,
           4.0564504,
           3.9632094,
           2.8178656,
           5.07854,
           4.992671,
           2.1933033,
           3.6164615,
           3.1496468,
           4.8975983,
           3.5344012,
           3.7238638,
           3.2548654,
           4.235215,
           3.8173978,
           3.1407,
           2.6769247,
           2.570906,
           2.780081,
           3.2382026,
           3.962998,
           3.9425256,
           3.089023,
           6.1989517,
           2.9369144,
           3.072686,
           3.6945765,
           2.2116694,
           2.779254,
           2.2779574,
           4.3940663,
           2.8828056,
           3.9513783,
           2.6501622,
           3.0799155,
           5.0970206,
           3.9269922,
           3.3162744,
           3.3676143,
           2.8027563,
           4.0918827,
           3.7094643,
           4.216069,
           4.0294,
           2.814907,
           2.644615,
           4.392157,
           2.0081315,
           2.695262,
           3.1152232,
           3.0039446,
           4.84665,
           4.298678,
           2.091181,
           4.749942,
           4.704455,
           2.8662298,
           4.4230967,
           4.6881685,
           4.116486,
           3.705447,
           4.132855,
           2.564065,
           2.8172803,
           4.651242,
           2.847038,
           4.5008154,
           3.1222134,
           2.6947968,
           3.82637,
           5.049405,
           3.9422681,
           3.0497415,
           3.1250875,
           6.5845194,
           3.8973033,
           3.5784907,
           4.0975676,
           4.375998,
           3.3567483,
           3.1256948,
           2.840908,
           3.164448,
           2.9744234,
           3.2147944,
           2.473061,
           3.4400527,
           4.8953676,
           4.2194896,
           3.3954756
          ],
          "coloraxis": "coloraxis",
          "symbol": "circle"
         },
         "mode": "markers",
         "name": "",
         "orientation": "v",
         "showlegend": false,
         "type": "scatter",
         "x": [
          4.945168,
          4.462034,
          2.4602032,
          4.1296806,
          3.6074004,
          2.659042,
          3.6072073,
          5.7441936,
          3.0286796,
          2.4075098,
          2.9836516,
          3.1961586,
          4.382458,
          3.125201,
          2.7526312,
          3.0623364,
          4.5280886,
          4.6198096,
          3.1782775,
          3.824539,
          3.5420222,
          3.309065,
          4.447893,
          3.177548,
          4.024815,
          3.3994322,
          2.7624497,
          4.2572603,
          3.8015563,
          1.6031243,
          2.6916606,
          4.378302,
          4.705153,
          2.9500995,
          4.6046395,
          3.2904658,
          4.8429317,
          5.9238467,
          5.1334114,
          3.6435125,
          2.7240157,
          2.2196279,
          4.2631598,
          5.5257406,
          3.1608856,
          3.2132857,
          3.9350774,
          3.0076077,
          3.802294,
          3.1127021,
          2.878852,
          5.44306,
          3.4828994,
          4.4612656,
          3.0847688,
          3.8231027,
          2.804642,
          3.3306973,
          3.9397578,
          3.4073691,
          5.728945,
          4.841218,
          3.6936426,
          4.4255295,
          4.64972,
          3.5443268,
          3.6144438,
          2.917755,
          4.139295,
          3.835741,
          5.5459714,
          5.5018787,
          3.3233132,
          3.3767943,
          4.3620286,
          5.0422506,
          5.835712,
          3.23476,
          3.1972318,
          3.6679313,
          4.3731165,
          4.4942803,
          4.927692,
          3.6351175,
          3.6410694,
          3.1551142,
          2.8233702,
          2.9365938,
          3.6598387,
          2.4184713,
          4.860692,
          3.9326482,
          4.2169313,
          4.127255,
          3.561658,
          3.0646706,
          2.1032803,
          4.15211,
          3.4412057,
          4.723163,
          2.9703078,
          4.0603004,
          3.3816984,
          2.7468913,
          3.7478287,
          4.652712,
          5.511564,
          4.556289,
          4.406427,
          3.9911947,
          4.6618643,
          3.6115844,
          3.2193074,
          4.737187,
          4.100136,
          3.6630948,
          2.9122725,
          3.5413845,
          3.1311812,
          2.8873966,
          3.6558447,
          3.8047628,
          3.5358298,
          2.909947,
          3.22074,
          4.0564504,
          3.9632094,
          2.8178656,
          5.07854,
          4.992671,
          2.1933033,
          3.6164615,
          3.1496468,
          4.8975983,
          3.5344012,
          3.7238638,
          3.2548654,
          4.235215,
          3.8173978,
          3.1407,
          2.6769247,
          2.570906,
          2.780081,
          3.2382026,
          3.962998,
          3.9425256,
          3.089023,
          6.1989517,
          2.9369144,
          3.072686,
          3.6945765,
          2.2116694,
          2.779254,
          2.2779574,
          4.3940663,
          2.8828056,
          3.9513783,
          2.6501622,
          3.0799155,
          5.0970206,
          3.9269922,
          3.3162744,
          3.3676143,
          2.8027563,
          4.0918827,
          3.7094643,
          4.216069,
          4.0294,
          2.814907,
          2.644615,
          4.392157,
          2.0081315,
          2.695262,
          3.1152232,
          3.0039446,
          4.84665,
          4.298678,
          2.091181,
          4.749942,
          4.704455,
          2.8662298,
          4.4230967,
          4.6881685,
          4.116486,
          3.705447,
          4.132855,
          2.564065,
          2.8172803,
          4.651242,
          2.847038,
          4.5008154,
          3.1222134,
          2.6947968,
          3.82637,
          5.049405,
          3.9422681,
          3.0497415,
          3.1250875,
          6.5845194,
          3.8973033,
          3.5784907,
          4.0975676,
          4.375998,
          3.3567483,
          3.1256948,
          2.840908,
          3.164448,
          2.9744234,
          3.2147944,
          2.473061,
          3.4400527,
          4.8953676,
          4.2194896,
          3.3954756
         ],
         "xaxis": "x",
         "y": [
          4.8510346,
          3.699605,
          3.8375373,
          4.771976,
          5.4921436,
          4.044245,
          5.45341,
          3.9340954,
          4.3341727,
          4.982973,
          3.1505976,
          3.258719,
          5.8151646,
          6.0064344,
          2.4775383,
          4.3490176,
          4.937836,
          3.1809232,
          4.328706,
          3.4831994,
          5.04724,
          4.1840634,
          3.2288494,
          4.329229,
          3.2678254,
          5.7405457,
          3.5371947,
          3.5533912,
          7.410114,
          2.856928,
          3.3973696,
          3.116734,
          3.6385643,
          4.579762,
          3.1999922,
          4.3206058,
          3.0854897,
          4.405564,
          3.3696513,
          5.4619493,
          3.1641822,
          4.701662,
          3.554554,
          3.7367034,
          4.08579,
          4.195216,
          3.2402778,
          3.5950115,
          4.2468786,
          6.4671764,
          3.1539073,
          3.8151321,
          4.873904,
          3.25465,
          4.2796836,
          4.50035,
          3.7955263,
          5.2311482,
          4.5883927,
          4.4097867,
          3.80493,
          3.7323155,
          3.3788164,
          3.4919646,
          3.4656384,
          4.5646415,
          5.161444,
          4.039825,
          3.9931211,
          6.2742558,
          3.9851205,
          3.3126862,
          2.4950473,
          6.208145,
          3.0005414,
          5.7790413,
          4.8561225,
          4.2821164,
          4.013985,
          4.263226,
          3.3388844,
          3.0934513,
          4.3815017,
          4.635318,
          4.8858933,
          4.090965,
          3.4067228,
          5.1037683,
          2.9674358,
          3.5480037,
          7.26808,
          5.33799,
          6.9078193,
          3.7392616,
          5.5624604,
          4.0547247,
          2.3241255,
          4.933855,
          2.1156304,
          3.41804,
          4.098131,
          4.599968,
          2.0599196,
          4.5706754,
          3.748034,
          6.0510345,
          3.5554914,
          3.5066519,
          5.324334,
          4.2541876,
          3.6828394,
          3.3327048,
          5.2770224,
          3.9632103,
          3.8456526,
          4.5992527,
          3.5796337,
          2.7260087,
          6.2475963,
          4.0164247,
          2.7462342,
          3.8150282,
          3.5132816,
          4.0343943,
          4.078755,
          5.501611,
          2.1429229,
          3.6586478,
          4.7997293,
          4.035234,
          3.9770174,
          3.49189,
          4.0565453,
          3.2773163,
          6.7548013,
          7.263469,
          4.3657975,
          2.9678462,
          2.9917774,
          4.0224557,
          3.61212,
          3.5915322,
          4.0044084,
          6.7358413,
          4.61154,
          3.474194,
          3.9466903,
          5.5458045,
          3.6566825,
          3.995107,
          6.304892,
          5.551791,
          4.563437,
          3.082497,
          8.02761,
          4.442561,
          4.26387,
          3.2856169,
          3.1336958,
          3.6533618,
          4.308869,
          4.307126,
          4.2993255,
          4.027854,
          5.542622,
          3.0837884,
          4.5544286,
          2.8934357,
          3.33539,
          3.7375588,
          3.6633224,
          2.7080863,
          3.4256656,
          3.3891728,
          4.0285625,
          3.2728631,
          3.786144,
          3.2213244,
          4.9776773,
          4.8611727,
          4.0355477,
          4.745971,
          4.141955,
          4.795127,
          6.79061,
          5.60757,
          3.6654854,
          2.4035394,
          3.8125863,
          3.399738,
          3.592497,
          4.0038543,
          4.062976,
          3.8713686,
          5.164141,
          4.513604,
          2.3415134,
          4.007321,
          4.080157,
          3.133128,
          4.243272,
          4.4602027,
          5.6977477,
          4.365093,
          3.933253,
          5.1539445,
          2.0256548,
          4.02928,
          3.9995134,
          2.2873394,
          3.779522,
          4.7837157,
          3.9692068,
          3.1370168
         ],
         "yaxis": "y"
        },
        {
         "hovertemplate": "<b>OLS trendline</b><br>Anxiety disorders (share of population) - Sex: Both - Age: Age-standardized = 0.162676 * Depressive disorders (share of population) - Sex: Both - Age: Age-standardized + 3.55414<br>R<sup>2</sup>=0.018266<br><br>Depressie (%)=%{x}<br>Angst (%)=%{y} <b>(trend)</b><extra></extra>",
         "legendgroup": "",
         "marker": {
          "symbol": "circle"
         },
         "mode": "lines",
         "name": "",
         "showlegend": false,
         "type": "scatter",
         "x": [
          1.6031243,
          2.0081315,
          2.091181,
          2.1032803,
          2.1933033,
          2.2116694,
          2.2196279,
          2.2779574,
          2.4075098,
          2.4184713,
          2.4602032,
          2.473061,
          2.564065,
          2.570906,
          2.644615,
          2.6501622,
          2.659042,
          2.6769247,
          2.6916606,
          2.6947968,
          2.695262,
          2.7240157,
          2.7468913,
          2.7526312,
          2.7624497,
          2.779254,
          2.780081,
          2.8027563,
          2.804642,
          2.814907,
          2.8172803,
          2.8178656,
          2.8233702,
          2.840908,
          2.847038,
          2.8662298,
          2.878852,
          2.8828056,
          2.8873966,
          2.909947,
          2.9122725,
          2.917755,
          2.9365938,
          2.9369144,
          2.9500995,
          2.9703078,
          2.9744234,
          2.9836516,
          3.0039446,
          3.0076077,
          3.0286796,
          3.0497415,
          3.0623364,
          3.0646706,
          3.072686,
          3.0799155,
          3.0847688,
          3.089023,
          3.1127021,
          3.1152232,
          3.1222134,
          3.1250875,
          3.125201,
          3.1256948,
          3.1311812,
          3.1407,
          3.1496468,
          3.1551142,
          3.1608856,
          3.164448,
          3.177548,
          3.1782775,
          3.1961586,
          3.1972318,
          3.2132857,
          3.2147944,
          3.2193074,
          3.22074,
          3.23476,
          3.2382026,
          3.2548654,
          3.2904658,
          3.309065,
          3.3162744,
          3.3233132,
          3.3306973,
          3.3567483,
          3.3676143,
          3.3767943,
          3.3816984,
          3.3954756,
          3.3994322,
          3.4073691,
          3.4400527,
          3.4412057,
          3.4828994,
          3.5344012,
          3.5358298,
          3.5413845,
          3.5420222,
          3.5443268,
          3.561658,
          3.5784907,
          3.6072073,
          3.6074004,
          3.6115844,
          3.6144438,
          3.6164615,
          3.6351175,
          3.6410694,
          3.6435125,
          3.6558447,
          3.6598387,
          3.6630948,
          3.6679313,
          3.6936426,
          3.6945765,
          3.705447,
          3.7094643,
          3.7238638,
          3.7478287,
          3.8015563,
          3.802294,
          3.8047628,
          3.8173978,
          3.8231027,
          3.824539,
          3.82637,
          3.835741,
          3.8973033,
          3.9269922,
          3.9326482,
          3.9350774,
          3.9397578,
          3.9422681,
          3.9425256,
          3.9513783,
          3.962998,
          3.9632094,
          3.9911947,
          4.024815,
          4.0294,
          4.0564504,
          4.0603004,
          4.0918827,
          4.0975676,
          4.100136,
          4.116486,
          4.127255,
          4.1296806,
          4.132855,
          4.139295,
          4.15211,
          4.216069,
          4.2169313,
          4.2194896,
          4.235215,
          4.2572603,
          4.2631598,
          4.298678,
          4.3620286,
          4.3731165,
          4.375998,
          4.378302,
          4.382458,
          4.392157,
          4.3940663,
          4.406427,
          4.4230967,
          4.4255295,
          4.447893,
          4.4612656,
          4.462034,
          4.4942803,
          4.5008154,
          4.5280886,
          4.556289,
          4.6046395,
          4.6198096,
          4.64972,
          4.651242,
          4.652712,
          4.6618643,
          4.6881685,
          4.704455,
          4.705153,
          4.723163,
          4.737187,
          4.749942,
          4.841218,
          4.8429317,
          4.84665,
          4.860692,
          4.8953676,
          4.8975983,
          4.927692,
          4.945168,
          4.992671,
          5.0422506,
          5.049405,
          5.07854,
          5.0970206,
          5.1334114,
          5.44306,
          5.5018787,
          5.511564,
          5.5257406,
          5.5459714,
          5.728945,
          5.7441936,
          5.835712,
          5.9238467,
          6.1989517,
          6.5845194
         ],
         "xaxis": "x",
         "y": [
          3.814928153129458,
          3.880813169087081,
          3.894323342814295,
          3.896291610473675,
          3.9109362064007427,
          3.913923933017897,
          3.9152185912350816,
          3.924707410293854,
          3.9457824972092186,
          3.9475656719340617,
          3.9543544571641562,
          3.9564461146906886,
          3.971250295930448,
          3.972363163539138,
          3.9843538605964257,
          3.9852562577896613,
          3.9867007895528013,
          3.989609878514344,
          3.9920070581364593,
          3.992517243108594,
          3.9925929200580987,
          3.99727046155203,
          4.000991776311471,
          4.001925521200686,
          4.003522757074962,
          4.006256416065855,
          4.006390949249949,
          4.010079679974598,
          4.010386438408994,
          4.012056309188588,
          4.012442388518467,
          4.012537602874755,
          4.013433070063586,
          4.016286052017639,
          4.017283256876763,
          4.020405305199004,
          4.022458636222305,
          4.023101792687401,
          4.023848638936705,
          4.027517051409004,
          4.027895354818448,
          4.028787226864149,
          4.031851850502006,
          4.031904004478815,
          4.034048905912426,
          4.0373363145510295,
          4.038005824554,
          4.039507032691189,
          4.042808220000521,
          4.043404119041215,
          4.046832014811359,
          4.050258283819904,
          4.052307173784045,
          4.052686892476078,
          4.053990806966751,
          4.055166874263494,
          4.055956390469495,
          4.056648447388204,
          4.060500472441986,
          4.060910595308274,
          4.062047734199994,
          4.062515281750664,
          4.062533745494793,
          4.062614074982466,
          4.06350658146519,
          4.065055063294396,
          4.066510494360238,
          4.067399909995927,
          4.068338779184173,
          4.068918296735583,
          4.071049354428002,
          4.0711680266865224,
          4.07407685536621,
          4.074251439420828,
          4.076863026221463,
          4.077108455743643,
          4.077842613252488,
          4.078075663118913,
          4.080356382878279,
          4.080916411825754,
          4.083627052140047,
          4.089418388496778,
          4.092444034926765,
          4.093616832432698,
          4.094761877385781,
          4.095963094416819,
          4.100200971053856,
          4.101968610205446,
          4.103461977351736,
          4.10425975750665,
          4.106500979494436,
          4.1071446239880105,
          4.1084357684001445,
          4.113752610934185,
          4.1139401765463495,
          4.120722747547142,
          4.12910086259015,
          4.129333261751935,
          4.130236879016368,
          4.130340617603426,
          4.130715521081132,
          4.133534894140586,
          4.136273173134415,
          4.14094467934282,
          4.1409760921092635,
          4.14165672916156,
          4.142121885372682,
          4.142450117060163,
          4.145485003496022,
          4.146453235731099,
          4.146850669856926,
          4.148856824793906,
          4.149506553375855,
          4.150036243219541,
          4.150823026466059,
          4.155005642011637,
          4.1551575652772055,
          4.156925936471514,
          4.1575794554079835,
          4.159921910769967,
          4.163820428670198,
          4.172560628309525,
          4.172680634512556,
          4.173082249415689,
          4.175137662693834,
          4.176065713917459,
          4.176299365685674,
          4.176597225734133,
          4.178121664026931,
          4.188136382574868,
          4.192966058813375,
          4.193886155172788,
          4.194281328099996,
          4.195042717597981,
          4.195451083561743,
          4.195492972672872,
          4.196933095912084,
          4.198823344085259,
          4.198857733825426,
          4.203410274958222,
          4.208879496251078,
          4.209625366443425,
          4.214025821634493,
          4.21465212484944,
          4.219789812128774,
          4.220714609829203,
          4.221132427277845,
          4.223792182489375,
          4.225544042053471,
          4.225938629346504,
          4.22645502854794,
          4.227502663016579,
          4.229587358003475,
          4.239991962503429,
          4.240132238155962,
          4.24054841257539,
          4.243106560257555,
          4.246692805001576,
          4.247652513005883,
          4.253430477382284,
          4.2637361097066595,
          4.2655398466980925,
          4.266008598052345,
          4.266383403924355,
          4.267059486044178,
          4.268637282117367,
          4.268947879709133,
          4.270958670916665,
          4.273670433696459,
          4.274066192257843,
          4.277704200555888,
          4.279879603769448,
          4.280004604130582,
          4.285250308379974,
          4.286313413351404,
          4.2907501127908585,
          4.2953376455656125,
          4.303203119226474,
          4.305670932837142,
          4.310536641845029,
          4.310784234960132,
          4.311023368914931,
          4.312512229931596,
          4.316791296172276,
          4.3194407214476644,
          4.319554269407154,
          4.322484067043829,
          4.3247654375078355,
          4.326840371925148,
          4.341688801080353,
          4.341967579215277,
          4.342572457979988,
          4.344856756614869,
          4.350497650059085,
          4.3508605317685864,
          4.355756059316551,
          4.358598987883933,
          4.3663265934994255,
          4.374392012428206,
          4.375555862745355,
          4.380295432658989,
          4.383301785696433,
          4.389221701289811,
          4.439594146402529,
          4.4491625466386395,
          4.450738114048439,
          4.45304430889442,
          4.456335377746617,
          4.486100820325968,
          4.488581404015175,
          4.503469265871498,
          4.517806680406154,
          4.56255970532774,
          4.625282378078357
         ],
         "yaxis": "y"
        }
       ],
       "layout": {
        "autosize": true,
        "coloraxis": {
         "colorbar": {
          "title": {
           "text": "Depressie (%)"
          }
         },
         "colorscale": [
          [
           0,
           "rgb(0,0,255)"
          ],
          [
           1,
           "rgb(255,0,0)"
          ]
         ]
        },
        "legend": {
         "tracegroupgap": 0
        },
        "margin": {
         "b": 40,
         "l": 40,
         "r": 20,
         "t": 60
        },
        "plot_bgcolor": "white",
        "template": {
         "data": {
          "bar": [
           {
            "error_x": {
             "color": "#2a3f5f"
            },
            "error_y": {
             "color": "#2a3f5f"
            },
            "marker": {
             "line": {
              "color": "#E5ECF6",
              "width": 0.5
             },
             "pattern": {
              "fillmode": "overlay",
              "size": 10,
              "solidity": 0.2
             }
            },
            "type": "bar"
           }
          ],
          "barpolar": [
           {
            "marker": {
             "line": {
              "color": "#E5ECF6",
              "width": 0.5
             },
             "pattern": {
              "fillmode": "overlay",
              "size": 10,
              "solidity": 0.2
             }
            },
            "type": "barpolar"
           }
          ],
          "carpet": [
           {
            "aaxis": {
             "endlinecolor": "#2a3f5f",
             "gridcolor": "white",
             "linecolor": "white",
             "minorgridcolor": "white",
             "startlinecolor": "#2a3f5f"
            },
            "baxis": {
             "endlinecolor": "#2a3f5f",
             "gridcolor": "white",
             "linecolor": "white",
             "minorgridcolor": "white",
             "startlinecolor": "#2a3f5f"
            },
            "type": "carpet"
           }
          ],
          "choropleth": [
           {
            "colorbar": {
             "outlinewidth": 0,
             "ticks": ""
            },
            "type": "choropleth"
           }
          ],
          "contour": [
           {
            "colorbar": {
             "outlinewidth": 0,
             "ticks": ""
            },
            "colorscale": [
             [
              0,
              "#0d0887"
             ],
             [
              0.1111111111111111,
              "#46039f"
             ],
             [
              0.2222222222222222,
              "#7201a8"
             ],
             [
              0.3333333333333333,
              "#9c179e"
             ],
             [
              0.4444444444444444,
              "#bd3786"
             ],
             [
              0.5555555555555556,
              "#d8576b"
             ],
             [
              0.6666666666666666,
              "#ed7953"
             ],
             [
              0.7777777777777778,
              "#fb9f3a"
             ],
             [
              0.8888888888888888,
              "#fdca26"
             ],
             [
              1,
              "#f0f921"
             ]
            ],
            "type": "contour"
           }
          ],
          "contourcarpet": [
           {
            "colorbar": {
             "outlinewidth": 0,
             "ticks": ""
            },
            "type": "contourcarpet"
           }
          ],
          "heatmap": [
           {
            "colorbar": {
             "outlinewidth": 0,
             "ticks": ""
            },
            "colorscale": [
             [
              0,
              "#0d0887"
             ],
             [
              0.1111111111111111,
              "#46039f"
             ],
             [
              0.2222222222222222,
              "#7201a8"
             ],
             [
              0.3333333333333333,
              "#9c179e"
             ],
             [
              0.4444444444444444,
              "#bd3786"
             ],
             [
              0.5555555555555556,
              "#d8576b"
             ],
             [
              0.6666666666666666,
              "#ed7953"
             ],
             [
              0.7777777777777778,
              "#fb9f3a"
             ],
             [
              0.8888888888888888,
              "#fdca26"
             ],
             [
              1,
              "#f0f921"
             ]
            ],
            "type": "heatmap"
           }
          ],
          "heatmapgl": [
           {
            "colorbar": {
             "outlinewidth": 0,
             "ticks": ""
            },
            "colorscale": [
             [
              0,
              "#0d0887"
             ],
             [
              0.1111111111111111,
              "#46039f"
             ],
             [
              0.2222222222222222,
              "#7201a8"
             ],
             [
              0.3333333333333333,
              "#9c179e"
             ],
             [
              0.4444444444444444,
              "#bd3786"
             ],
             [
              0.5555555555555556,
              "#d8576b"
             ],
             [
              0.6666666666666666,
              "#ed7953"
             ],
             [
              0.7777777777777778,
              "#fb9f3a"
             ],
             [
              0.8888888888888888,
              "#fdca26"
             ],
             [
              1,
              "#f0f921"
             ]
            ],
            "type": "heatmapgl"
           }
          ],
          "histogram": [
           {
            "marker": {
             "pattern": {
              "fillmode": "overlay",
              "size": 10,
              "solidity": 0.2
             }
            },
            "type": "histogram"
           }
          ],
          "histogram2d": [
           {
            "colorbar": {
             "outlinewidth": 0,
             "ticks": ""
            },
            "colorscale": [
             [
              0,
              "#0d0887"
             ],
             [
              0.1111111111111111,
              "#46039f"
             ],
             [
              0.2222222222222222,
              "#7201a8"
             ],
             [
              0.3333333333333333,
              "#9c179e"
             ],
             [
              0.4444444444444444,
              "#bd3786"
             ],
             [
              0.5555555555555556,
              "#d8576b"
             ],
             [
              0.6666666666666666,
              "#ed7953"
             ],
             [
              0.7777777777777778,
              "#fb9f3a"
             ],
             [
              0.8888888888888888,
              "#fdca26"
             ],
             [
              1,
              "#f0f921"
             ]
            ],
            "type": "histogram2d"
           }
          ],
          "histogram2dcontour": [
           {
            "colorbar": {
             "outlinewidth": 0,
             "ticks": ""
            },
            "colorscale": [
             [
              0,
              "#0d0887"
             ],
             [
              0.1111111111111111,
              "#46039f"
             ],
             [
              0.2222222222222222,
              "#7201a8"
             ],
             [
              0.3333333333333333,
              "#9c179e"
             ],
             [
              0.4444444444444444,
              "#bd3786"
             ],
             [
              0.5555555555555556,
              "#d8576b"
             ],
             [
              0.6666666666666666,
              "#ed7953"
             ],
             [
              0.7777777777777778,
              "#fb9f3a"
             ],
             [
              0.8888888888888888,
              "#fdca26"
             ],
             [
              1,
              "#f0f921"
             ]
            ],
            "type": "histogram2dcontour"
           }
          ],
          "mesh3d": [
           {
            "colorbar": {
             "outlinewidth": 0,
             "ticks": ""
            },
            "type": "mesh3d"
           }
          ],
          "parcoords": [
           {
            "line": {
             "colorbar": {
              "outlinewidth": 0,
              "ticks": ""
             }
            },
            "type": "parcoords"
           }
          ],
          "pie": [
           {
            "automargin": true,
            "type": "pie"
           }
          ],
          "scatter": [
           {
            "fillpattern": {
             "fillmode": "overlay",
             "size": 10,
             "solidity": 0.2
            },
            "type": "scatter"
           }
          ],
          "scatter3d": [
           {
            "line": {
             "colorbar": {
              "outlinewidth": 0,
              "ticks": ""
             }
            },
            "marker": {
             "colorbar": {
              "outlinewidth": 0,
              "ticks": ""
             }
            },
            "type": "scatter3d"
           }
          ],
          "scattercarpet": [
           {
            "marker": {
             "colorbar": {
              "outlinewidth": 0,
              "ticks": ""
             }
            },
            "type": "scattercarpet"
           }
          ],
          "scattergeo": [
           {
            "marker": {
             "colorbar": {
              "outlinewidth": 0,
              "ticks": ""
             }
            },
            "type": "scattergeo"
           }
          ],
          "scattergl": [
           {
            "marker": {
             "colorbar": {
              "outlinewidth": 0,
              "ticks": ""
             }
            },
            "type": "scattergl"
           }
          ],
          "scattermapbox": [
           {
            "marker": {
             "colorbar": {
              "outlinewidth": 0,
              "ticks": ""
             }
            },
            "type": "scattermapbox"
           }
          ],
          "scatterpolar": [
           {
            "marker": {
             "colorbar": {
              "outlinewidth": 0,
              "ticks": ""
             }
            },
            "type": "scatterpolar"
           }
          ],
          "scatterpolargl": [
           {
            "marker": {
             "colorbar": {
              "outlinewidth": 0,
              "ticks": ""
             }
            },
            "type": "scatterpolargl"
           }
          ],
          "scatterternary": [
           {
            "marker": {
             "colorbar": {
              "outlinewidth": 0,
              "ticks": ""
             }
            },
            "type": "scatterternary"
           }
          ],
          "surface": [
           {
            "colorbar": {
             "outlinewidth": 0,
             "ticks": ""
            },
            "colorscale": [
             [
              0,
              "#0d0887"
             ],
             [
              0.1111111111111111,
              "#46039f"
             ],
             [
              0.2222222222222222,
              "#7201a8"
             ],
             [
              0.3333333333333333,
              "#9c179e"
             ],
             [
              0.4444444444444444,
              "#bd3786"
             ],
             [
              0.5555555555555556,
              "#d8576b"
             ],
             [
              0.6666666666666666,
              "#ed7953"
             ],
             [
              0.7777777777777778,
              "#fb9f3a"
             ],
             [
              0.8888888888888888,
              "#fdca26"
             ],
             [
              1,
              "#f0f921"
             ]
            ],
            "type": "surface"
           }
          ],
          "table": [
           {
            "cells": {
             "fill": {
              "color": "#EBF0F8"
             },
             "line": {
              "color": "white"
             }
            },
            "header": {
             "fill": {
              "color": "#C8D4E3"
             },
             "line": {
              "color": "white"
             }
            },
            "type": "table"
           }
          ]
         },
         "layout": {
          "annotationdefaults": {
           "arrowcolor": "#2a3f5f",
           "arrowhead": 0,
           "arrowwidth": 1
          },
          "autotypenumbers": "strict",
          "coloraxis": {
           "colorbar": {
            "outlinewidth": 0,
            "ticks": ""
           }
          },
          "colorscale": {
           "diverging": [
            [
             0,
             "#8e0152"
            ],
            [
             0.1,
             "#c51b7d"
            ],
            [
             0.2,
             "#de77ae"
            ],
            [
             0.3,
             "#f1b6da"
            ],
            [
             0.4,
             "#fde0ef"
            ],
            [
             0.5,
             "#f7f7f7"
            ],
            [
             0.6,
             "#e6f5d0"
            ],
            [
             0.7,
             "#b8e186"
            ],
            [
             0.8,
             "#7fbc41"
            ],
            [
             0.9,
             "#4d9221"
            ],
            [
             1,
             "#276419"
            ]
           ],
           "sequential": [
            [
             0,
             "#0d0887"
            ],
            [
             0.1111111111111111,
             "#46039f"
            ],
            [
             0.2222222222222222,
             "#7201a8"
            ],
            [
             0.3333333333333333,
             "#9c179e"
            ],
            [
             0.4444444444444444,
             "#bd3786"
            ],
            [
             0.5555555555555556,
             "#d8576b"
            ],
            [
             0.6666666666666666,
             "#ed7953"
            ],
            [
             0.7777777777777778,
             "#fb9f3a"
            ],
            [
             0.8888888888888888,
             "#fdca26"
            ],
            [
             1,
             "#f0f921"
            ]
           ],
           "sequentialminus": [
            [
             0,
             "#0d0887"
            ],
            [
             0.1111111111111111,
             "#46039f"
            ],
            [
             0.2222222222222222,
             "#7201a8"
            ],
            [
             0.3333333333333333,
             "#9c179e"
            ],
            [
             0.4444444444444444,
             "#bd3786"
            ],
            [
             0.5555555555555556,
             "#d8576b"
            ],
            [
             0.6666666666666666,
             "#ed7953"
            ],
            [
             0.7777777777777778,
             "#fb9f3a"
            ],
            [
             0.8888888888888888,
             "#fdca26"
            ],
            [
             1,
             "#f0f921"
            ]
           ]
          },
          "colorway": [
           "#636efa",
           "#EF553B",
           "#00cc96",
           "#ab63fa",
           "#FFA15A",
           "#19d3f3",
           "#FF6692",
           "#B6E880",
           "#FF97FF",
           "#FECB52"
          ],
          "font": {
           "color": "#2a3f5f"
          },
          "geo": {
           "bgcolor": "white",
           "lakecolor": "white",
           "landcolor": "#E5ECF6",
           "showlakes": true,
           "showland": true,
           "subunitcolor": "white"
          },
          "hoverlabel": {
           "align": "left"
          },
          "hovermode": "closest",
          "mapbox": {
           "style": "light"
          },
          "paper_bgcolor": "white",
          "plot_bgcolor": "#E5ECF6",
          "polar": {
           "angularaxis": {
            "gridcolor": "white",
            "linecolor": "white",
            "ticks": ""
           },
           "bgcolor": "#E5ECF6",
           "radialaxis": {
            "gridcolor": "white",
            "linecolor": "white",
            "ticks": ""
           }
          },
          "scene": {
           "xaxis": {
            "backgroundcolor": "#E5ECF6",
            "gridcolor": "white",
            "gridwidth": 2,
            "linecolor": "white",
            "showbackground": true,
            "ticks": "",
            "zerolinecolor": "white"
           },
           "yaxis": {
            "backgroundcolor": "#E5ECF6",
            "gridcolor": "white",
            "gridwidth": 2,
            "linecolor": "white",
            "showbackground": true,
            "ticks": "",
            "zerolinecolor": "white"
           },
           "zaxis": {
            "backgroundcolor": "#E5ECF6",
            "gridcolor": "white",
            "gridwidth": 2,
            "linecolor": "white",
            "showbackground": true,
            "ticks": "",
            "zerolinecolor": "white"
           }
          },
          "shapedefaults": {
           "line": {
            "color": "#2a3f5f"
           }
          },
          "ternary": {
           "aaxis": {
            "gridcolor": "white",
            "linecolor": "white",
            "ticks": ""
           },
           "baxis": {
            "gridcolor": "white",
            "linecolor": "white",
            "ticks": ""
           },
           "bgcolor": "#E5ECF6",
           "caxis": {
            "gridcolor": "white",
            "linecolor": "white",
            "ticks": ""
           }
          },
          "title": {
           "x": 0.05
          },
          "xaxis": {
           "automargin": true,
           "gridcolor": "white",
           "linecolor": "white",
           "ticks": "",
           "title": {
            "standoff": 15
           },
           "zerolinecolor": "white",
           "zerolinewidth": 2
          },
          "yaxis": {
           "automargin": true,
           "gridcolor": "white",
           "linecolor": "white",
           "ticks": "",
           "title": {
            "standoff": 15
           },
           "zerolinecolor": "white",
           "zerolinewidth": 2
          }
         }
        },
        "title": {
         "font": {
          "size": 20
         },
         "text": "🔗 Correlatie tussen depressie en angst per land (2019)"
        },
        "xaxis": {
         "anchor": "y",
         "autorange": true,
         "domain": [
          0,
          1
         ],
         "gridcolor": "lightgrey",
         "range": [
          1.3008313674175283,
          6.886812332582471
         ],
         "showgrid": true,
         "title": {
          "text": "Depressie (%)"
         },
         "type": "linear"
        },
        "yaxis": {
         "anchor": "x",
         "autorange": true,
         "domain": [
          0,
          1
         ],
         "gridcolor": "lightgrey",
         "range": [
          1.575787580633147,
          8.477477219366852
         ],
         "showgrid": true,
         "title": {
          "text": "Angst (%)"
         },
         "type": "linear"
        }
       }
      },
      "image/png": "[encoded data removed]",
      "text/html": [
       "<div>                            <div id=\"7bf1bcb0-3192-491e-b7c5-82314e282545\" class=\"plotly-graph-div\" style=\"height:525px; width:100%;\"></div>            <script type=\"text/javascript\">                require([\"plotly\"], function(Plotly) {                    window.PLOTLYENV=window.PLOTLYENV || {};                                    if (document.getElementById(\"7bf1bcb0-3192-491e-b7c5-82314e282545\")) {                    Plotly.newPlot(                        \"7bf1bcb0-3192-491e-b7c5-82314e282545\",                        [{\"hovertemplate\":\"<b>%{hovertext}</b><br><br>Depressie (%)=%{marker.color}<br>Angst (%)=%{y}<extra></extra>\",\"hovertext\":[\"Afghanistan\",\"Africa (IHME GBD)\",\"Albania\",\"Algeria\",\"America (IHME GBD)\",\"American Samoa\",\"Andorra\",\"Angola\",\"Antigua and Barbuda\",\"Argentina\",\"Armenia\",\"Asia (IHME GBD)\",\"Australia\",\"Austria\",\"Azerbaijan\",\"Bahamas\",\"Bahrain\",\"Bangladesh\",\"Barbados\",\"Belarus\",\"Belgium\",\"Belize\",\"Benin\",\"Bermuda\",\"Bhutan\",\"Bolivia\",\"Bosnia and Herzegovina\",\"Botswana\",\"Brazil\",\"Brunei\",\"Bulgaria\",\"Burkina Faso\",\"Burundi\",\"Cambodia\",\"Cameroon\",\"Canada\",\"Cape Verde\",\"Central African Republic\",\"Chad\",\"Chile\",\"China\",\"Colombia\",\"Comoros\",\"Congo\",\"Cook Islands\",\"Costa Rica\",\"Cote d'Ivoire\",\"Croatia\",\"Cuba\",\"Cyprus\",\"Czechia\",\"Democratic Republic of Congo\",\"Denmark\",\"Djibouti\",\"Dominica\",\"Dominican Republic\",\"East Timor\",\"Ecuador\",\"Egypt\",\"El Salvador\",\"Equatorial Guinea\",\"Eritrea\",\"Estonia\",\"Eswatini\",\"Ethiopia\",\"Europe (IHME GBD)\",\"European Union (27)\",\"Fiji\",\"Finland\",\"France\",\"Gabon\",\"Gambia\",\"Georgia\",\"Germany\",\"Ghana\",\"Greece\",\"Greenland\",\"Grenada\",\"Guam\",\"Guatemala\",\"Guinea\",\"Guinea-Bissau\",\"Guyana\",\"Haiti\",\"High-income countries\",\"Honduras\",\"Hungary\",\"Iceland\",\"India\",\"Indonesia\",\"Iran\",\"Iraq\",\"Ireland\",\"Israel\",\"Italy\",\"Jamaica\",\"Japan\",\"Jordan\",\"Kazakhstan\",\"Kenya\",\"Kiribati\",\"Kuwait\",\"Kyrgyzstan\",\"Laos\",\"Latvia\",\"Lebanon\",\"Lesotho\",\"Liberia\",\"Libya\",\"Lithuania\",\"Low-income countries\",\"Lower-middle-income countries\",\"Luxembourg\",\"Madagascar\",\"Malawi\",\"Malaysia\",\"Maldives\",\"Mali\",\"Malta\",\"Marshall Islands\",\"Mauritania\",\"Mauritius\",\"Mexico\",\"Micronesia (country)\",\"Moldova\",\"Monaco\",\"Mongolia\",\"Montenegro\",\"Morocco\",\"Mozambique\",\"Myanmar\",\"Namibia\",\"Nauru\",\"Nepal\",\"Netherlands\",\"New Zealand\",\"Nicaragua\",\"Niger\",\"Nigeria\",\"Niue\",\"North Korea\",\"North Macedonia\",\"Northern Mariana Islands\",\"Norway\",\"Oman\",\"Pakistan\",\"Palau\",\"Palestine\",\"Panama\",\"Papua New Guinea\",\"Paraguay\",\"Peru\",\"Philippines\",\"Poland\",\"Portugal\",\"Puerto Rico\",\"Qatar\",\"Romania\",\"Russia\",\"Rwanda\",\"Saint Kitts and Nevis\",\"Saint Lucia\",\"Saint Vincent and the Grenadines\",\"Samoa\",\"San Marino\",\"Sao Tome and Principe\",\"Saudi Arabia\",\"Senegal\",\"Serbia\",\"Seychelles\",\"Sierra Leone\",\"Singapore\",\"Slovakia\",\"Slovenia\",\"Solomon Islands\",\"Somalia\",\"South Africa\",\"South Korea\",\"South Sudan\",\"Spain\",\"Sri Lanka\",\"Sudan\",\"Suriname\",\"Sweden\",\"Switzerland\",\"Syria\",\"Taiwan\",\"Tajikistan\",\"Tanzania\",\"Thailand\",\"Togo\",\"Tokelau\",\"Tonga\",\"Trinidad and Tobago\",\"Tunisia\",\"Turkey\",\"Turkmenistan\",\"Tuvalu\",\"Uganda\",\"Ukraine\",\"United Arab Emirates\",\"United Kingdom\",\"United States\",\"United States Virgin Islands\",\"Upper-middle-income countries\",\"Uruguay\",\"Uzbekistan\",\"Vanuatu\",\"Venezuela\",\"Vietnam\",\"World\",\"Yemen\",\"Zambia\",\"Zimbabwe\"],\"legendgroup\":\"\",\"marker\":{\"color\":[4.945168,4.462034,2.4602032,4.1296806,3.6074004,2.659042,3.6072073,5.7441936,3.0286796,2.4075098,2.9836516,3.1961586,4.382458,3.125201,2.7526312,3.0623364,4.5280886,4.6198096,3.1782775,3.824539,3.5420222,3.309065,4.447893,3.177548,4.024815,3.3994322,2.7624497,4.2572603,3.8015563,1.6031243,2.6916606,4.378302,4.705153,2.9500995,4.6046395,3.2904658,4.8429317,5.9238467,5.1334114,3.6435125,2.7240157,2.2196279,4.2631598,5.5257406,3.1608856,3.2132857,3.9350774,3.0076077,3.802294,3.1127021,2.878852,5.44306,3.4828994,4.4612656,3.0847688,3.8231027,2.804642,3.3306973,3.9397578,3.4073691,5.728945,4.841218,3.6936426,4.4255295,4.64972,3.5443268,3.6144438,2.917755,4.139295,3.835741,5.5459714,5.5018787,3.3233132,3.3767943,4.3620286,5.0422506,5.835712,3.23476,3.1972318,3.6679313,4.3731165,4.4942803,4.927692,3.6351175,3.6410694,3.1551142,2.8233702,2.9365938,3.6598387,2.4184713,4.860692,3.9326482,4.2169313,4.127255,3.561658,3.0646706,2.1032803,4.15211,3.4412057,4.723163,2.9703078,4.0603004,3.3816984,2.7468913,3.7478287,4.652712,5.511564,4.556289,4.406427,3.9911947,4.6618643,3.6115844,3.2193074,4.737187,4.100136,3.6630948,2.9122725,3.5413845,3.1311812,2.8873966,3.6558447,3.8047628,3.5358298,2.909947,3.22074,4.0564504,3.9632094,2.8178656,5.07854,4.992671,2.1933033,3.6164615,3.1496468,4.8975983,3.5344012,3.7238638,3.2548654,4.235215,3.8173978,3.1407,2.6769247,2.570906,2.780081,3.2382026,3.962998,3.9425256,3.089023,6.1989517,2.9369144,3.072686,3.6945765,2.2116694,2.779254,2.2779574,4.3940663,2.8828056,3.9513783,2.6501622,3.0799155,5.0970206,3.9269922,3.3162744,3.3676143,2.8027563,4.0918827,3.7094643,4.216069,4.0294,2.814907,2.644615,4.392157,2.0081315,2.695262,3.1152232,3.0039446,4.84665,4.298678,2.091181,4.749942,4.704455,2.8662298,4.4230967,4.6881685,4.116486,3.705447,4.132855,2.564065,2.8172803,4.651242,2.847038,4.5008154,3.1222134,2.6947968,3.82637,5.049405,3.9422681,3.0497415,3.1250875,6.5845194,3.8973033,3.5784907,4.0975676,4.375998,3.3567483,3.1256948,2.840908,3.164448,2.9744234,3.2147944,2.473061,3.4400527,4.8953676,4.2194896,3.3954756],\"coloraxis\":\"coloraxis\",\"symbol\":\"circle\"},\"mode\":\"markers\",\"name\":\"\",\"orientation\":\"v\",\"showlegend\":false,\"x\":[4.945168,4.462034,2.4602032,4.1296806,3.6074004,2.659042,3.6072073,5.7441936,3.0286796,2.4075098,2.9836516,3.1961586,4.382458,3.125201,2.7526312,3.0623364,4.5280886,4.6198096,3.1782775,3.824539,3.5420222,3.309065,4.447893,3.177548,4.024815,3.3994322,2.7624497,4.2572603,3.8015563,1.6031243,2.6916606,4.378302,4.705153,2.9500995,4.6046395,3.2904658,4.8429317,5.9238467,5.1334114,3.6435125,2.7240157,2.2196279,4.2631598,5.5257406,3.1608856,3.2132857,3.9350774,3.0076077,3.802294,3.1127021,2.878852,5.44306,3.4828994,4.4612656,3.0847688,3.8231027,2.804642,3.3306973,3.9397578,3.4073691,5.728945,4.841218,3.6936426,4.4255295,4.64972,3.5443268,3.6144438,2.917755,4.139295,3.835741,5.5459714,5.5018787,3.3233132,3.3767943,4.3620286,5.0422506,5.835712,3.23476,3.1972318,3.6679313,4.3731165,4.4942803,4.927692,3.6351175,3.6410694,3.1551142,2.8233702,2.9365938,3.6598387,2.4184713,4.860692,3.9326482,4.2169313,4.127255,3.561658,3.0646706,2.1032803,4.15211,3.4412057,4.723163,2.9703078,4.0603004,3.3816984,2.7468913,3.7478287,4.652712,5.511564,4.556289,4.406427,3.9911947,4.6618643,3.6115844,3.2193074,4.737187,4.100136,3.6630948,2.9122725,3.5413845,3.1311812,2.8873966,3.6558447,3.8047628,3.5358298,2.909947,3.22074,4.0564504,3.9632094,2.8178656,5.07854,4.992671,2.1933033,3.6164615,3.1496468,4.8975983,3.5344012,3.7238638,3.2548654,4.235215,3.8173978,3.1407,2.6769247,2.570906,2.780081,3.2382026,3.962998,3.9425256,3.089023,6.1989517,2.9369144,3.072686,3.6945765,2.2116694,2.779254,2.2779574,4.3940663,2.8828056,3.9513783,2.6501622,3.0799155,5.0970206,3.9269922,3.3162744,3.3676143,2.8027563,4.0918827,3.7094643,4.216069,4.0294,2.814907,2.644615,4.392157,2.0081315,2.695262,3.1152232,3.0039446,4.84665,4.298678,2.091181,4.749942,4.704455,2.8662298,4.4230967,4.6881685,4.116486,3.705447,4.132855,2.564065,2.8172803,4.651242,2.847038,4.5008154,3.1222134,2.6947968,3.82637,5.049405,3.9422681,3.0497415,3.1250875,6.5845194,3.8973033,3.5784907,4.0975676,4.375998,3.3567483,3.1256948,2.840908,3.164448,2.9744234,3.2147944,2.473061,3.4400527,4.8953676,4.2194896,3.3954756],\"xaxis\":\"x\",\"y\":[4.8510346,3.699605,3.8375373,4.771976,5.4921436,4.044245,5.45341,3.9340954,4.3341727,4.982973,3.1505976,3.258719,5.8151646,6.0064344,2.4775383,4.3490176,4.937836,3.1809232,4.328706,3.4831994,5.04724,4.1840634,3.2288494,4.329229,3.2678254,5.7405457,3.5371947,3.5533912,7.410114,2.856928,3.3973696,3.116734,3.6385643,4.579762,3.1999922,4.3206058,3.0854897,4.405564,3.3696513,5.4619493,3.1641822,4.701662,3.554554,3.7367034,4.08579,4.195216,3.2402778,3.5950115,4.2468786,6.4671764,3.1539073,3.8151321,4.873904,3.25465,4.2796836,4.50035,3.7955263,5.2311482,4.5883927,4.4097867,3.80493,3.7323155,3.3788164,3.4919646,3.4656384,4.5646415,5.161444,4.039825,3.9931211,6.2742558,3.9851205,3.3126862,2.4950473,6.208145,3.0005414,5.7790413,4.8561225,4.2821164,4.013985,4.263226,3.3388844,3.0934513,4.3815017,4.635318,4.8858933,4.090965,3.4067228,5.1037683,2.9674358,3.5480037,7.26808,5.33799,6.9078193,3.7392616,5.5624604,4.0547247,2.3241255,4.933855,2.1156304,3.41804,4.098131,4.599968,2.0599196,4.5706754,3.748034,6.0510345,3.5554914,3.5066519,5.324334,4.2541876,3.6828394,3.3327048,5.2770224,3.9632103,3.8456526,4.5992527,3.5796337,2.7260087,6.2475963,4.0164247,2.7462342,3.8150282,3.5132816,4.0343943,4.078755,5.501611,2.1429229,3.6586478,4.7997293,4.035234,3.9770174,3.49189,4.0565453,3.2773163,6.7548013,7.263469,4.3657975,2.9678462,2.9917774,4.0224557,3.61212,3.5915322,4.0044084,6.7358413,4.61154,3.474194,3.9466903,5.5458045,3.6566825,3.995107,6.304892,5.551791,4.563437,3.082497,8.02761,4.442561,4.26387,3.2856169,3.1336958,3.6533618,4.308869,4.307126,4.2993255,4.027854,5.542622,3.0837884,4.5544286,2.8934357,3.33539,3.7375588,3.6633224,2.7080863,3.4256656,3.3891728,4.0285625,3.2728631,3.786144,3.2213244,4.9776773,4.8611727,4.0355477,4.745971,4.141955,4.795127,6.79061,5.60757,3.6654854,2.4035394,3.8125863,3.399738,3.592497,4.0038543,4.062976,3.8713686,5.164141,4.513604,2.3415134,4.007321,4.080157,3.133128,4.243272,4.4602027,5.6977477,4.365093,3.933253,5.1539445,2.0256548,4.02928,3.9995134,2.2873394,3.779522,4.7837157,3.9692068,3.1370168],\"yaxis\":\"y\",\"type\":\"scatter\"},{\"hovertemplate\":\"<b>OLS trendline</b><br>Anxiety disorders (share of population) - Sex: Both - Age: Age-standardized = 0.162676 * Depressive disorders (share of population) - Sex: Both - Age: Age-standardized + 3.55414<br>R<sup>2</sup>=0.018266<br><br>Depressie (%)=%{x}<br>Angst (%)=%{y} <b>(trend)</b><extra></extra>\",\"legendgroup\":\"\",\"marker\":{\"symbol\":\"circle\"},\"mode\":\"lines\",\"name\":\"\",\"showlegend\":false,\"x\":[1.6031243,2.0081315,2.091181,2.1032803,2.1933033,2.2116694,2.2196279,2.2779574,2.4075098,2.4184713,2.4602032,2.473061,2.564065,2.570906,2.644615,2.6501622,2.659042,2.6769247,2.6916606,2.6947968,2.695262,2.7240157,2.7468913,2.7526312,2.7624497,2.779254,2.780081,2.8027563,2.804642,2.814907,2.8172803,2.8178656,2.8233702,2.840908,2.847038,2.8662298,2.878852,2.8828056,2.8873966,2.909947,2.9122725,2.917755,2.9365938,2.9369144,2.9500995,2.9703078,2.9744234,2.9836516,3.0039446,3.0076077,3.0286796,3.0497415,3.0623364,3.0646706,3.072686,3.0799155,3.0847688,3.089023,3.1127021,3.1152232,3.1222134,3.1250875,3.125201,3.1256948,3.1311812,3.1407,3.1496468,3.1551142,3.1608856,3.164448,3.177548,3.1782775,3.1961586,3.1972318,3.2132857,3.2147944,3.2193074,3.22074,3.23476,3.2382026,3.2548654,3.2904658,3.309065,3.3162744,3.3233132,3.3306973,3.3567483,3.3676143,3.3767943,3.3816984,3.3954756,3.3994322,3.4073691,3.4400527,3.4412057,3.4828994,3.5344012,3.5358298,3.5413845,3.5420222,3.5443268,3.561658,3.5784907,3.6072073,3.6074004,3.6115844,3.6144438,3.6164615,3.6351175,3.6410694,3.6435125,3.6558447,3.6598387,3.6630948,3.6679313,3.6936426,3.6945765,3.705447,3.7094643,3.7238638,3.7478287,3.8015563,3.802294,3.8047628,3.8173978,3.8231027,3.824539,3.82637,3.835741,3.8973033,3.9269922,3.9326482,3.9350774,3.9397578,3.9422681,3.9425256,3.9513783,3.962998,3.9632094,3.9911947,4.024815,4.0294,4.0564504,4.0603004,4.0918827,4.0975676,4.100136,4.116486,4.127255,4.1296806,4.132855,4.139295,4.15211,4.216069,4.2169313,4.2194896,4.235215,4.2572603,4.2631598,4.298678,4.3620286,4.3731165,4.375998,4.378302,4.382458,4.392157,4.3940663,4.406427,4.4230967,4.4255295,4.447893,4.4612656,4.462034,4.4942803,4.5008154,4.5280886,4.556289,4.6046395,4.6198096,4.64972,4.651242,4.652712,4.6618643,4.6881685,4.704455,4.705153,4.723163,4.737187,4.749942,4.841218,4.8429317,4.84665,4.860692,4.8953676,4.8975983,4.927692,4.945168,4.992671,5.0422506,5.049405,5.07854,5.0970206,5.1334114,5.44306,5.5018787,5.511564,5.5257406,5.5459714,5.728945,5.7441936,5.835712,5.9238467,6.1989517,6.5845194],\"xaxis\":\"x\",\"y\":[3.814928153129458,3.880813169087081,3.894323342814295,3.896291610473675,3.9109362064007427,3.913923933017897,3.9152185912350816,3.924707410293854,3.9457824972092186,3.9475656719340617,3.9543544571641562,3.9564461146906886,3.971250295930448,3.972363163539138,3.9843538605964257,3.9852562577896613,3.9867007895528013,3.989609878514344,3.9920070581364593,3.992517243108594,3.9925929200580987,3.99727046155203,4.000991776311471,4.001925521200686,4.003522757074962,4.006256416065855,4.006390949249949,4.010079679974598,4.010386438408994,4.012056309188588,4.012442388518467,4.012537602874755,4.013433070063586,4.016286052017639,4.017283256876763,4.020405305199004,4.022458636222305,4.023101792687401,4.023848638936705,4.027517051409004,4.027895354818448,4.028787226864149,4.031851850502006,4.031904004478815,4.034048905912426,4.0373363145510295,4.038005824554,4.039507032691189,4.042808220000521,4.043404119041215,4.046832014811359,4.050258283819904,4.052307173784045,4.052686892476078,4.053990806966751,4.055166874263494,4.055956390469495,4.056648447388204,4.060500472441986,4.060910595308274,4.062047734199994,4.062515281750664,4.062533745494793,4.062614074982466,4.06350658146519,4.065055063294396,4.066510494360238,4.067399909995927,4.068338779184173,4.068918296735583,4.071049354428002,4.0711680266865224,4.07407685536621,4.074251439420828,4.076863026221463,4.077108455743643,4.077842613252488,4.078075663118913,4.080356382878279,4.080916411825754,4.083627052140047,4.089418388496778,4.092444034926765,4.093616832432698,4.094761877385781,4.095963094416819,4.100200971053856,4.101968610205446,4.103461977351736,4.10425975750665,4.106500979494436,4.1071446239880105,4.1084357684001445,4.113752610934185,4.1139401765463495,4.120722747547142,4.12910086259015,4.129333261751935,4.130236879016368,4.130340617603426,4.130715521081132,4.133534894140586,4.136273173134415,4.14094467934282,4.1409760921092635,4.14165672916156,4.142121885372682,4.142450117060163,4.145485003496022,4.146453235731099,4.146850669856926,4.148856824793906,4.149506553375855,4.150036243219541,4.150823026466059,4.155005642011637,4.1551575652772055,4.156925936471514,4.1575794554079835,4.159921910769967,4.163820428670198,4.172560628309525,4.172680634512556,4.173082249415689,4.175137662693834,4.176065713917459,4.176299365685674,4.176597225734133,4.178121664026931,4.188136382574868,4.192966058813375,4.193886155172788,4.194281328099996,4.195042717597981,4.195451083561743,4.195492972672872,4.196933095912084,4.198823344085259,4.198857733825426,4.203410274958222,4.208879496251078,4.209625366443425,4.214025821634493,4.21465212484944,4.219789812128774,4.220714609829203,4.221132427277845,4.223792182489375,4.225544042053471,4.225938629346504,4.22645502854794,4.227502663016579,4.229587358003475,4.239991962503429,4.240132238155962,4.24054841257539,4.243106560257555,4.246692805001576,4.247652513005883,4.253430477382284,4.2637361097066595,4.2655398466980925,4.266008598052345,4.266383403924355,4.267059486044178,4.268637282117367,4.268947879709133,4.270958670916665,4.273670433696459,4.274066192257843,4.277704200555888,4.279879603769448,4.280004604130582,4.285250308379974,4.286313413351404,4.2907501127908585,4.2953376455656125,4.303203119226474,4.305670932837142,4.310536641845029,4.310784234960132,4.311023368914931,4.312512229931596,4.316791296172276,4.3194407214476644,4.319554269407154,4.322484067043829,4.3247654375078355,4.326840371925148,4.341688801080353,4.341967579215277,4.342572457979988,4.344856756614869,4.350497650059085,4.3508605317685864,4.355756059316551,4.358598987883933,4.3663265934994255,4.374392012428206,4.375555862745355,4.380295432658989,4.383301785696433,4.389221701289811,4.439594146402529,4.4491625466386395,4.450738114048439,4.45304430889442,4.456335377746617,4.486100820325968,4.488581404015175,4.503469265871498,4.517806680406154,4.56255970532774,4.625282378078357],\"yaxis\":\"y\",\"type\":\"scatter\"}],                        {\"template\":{\"data\":{\"histogram2dcontour\":[{\"type\":\"histogram2dcontour\",\"colorbar\":{\"outlinewidth\":0,\"ticks\":\"\"},\"colorscale\":[[0.0,\"#0d0887\"],[0.1111111111111111,\"#46039f\"],[0.2222222222222222,\"#7201a8\"],[0.3333333333333333,\"#9c179e\"],[0.4444444444444444,\"#bd3786\"],[0.5555555555555556,\"#d8576b\"],[0.6666666666666666,\"#ed7953\"],[0.7777777777777778,\"#fb9f3a\"],[0.8888888888888888,\"#fdca26\"],[1.0,\"#f0f921\"]]}],\"choropleth\":[{\"type\":\"choropleth\",\"colorbar\":{\"outlinewidth\":0,\"ticks\":\"\"}}],\"histogram2d\":[{\"type\":\"histogram2d\",\"colorbar\":{\"outlinewidth\":0,\"ticks\":\"\"},\"colorscale\":[[0.0,\"#0d0887\"],[0.1111111111111111,\"#46039f\"],[0.2222222222222222,\"#7201a8\"],[0.3333333333333333,\"#9c179e\"],[0.4444444444444444,\"#bd3786\"],[0.5555555555555556,\"#d8576b\"],[0.6666666666666666,\"#ed7953\"],[0.7777777777777778,\"#fb9f3a\"],[0.8888888888888888,\"#fdca26\"],[1.0,\"#f0f921\"]]}],\"heatmap\":[{\"type\":\"heatmap\",\"colorbar\":{\"outlinewidth\":0,\"ticks\":\"\"},\"colorscale\":[[0.0,\"#0d0887\"],[0.1111111111111111,\"#46039f\"],[0.2222222222222222,\"#7201a8\"],[0.3333333333333333,\"#9c179e\"],[0.4444444444444444,\"#bd3786\"],[0.5555555555555556,\"#d8576b\"],[0.6666666666666666,\"#ed7953\"],[0.7777777777777778,\"#fb9f3a\"],[0.8888888888888888,\"#fdca26\"],[1.0,\"#f0f921\"]]}],\"heatmapgl\":[{\"type\":\"heatmapgl\",\"colorbar\":{\"outlinewidth\":0,\"ticks\":\"\"},\"colorscale\":[[0.0,\"#0d0887\"],[0.1111111111111111,\"#46039f\"],[0.2222222222222222,\"#7201a8\"],[0.3333333333333333,\"#9c179e\"],[0.4444444444444444,\"#bd3786\"],[0.5555555555555556,\"#d8576b\"],[0.6666666666666666,\"#ed7953\"],[0.7777777777777778,\"#fb9f3a\"],[0.8888888888888888,\"#fdca26\"],[1.0,\"#f0f921\"]]}],\"contourcarpet\":[{\"type\":\"contourcarpet\",\"colorbar\":{\"outlinewidth\":0,\"ticks\":\"\"}}],\"contour\":[{\"type\":\"contour\",\"colorbar\":{\"outlinewidth\":0,\"ticks\":\"\"},\"colorscale\":[[0.0,\"#0d0887\"],[0.1111111111111111,\"#46039f\"],[0.2222222222222222,\"#7201a8\"],[0.3333333333333333,\"#9c179e\"],[0.4444444444444444,\"#bd3786\"],[0.5555555555555556,\"#d8576b\"],[0.6666666666666666,\"#ed7953\"],[0.7777777777777778,\"#fb9f3a\"],[0.8888888888888888,\"#fdca26\"],[1.0,\"#f0f921\"]]}],\"surface\":[{\"type\":\"surface\",\"colorbar\":{\"outlinewidth\":0,\"ticks\":\"\"},\"colorscale\":[[0.0,\"#0d0887\"],[0.1111111111111111,\"#46039f\"],[0.2222222222222222,\"#7201a8\"],[0.3333333333333333,\"#9c179e\"],[0.4444444444444444,\"#bd3786\"],[0.5555555555555556,\"#d8576b\"],[0.6666666666666666,\"#ed7953\"],[0.7777777777777778,\"#fb9f3a\"],[0.8888888888888888,\"#fdca26\"],[1.0,\"#f0f921\"]]}],\"mesh3d\":[{\"type\":\"mesh3d\",\"colorbar\":{\"outlinewidth\":0,\"ticks\":\"\"}}],\"scatter\":[{\"fillpattern\":{\"fillmode\":\"overlay\",\"size\":10,\"solidity\":0.2},\"type\":\"scatter\"}],\"parcoords\":[{\"type\":\"parcoords\",\"line\":{\"colorbar\":{\"outlinewidth\":0,\"ticks\":\"\"}}}],\"scatterpolargl\":[{\"type\":\"scatterpolargl\",\"marker\":{\"colorbar\":{\"outlinewidth\":0,\"ticks\":\"\"}}}],\"bar\":[{\"error_x\":{\"color\":\"#2a3f5f\"},\"error_y\":{\"color\":\"#2a3f5f\"},\"marker\":{\"line\":{\"color\":\"#E5ECF6\",\"width\":0.5},\"pattern\":{\"fillmode\":\"overlay\",\"size\":10,\"solidity\":0.2}},\"type\":\"bar\"}],\"scattergeo\":[{\"type\":\"scattergeo\",\"marker\":{\"colorbar\":{\"outlinewidth\":0,\"ticks\":\"\"}}}],\"scatterpolar\":[{\"type\":\"scatterpolar\",\"marker\":{\"colorbar\":{\"outlinewidth\":0,\"ticks\":\"\"}}}],\"histogram\":[{\"marker\":{\"pattern\":{\"fillmode\":\"overlay\",\"size\":10,\"solidity\":0.2}},\"type\":\"histogram\"}],\"scattergl\":[{\"type\":\"scattergl\",\"marker\":{\"colorbar\":{\"outlinewidth\":0,\"ticks\":\"\"}}}],\"scatter3d\":[{\"type\":\"scatter3d\",\"line\":{\"colorbar\":{\"outlinewidth\":0,\"ticks\":\"\"}},\"marker\":{\"colorbar\":{\"outlinewidth\":0,\"ticks\":\"\"}}}],\"scattermapbox\":[{\"type\":\"scattermapbox\",\"marker\":{\"colorbar\":{\"outlinewidth\":0,\"ticks\":\"\"}}}],\"scatterternary\":[{\"type\":\"scatterternary\",\"marker\":{\"colorbar\":{\"outlinewidth\":0,\"ticks\":\"\"}}}],\"scattercarpet\":[{\"type\":\"scattercarpet\",\"marker\":{\"colorbar\":{\"outlinewidth\":0,\"ticks\":\"\"}}}],\"carpet\":[{\"aaxis\":{\"endlinecolor\":\"#2a3f5f\",\"gridcolor\":\"white\",\"linecolor\":\"white\",\"minorgridcolor\":\"white\",\"startlinecolor\":\"#2a3f5f\"},\"baxis\":{\"endlinecolor\":\"#2a3f5f\",\"gridcolor\":\"white\",\"linecolor\":\"white\",\"minorgridcolor\":\"white\",\"startlinecolor\":\"#2a3f5f\"},\"type\":\"carpet\"}],\"table\":[{\"cells\":{\"fill\":{\"color\":\"#EBF0F8\"},\"line\":{\"color\":\"white\"}},\"header\":{\"fill\":{\"color\":\"#C8D4E3\"},\"line\":{\"color\":\"white\"}},\"type\":\"table\"}],\"barpolar\":[{\"marker\":{\"line\":{\"color\":\"#E5ECF6\",\"width\":0.5},\"pattern\":{\"fillmode\":\"overlay\",\"size\":10,\"solidity\":0.2}},\"type\":\"barpolar\"}],\"pie\":[{\"automargin\":true,\"type\":\"pie\"}]},\"layout\":{\"autotypenumbers\":\"strict\",\"colorway\":[\"#636efa\",\"#EF553B\",\"#00cc96\",\"#ab63fa\",\"#FFA15A\",\"#19d3f3\",\"#FF6692\",\"#B6E880\",\"#FF97FF\",\"#FECB52\"],\"font\":{\"color\":\"#2a3f5f\"},\"hovermode\":\"closest\",\"hoverlabel\":{\"align\":\"left\"},\"paper_bgcolor\":\"white\",\"plot_bgcolor\":\"#E5ECF6\",\"polar\":{\"bgcolor\":\"#E5ECF6\",\"angularaxis\":{\"gridcolor\":\"white\",\"linecolor\":\"white\",\"ticks\":\"\"},\"radialaxis\":{\"gridcolor\":\"white\",\"linecolor\":\"white\",\"ticks\":\"\"}},\"ternary\":{\"bgcolor\":\"#E5ECF6\",\"aaxis\":{\"gridcolor\":\"white\",\"linecolor\":\"white\",\"ticks\":\"\"},\"baxis\":{\"gridcolor\":\"white\",\"linecolor\":\"white\",\"ticks\":\"\"},\"caxis\":{\"gridcolor\":\"white\",\"linecolor\":\"white\",\"ticks\":\"\"}},\"coloraxis\":{\"colorbar\":{\"outlinewidth\":0,\"ticks\":\"\"}},\"colorscale\":{\"sequential\":[[0.0,\"#0d0887\"],[0.1111111111111111,\"#46039f\"],[0.2222222222222222,\"#7201a8\"],[0.3333333333333333,\"#9c179e\"],[0.4444444444444444,\"#bd3786\"],[0.5555555555555556,\"#d8576b\"],[0.6666666666666666,\"#ed7953\"],[0.7777777777777778,\"#fb9f3a\"],[0.8888888888888888,\"#fdca26\"],[1.0,\"#f0f921\"]],\"sequentialminus\":[[0.0,\"#0d0887\"],[0.1111111111111111,\"#46039f\"],[0.2222222222222222,\"#7201a8\"],[0.3333333333333333,\"#9c179e\"],[0.4444444444444444,\"#bd3786\"],[0.5555555555555556,\"#d8576b\"],[0.6666666666666666,\"#ed7953\"],[0.7777777777777778,\"#fb9f3a\"],[0.8888888888888888,\"#fdca26\"],[1.0,\"#f0f921\"]],\"diverging\":[[0,\"#8e0152\"],[0.1,\"#c51b7d\"],[0.2,\"#de77ae\"],[0.3,\"#f1b6da\"],[0.4,\"#fde0ef\"],[0.5,\"#f7f7f7\"],[0.6,\"#e6f5d0\"],[0.7,\"#b8e186\"],[0.8,\"#7fbc41\"],[0.9,\"#4d9221\"],[1,\"#276419\"]]},\"xaxis\":{\"gridcolor\":\"white\",\"linecolor\":\"white\",\"ticks\":\"\",\"title\":{\"standoff\":15},\"zerolinecolor\":\"white\",\"automargin\":true,\"zerolinewidth\":2},\"yaxis\":{\"gridcolor\":\"white\",\"linecolor\":\"white\",\"ticks\":\"\",\"title\":{\"standoff\":15},\"zerolinecolor\":\"white\",\"automargin\":true,\"zerolinewidth\":2},\"scene\":{\"xaxis\":{\"backgroundcolor\":\"#E5ECF6\",\"gridcolor\":\"white\",\"linecolor\":\"white\",\"showbackground\":true,\"ticks\":\"\",\"zerolinecolor\":\"white\",\"gridwidth\":2},\"yaxis\":{\"backgroundcolor\":\"#E5ECF6\",\"gridcolor\":\"white\",\"linecolor\":\"white\",\"showbackground\":true,\"ticks\":\"\",\"zerolinecolor\":\"white\",\"gridwidth\":2},\"zaxis\":{\"backgroundcolor\":\"#E5ECF6\",\"gridcolor\":\"white\",\"linecolor\":\"white\",\"showbackground\":true,\"ticks\":\"\",\"zerolinecolor\":\"white\",\"gridwidth\":2}},\"shapedefaults\":{\"line\":{\"color\":\"#2a3f5f\"}},\"annotationdefaults\":{\"arrowcolor\":\"#2a3f5f\",\"arrowhead\":0,\"arrowwidth\":1},\"geo\":{\"bgcolor\":\"white\",\"landcolor\":\"#E5ECF6\",\"subunitcolor\":\"white\",\"showland\":true,\"showlakes\":true,\"lakecolor\":\"white\"},\"title\":{\"x\":0.05},\"mapbox\":{\"style\":\"light\"}}},\"xaxis\":{\"anchor\":\"y\",\"domain\":[0.0,1.0],\"title\":{\"text\":\"Depressie (%)\"},\"showgrid\":true,\"gridcolor\":\"lightgrey\"},\"yaxis\":{\"anchor\":\"x\",\"domain\":[0.0,1.0],\"title\":{\"text\":\"Angst (%)\"},\"showgrid\":true,\"gridcolor\":\"lightgrey\"},\"coloraxis\":{\"colorbar\":{\"title\":{\"text\":\"Depressie (%)\"}},\"colorscale\":[[0.0,\"rgb(0,0,255)\"],[1.0,\"rgb(255,0,0)\"]]},\"legend\":{\"tracegroupgap\":0},\"title\":{\"text\":\"\\ud83d\\udd17 Correlatie tussen depressie en angst per land (2019)\",\"font\":{\"size\":20}},\"margin\":{\"l\":40,\"r\":20,\"t\":60,\"b\":40},\"plot_bgcolor\":\"white\"},                        {\"responsive\": true}                    ).then(function(){\n",
       "                            \n",
       "var gd = document.getElementById('7bf1bcb0-3192-491e-b7c5-82314e282545');\n",
       "var x = new MutationObserver(function (mutations, observer) {{\n",
       "        var display = window.getComputedStyle(gd).display;\n",
       "        if (!display || display === 'none') {{\n",
       "            console.log([gd, 'removed!']);\n",
       "            Plotly.purge(gd);\n",
       "            observer.disconnect();\n",
       "        }}\n",
       "}});\n",
       "\n",
       "// Listen for the removal of the full notebook cells\n",
       "var notebookContainer = gd.closest('#notebook-container');\n",
       "if (notebookContainer) {{\n",
       "    x.observe(notebookContainer, {childList: true});\n",
       "}}\n",
       "\n",
       "// Listen for the clearing of the current output cell\n",
       "var outputEl = gd.closest('.output');\n",
       "if (outputEl) {{\n",
       "    x.observe(outputEl, {childList: true});\n",
       "}}\n",
       "\n",
       "                        })                };                });            </script>        </div>"
      ]
     },
     "metadata": {},
     "output_type": "display_data"
    }
   ],
   "source": [
    "# 4. Correlatiediagram\n",
    "# Verbindt de percentages depressie en angst in elk land.\n",
    "\n",
    "df_2019 = df[df['Year'] == 2019]\n",
    "\n",
    "depressie_col = 'Depressive disorders (share of population) - Sex: Both - Age: Age-standardized'\n",
    "angst_col = 'Anxiety disorders (share of population) - Sex: Both - Age: Age-standardized'\n",
    "\n",
    "fig = px.scatter(\n",
    "    df_2019,\n",
    "    x=depressie_col,\n",
    "    y=angst_col,\n",
    "    hover_name='Entity',  # tooltip bij muis\n",
    "    color=depressie_col,  # kleur tonen op basis van depressie\n",
    "    color_continuous_scale='Bluered',\n",
    "    size_max=12,\n",
    "    labels={\n",
    "        depressie_col: 'Depressie (%)',\n",
    "        angst_col: 'Angst (%)'\n",
    "    },\n",
    "    title='\\U0001F517 Correlatie tussen depressie en angst per land (2019)',\n",
    "    trendline='ols'  # trendlijn toevoegen\n",
    ")\n",
    "\n",
    "fig.update_layout(\n",
    "    plot_bgcolor='white',\n",
    "    title_font=dict(size=20),\n",
    "    xaxis=dict(showgrid=True, gridcolor='lightgrey'),\n",
    "    yaxis=dict(showgrid=True, gridcolor='lightgrey'),\n",
    "    margin=dict(l=40, r=20, t=60, b=40)\n",
    ")\n",
    "\n",
    "fig.show()\n",
    "\n",
    "\n",
    "\n"
   ]
  },
  {
   "cell_type": "code",
   "execution_count": 42,
   "id": "d3d6f178-43bf-403b-b5ec-daa7c4e68ac1",
   "metadata": {},
   "outputs": [
    {
     "data": {
      "application/vnd.plotly.v1+json": {
       "config": {
        "plotlyServerURL": "https://plot.ly"
       },
       "data": [
        {
         "hovertemplate": "<b>%{hovertext}</b><br><br>Geluksindex=%{x}<br>Depressie (%)=%{y}<extra></extra>",
         "hovertext": [
          "Switzerland",
          "Iceland",
          "Denmark",
          "Norway",
          "Canada",
          "Finland",
          "Netherlands",
          "Sweden",
          "New Zealand",
          "Australia",
          "Israel",
          "Costa Rica",
          "Austria",
          "Mexico",
          "United States",
          "Brazil",
          "Luxembourg",
          "Ireland",
          "Belgium",
          "United Arab Emirates",
          "United Kingdom",
          "Oman",
          "Venezuela",
          "Singapore",
          "Panama",
          "Germany",
          "Chile",
          "Qatar",
          "France",
          "Argentina",
          "Uruguay",
          "Colombia",
          "Thailand",
          "Saudi Arabia",
          "Spain",
          "Malta",
          "Taiwan",
          "Kuwait",
          "Suriname",
          "Trinidad and Tobago",
          "El Salvador",
          "Guatemala",
          "Uzbekistan",
          "Slovakia",
          "Japan",
          "South Korea",
          "Ecuador",
          "Bahrain",
          "Italy",
          "Bolivia",
          "Moldova",
          "Paraguay",
          "Kazakhstan",
          "Slovenia",
          "Lithuania",
          "Nicaragua",
          "Peru",
          "Belarus",
          "Poland",
          "Malaysia",
          "Croatia",
          "Libya",
          "Russia",
          "Jamaica",
          "Cyprus",
          "Algeria",
          "Turkmenistan",
          "Mauritius",
          "Estonia",
          "Indonesia",
          "Vietnam",
          "Turkey",
          "Kyrgyzstan",
          "Nigeria",
          "Bhutan",
          "Azerbaijan",
          "Pakistan",
          "Montenegro",
          "Jordan",
          "China",
          "Zambia",
          "Romania",
          "Serbia",
          "Portugal",
          "Latvia",
          "Philippines",
          "Morocco",
          "Mozambique",
          "Albania",
          "Bosnia and Herzegovina",
          "Lesotho",
          "Dominican Republic",
          "Laos",
          "Mongolia",
          "Greece",
          "Lebanon",
          "Hungary",
          "Honduras",
          "Tajikistan",
          "Tunisia",
          "Bangladesh",
          "Iran",
          "Ukraine",
          "Iraq",
          "South Africa",
          "Ghana",
          "Zimbabwe",
          "Liberia",
          "India",
          "Sudan",
          "Haiti",
          "Nepal",
          "Ethiopia",
          "Sierra Leone",
          "Mauritania",
          "Kenya",
          "Djibouti",
          "Armenia",
          "Botswana",
          "Myanmar",
          "Georgia",
          "Malawi",
          "Sri Lanka",
          "Cameroon",
          "Bulgaria",
          "Egypt",
          "Yemen",
          "Angola",
          "Mali",
          "Comoros",
          "Uganda",
          "Senegal",
          "Gabon",
          "Niger",
          "Cambodia",
          "Tanzania",
          "Madagascar",
          "Central African Republic",
          "Chad",
          "Guinea",
          "Burkina Faso",
          "Afghanistan",
          "Rwanda",
          "Benin",
          "Syria",
          "Burundi",
          "Togo"
         ],
         "legendgroup": "",
         "marker": {
          "color": "darkcyan",
          "opacity": 0.7,
          "size": 8,
          "symbol": "circle"
         },
         "mode": "markers",
         "name": "",
         "orientation": "v",
         "showlegend": false,
         "type": "scatter",
         "x": [
          7.59,
          7.56,
          7.53,
          7.52,
          7.43,
          7.41,
          7.38,
          7.36,
          7.29,
          7.28,
          7.28,
          7.23,
          7.2,
          7.19,
          7.12,
          6.98,
          6.95,
          6.94,
          6.94,
          6.9,
          6.87,
          6.85,
          6.81,
          6.8,
          6.79,
          6.75,
          6.67,
          6.61,
          6.57,
          6.57,
          6.49,
          6.48,
          6.45,
          6.41,
          6.33,
          6.3,
          6.3,
          6.3,
          6.27,
          6.17,
          6.13,
          6.12,
          6,
          5.99,
          5.99,
          5.98,
          5.97,
          5.96,
          5.95,
          5.89,
          5.89,
          5.88,
          5.86,
          5.85,
          5.83,
          5.83,
          5.82,
          5.81,
          5.79,
          5.77,
          5.76,
          5.75,
          5.72,
          5.71,
          5.69,
          5.61,
          5.55,
          5.48,
          5.43,
          5.4,
          5.36,
          5.33,
          5.29,
          5.27,
          5.25,
          5.21,
          5.19,
          5.19,
          5.19,
          5.14,
          5.13,
          5.12,
          5.12,
          5.1,
          5.1,
          5.07,
          5.01,
          4.97,
          4.96,
          4.95,
          4.9,
          4.89,
          4.88,
          4.87,
          4.86,
          4.84,
          4.8,
          4.79,
          4.79,
          4.74,
          4.69,
          4.69,
          4.68,
          4.68,
          4.64,
          4.63,
          4.61,
          4.57,
          4.57,
          4.55,
          4.52,
          4.51,
          4.51,
          4.51,
          4.44,
          4.42,
          4.37,
          4.35,
          4.33,
          4.31,
          4.3,
          4.29,
          4.27,
          4.25,
          4.22,
          4.19,
          4.08,
          4.03,
          3.99,
          3.96,
          3.93,
          3.9,
          3.9,
          3.85,
          3.82,
          3.78,
          3.68,
          3.68,
          3.67,
          3.66,
          3.59,
          3.58,
          3.46,
          3.34,
          3.01,
          2.9,
          2.84
         ],
         "xaxis": "x",
         "y": [
          3.705447,
          2.9365938,
          3.4828994,
          3.2382026,
          3.2904658,
          4.139295,
          3.5344012,
          4.116486,
          3.7238638,
          4.382458,
          4.127255,
          3.2132857,
          3.125201,
          3.5358298,
          4.375998,
          3.8015563,
          3.2193074,
          4.2169313,
          3.5420222,
          3.5784907,
          4.0975676,
          3.962998,
          3.2147944,
          2.0081315,
          2.9369144,
          3.3767943,
          3.6435125,
          3.9513783,
          3.835741,
          2.4075098,
          2.840908,
          2.2196279,
          2.847038,
          4.216069,
          4.704455,
          3.1311812,
          2.564065,
          4.0603004,
          4.6881685,
          3.82637,
          3.4073691,
          3.6679313,
          3.164448,
          2.695262,
          2.1032803,
          2.091181,
          3.3306973,
          4.5280886,
          3.561658,
          3.3994322,
          3.22074,
          3.6945765,
          3.4412057,
          3.1152232,
          3.9911947,
          3.2548654,
          2.2116694,
          3.824539,
          2.2779574,
          3.6630948,
          3.0076077,
          4.406427,
          3.0799155,
          3.0646706,
          3.1127021,
          4.1296806,
          3.0497415,
          3.8047628,
          3.6936426,
          2.4184713,
          2.473061,
          3.9422681,
          3.3816984,
          3.8173978,
          4.024815,
          2.7526312,
          3.9425256,
          2.8178656,
          4.15211,
          2.7240157,
          4.2194896,
          2.6501622,
          2.814907,
          4.3940663,
          3.7478287,
          2.779254,
          5.07854,
          4.992671,
          2.4602032,
          2.7624497,
          5.511564,
          3.8231027,
          2.7468913,
          3.9632094,
          5.0422506,
          4.652712,
          2.8233702,
          3.1551142,
          2.8172803,
          5.049405,
          4.6198096,
          4.860692,
          3.8973033,
          3.9326482,
          4.298678,
          4.3620286,
          3.3954756,
          4.556289,
          3.6598387,
          4.4230967,
          3.6351175,
          4.8975983,
          4.64972,
          4.392157,
          3.6558447,
          4.723163,
          4.4612656,
          2.9836516,
          4.2572603,
          2.1933033,
          3.3233132,
          4.100136,
          2.8662298,
          4.6046395,
          2.6916606,
          3.9397578,
          4.8953676,
          5.7441936,
          3.5413845,
          4.2631598,
          6.5845194,
          4.0294,
          5.5459714,
          4.235215,
          2.9500995,
          4.651242,
          4.737187,
          5.9238467,
          5.1334114,
          4.3731165,
          4.378302,
          4.945168,
          5.0970206,
          4.447893,
          4.132855,
          4.705153,
          4.5008154
         ],
         "yaxis": "y"
        },
        {
         "hovertemplate": "<b>OLS trendline</b><br>Depressie (%) = -0.284532 * Happiness score + 5.29221<br>R<sup>2</sup>=0.148592<br><br>Geluksindex=%{x}<br>Depressie (%)=%{y} <b>(trend)</b><extra></extra>",
         "legendgroup": "",
         "marker": {
          "color": "darkcyan",
          "size": 8,
          "symbol": "circle"
         },
         "mode": "lines",
         "name": "",
         "showlegend": false,
         "type": "scatter",
         "x": [
          2.84,
          2.9,
          3.01,
          3.34,
          3.46,
          3.58,
          3.59,
          3.66,
          3.67,
          3.68,
          3.68,
          3.78,
          3.82,
          3.85,
          3.9,
          3.9,
          3.93,
          3.96,
          3.99,
          4.03,
          4.08,
          4.19,
          4.22,
          4.25,
          4.27,
          4.29,
          4.3,
          4.31,
          4.33,
          4.35,
          4.37,
          4.42,
          4.44,
          4.51,
          4.51,
          4.51,
          4.52,
          4.55,
          4.57,
          4.57,
          4.61,
          4.63,
          4.64,
          4.68,
          4.68,
          4.69,
          4.69,
          4.74,
          4.79,
          4.79,
          4.8,
          4.84,
          4.86,
          4.87,
          4.88,
          4.89,
          4.9,
          4.95,
          4.96,
          4.97,
          5.01,
          5.07,
          5.1,
          5.1,
          5.12,
          5.12,
          5.13,
          5.14,
          5.19,
          5.19,
          5.19,
          5.21,
          5.25,
          5.27,
          5.29,
          5.33,
          5.36,
          5.4,
          5.43,
          5.48,
          5.55,
          5.61,
          5.69,
          5.71,
          5.72,
          5.75,
          5.76,
          5.77,
          5.79,
          5.81,
          5.82,
          5.83,
          5.83,
          5.85,
          5.86,
          5.88,
          5.89,
          5.89,
          5.95,
          5.96,
          5.97,
          5.98,
          5.99,
          5.99,
          6,
          6.12,
          6.13,
          6.17,
          6.27,
          6.3,
          6.3,
          6.3,
          6.33,
          6.41,
          6.45,
          6.48,
          6.49,
          6.57,
          6.57,
          6.61,
          6.67,
          6.75,
          6.79,
          6.8,
          6.81,
          6.85,
          6.87,
          6.9,
          6.94,
          6.94,
          6.95,
          6.98,
          7.12,
          7.19,
          7.2,
          7.23,
          7.28,
          7.28,
          7.29,
          7.36,
          7.38,
          7.41,
          7.43,
          7.52,
          7.53,
          7.56,
          7.59
         ],
         "xaxis": "x",
         "y": [
          4.48414292042811,
          4.467071021080406,
          4.435772538942947,
          4.341877092530573,
          4.307733293835163,
          4.273589495139754,
          4.270744178581804,
          4.250826962676149,
          4.247981646118198,
          4.245136329560247,
          4.245136329560247,
          4.21668316398074,
          4.205301897748937,
          4.196765948075084,
          4.182539365285331,
          4.182539365285331,
          4.1740034156114785,
          4.165467465937626,
          4.156931516263774,
          4.145550250031971,
          4.131323667242217,
          4.100025185104759,
          4.091489235430907,
          4.082953285757055,
          4.077262652641154,
          4.071572019525252,
          4.068726702967301,
          4.06588138640935,
          4.0601907532934485,
          4.054500120177547,
          4.048809487061646,
          4.034582904271892,
          4.028892271155991,
          4.008975055250335,
          4.008975055250335,
          4.008975055250335,
          4.006129738692385,
          3.9975937890185325,
          3.991903155902631,
          3.991903155902631,
          3.980521889670828,
          3.9748312565549266,
          3.971985939996976,
          3.9606046737651726,
          3.9606046737651726,
          3.957759357207222,
          3.957759357207222,
          3.943532774417468,
          3.9293061916277146,
          3.9293061916277146,
          3.926460875069764,
          3.915079608837961,
          3.9093889757220595,
          3.9065436591641083,
          3.903698342606158,
          3.9008530260482073,
          3.8980077094902565,
          3.8837811267005025,
          3.880935810142552,
          3.878090493584601,
          3.866709227352798,
          3.8496373280050937,
          3.8411013783312415,
          3.8411013783312415,
          3.8354107452153396,
          3.8354107452153396,
          3.8325654286573894,
          3.8297201120994386,
          3.815493529309685,
          3.815493529309685,
          3.815493529309685,
          3.8098028961937835,
          3.7984216299619806,
          3.792730996846079,
          3.7870403637301773,
          3.7756590974983744,
          3.767123147824522,
          3.7557418815927193,
          3.747205931918867,
          3.732979349129113,
          3.713062133223458,
          3.6959902338757535,
          3.6732277014121477,
          3.6675370682962463,
          3.664691751738295,
          3.6561558020644433,
          3.653310485506492,
          3.650465168948542,
          3.6447745358326404,
          3.639083902716739,
          3.636238586158788,
          3.633393269600837,
          3.633393269600837,
          3.627702636484936,
          3.624857319926985,
          3.6191666868110834,
          3.6163213702531327,
          3.6163213702531327,
          3.599249470905428,
          3.5964041543474776,
          3.593558837789527,
          3.590713521231576,
          3.587868204673625,
          3.587868204673625,
          3.5850228881156747,
          3.5508790894202655,
          3.548033772862315,
          3.536652506630512,
          3.5081993410510046,
          3.499663391377152,
          3.499663391377152,
          3.499663391377152,
          3.4911274417033,
          3.468364909239694,
          3.4569836430078906,
          3.448447693334039,
          3.4456023767760877,
          3.422839844312482,
          3.422839844312482,
          3.411458578080679,
          3.3943866787329746,
          3.371624146269369,
          3.360242880037566,
          3.3573975634796147,
          3.3545522469216644,
          3.3431709806898615,
          3.3374803475739596,
          3.3289443979001074,
          3.3175631316683045,
          3.3175631316683045,
          3.314717815110354,
          3.3061818654365016,
          3.266347433625191,
          3.246430217719536,
          3.243584901161585,
          3.235048951487733,
          3.2208223686979793,
          3.2208223686979793,
          3.2179770521400286,
          3.198059836234373,
          3.1923692031184716,
          3.1838332534446194,
          3.178142620328718,
          3.1525347713071614,
          3.1496894547492107,
          3.1411535050753585,
          3.1326175554015063
         ],
         "yaxis": "y"
        }
       ],
       "layout": {
        "autosize": true,
        "legend": {
         "tracegroupgap": 0
        },
        "margin": {
         "b": 40,
         "l": 20,
         "r": 20,
         "t": 60
        },
        "plot_bgcolor": "white",
        "template": {
         "data": {
          "bar": [
           {
            "error_x": {
             "color": "#2a3f5f"
            },
            "error_y": {
             "color": "#2a3f5f"
            },
            "marker": {
             "line": {
              "color": "#E5ECF6",
              "width": 0.5
             },
             "pattern": {
              "fillmode": "overlay",
              "size": 10,
              "solidity": 0.2
             }
            },
            "type": "bar"
           }
          ],
          "barpolar": [
           {
            "marker": {
             "line": {
              "color": "#E5ECF6",
              "width": 0.5
             },
             "pattern": {
              "fillmode": "overlay",
              "size": 10,
              "solidity": 0.2
             }
            },
            "type": "barpolar"
           }
          ],
          "carpet": [
           {
            "aaxis": {
             "endlinecolor": "#2a3f5f",
             "gridcolor": "white",
             "linecolor": "white",
             "minorgridcolor": "white",
             "startlinecolor": "#2a3f5f"
            },
            "baxis": {
             "endlinecolor": "#2a3f5f",
             "gridcolor": "white",
             "linecolor": "white",
             "minorgridcolor": "white",
             "startlinecolor": "#2a3f5f"
            },
            "type": "carpet"
           }
          ],
          "choropleth": [
           {
            "colorbar": {
             "outlinewidth": 0,
             "ticks": ""
            },
            "type": "choropleth"
           }
          ],
          "contour": [
           {
            "colorbar": {
             "outlinewidth": 0,
             "ticks": ""
            },
            "colorscale": [
             [
              0,
              "#0d0887"
             ],
             [
              0.1111111111111111,
              "#46039f"
             ],
             [
              0.2222222222222222,
              "#7201a8"
             ],
             [
              0.3333333333333333,
              "#9c179e"
             ],
             [
              0.4444444444444444,
              "#bd3786"
             ],
             [
              0.5555555555555556,
              "#d8576b"
             ],
             [
              0.6666666666666666,
              "#ed7953"
             ],
             [
              0.7777777777777778,
              "#fb9f3a"
             ],
             [
              0.8888888888888888,
              "#fdca26"
             ],
             [
              1,
              "#f0f921"
             ]
            ],
            "type": "contour"
           }
          ],
          "contourcarpet": [
           {
            "colorbar": {
             "outlinewidth": 0,
             "ticks": ""
            },
            "type": "contourcarpet"
           }
          ],
          "heatmap": [
           {
            "colorbar": {
             "outlinewidth": 0,
             "ticks": ""
            },
            "colorscale": [
             [
              0,
              "#0d0887"
             ],
             [
              0.1111111111111111,
              "#46039f"
             ],
             [
              0.2222222222222222,
              "#7201a8"
             ],
             [
              0.3333333333333333,
              "#9c179e"
             ],
             [
              0.4444444444444444,
              "#bd3786"
             ],
             [
              0.5555555555555556,
              "#d8576b"
             ],
             [
              0.6666666666666666,
              "#ed7953"
             ],
             [
              0.7777777777777778,
              "#fb9f3a"
             ],
             [
              0.8888888888888888,
              "#fdca26"
             ],
             [
              1,
              "#f0f921"
             ]
            ],
            "type": "heatmap"
           }
          ],
          "heatmapgl": [
           {
            "colorbar": {
             "outlinewidth": 0,
             "ticks": ""
            },
            "colorscale": [
             [
              0,
              "#0d0887"
             ],
             [
              0.1111111111111111,
              "#46039f"
             ],
             [
              0.2222222222222222,
              "#7201a8"
             ],
             [
              0.3333333333333333,
              "#9c179e"
             ],
             [
              0.4444444444444444,
              "#bd3786"
             ],
             [
              0.5555555555555556,
              "#d8576b"
             ],
             [
              0.6666666666666666,
              "#ed7953"
             ],
             [
              0.7777777777777778,
              "#fb9f3a"
             ],
             [
              0.8888888888888888,
              "#fdca26"
             ],
             [
              1,
              "#f0f921"
             ]
            ],
            "type": "heatmapgl"
           }
          ],
          "histogram": [
           {
            "marker": {
             "pattern": {
              "fillmode": "overlay",
              "size": 10,
              "solidity": 0.2
             }
            },
            "type": "histogram"
           }
          ],
          "histogram2d": [
           {
            "colorbar": {
             "outlinewidth": 0,
             "ticks": ""
            },
            "colorscale": [
             [
              0,
              "#0d0887"
             ],
             [
              0.1111111111111111,
              "#46039f"
             ],
             [
              0.2222222222222222,
              "#7201a8"
             ],
             [
              0.3333333333333333,
              "#9c179e"
             ],
             [
              0.4444444444444444,
              "#bd3786"
             ],
             [
              0.5555555555555556,
              "#d8576b"
             ],
             [
              0.6666666666666666,
              "#ed7953"
             ],
             [
              0.7777777777777778,
              "#fb9f3a"
             ],
             [
              0.8888888888888888,
              "#fdca26"
             ],
             [
              1,
              "#f0f921"
             ]
            ],
            "type": "histogram2d"
           }
          ],
          "histogram2dcontour": [
           {
            "colorbar": {
             "outlinewidth": 0,
             "ticks": ""
            },
            "colorscale": [
             [
              0,
              "#0d0887"
             ],
             [
              0.1111111111111111,
              "#46039f"
             ],
             [
              0.2222222222222222,
              "#7201a8"
             ],
             [
              0.3333333333333333,
              "#9c179e"
             ],
             [
              0.4444444444444444,
              "#bd3786"
             ],
             [
              0.5555555555555556,
              "#d8576b"
             ],
             [
              0.6666666666666666,
              "#ed7953"
             ],
             [
              0.7777777777777778,
              "#fb9f3a"
             ],
             [
              0.8888888888888888,
              "#fdca26"
             ],
             [
              1,
              "#f0f921"
             ]
            ],
            "type": "histogram2dcontour"
           }
          ],
          "mesh3d": [
           {
            "colorbar": {
             "outlinewidth": 0,
             "ticks": ""
            },
            "type": "mesh3d"
           }
          ],
          "parcoords": [
           {
            "line": {
             "colorbar": {
              "outlinewidth": 0,
              "ticks": ""
             }
            },
            "type": "parcoords"
           }
          ],
          "pie": [
           {
            "automargin": true,
            "type": "pie"
           }
          ],
          "scatter": [
           {
            "fillpattern": {
             "fillmode": "overlay",
             "size": 10,
             "solidity": 0.2
            },
            "type": "scatter"
           }
          ],
          "scatter3d": [
           {
            "line": {
             "colorbar": {
              "outlinewidth": 0,
              "ticks": ""
             }
            },
            "marker": {
             "colorbar": {
              "outlinewidth": 0,
              "ticks": ""
             }
            },
            "type": "scatter3d"
           }
          ],
          "scattercarpet": [
           {
            "marker": {
             "colorbar": {
              "outlinewidth": 0,
              "ticks": ""
             }
            },
            "type": "scattercarpet"
           }
          ],
          "scattergeo": [
           {
            "marker": {
             "colorbar": {
              "outlinewidth": 0,
              "ticks": ""
             }
            },
            "type": "scattergeo"
           }
          ],
          "scattergl": [
           {
            "marker": {
             "colorbar": {
              "outlinewidth": 0,
              "ticks": ""
             }
            },
            "type": "scattergl"
           }
          ],
          "scattermapbox": [
           {
            "marker": {
             "colorbar": {
              "outlinewidth": 0,
              "ticks": ""
             }
            },
            "type": "scattermapbox"
           }
          ],
          "scatterpolar": [
           {
            "marker": {
             "colorbar": {
              "outlinewidth": 0,
              "ticks": ""
             }
            },
            "type": "scatterpolar"
           }
          ],
          "scatterpolargl": [
           {
            "marker": {
             "colorbar": {
              "outlinewidth": 0,
              "ticks": ""
             }
            },
            "type": "scatterpolargl"
           }
          ],
          "scatterternary": [
           {
            "marker": {
             "colorbar": {
              "outlinewidth": 0,
              "ticks": ""
             }
            },
            "type": "scatterternary"
           }
          ],
          "surface": [
           {
            "colorbar": {
             "outlinewidth": 0,
             "ticks": ""
            },
            "colorscale": [
             [
              0,
              "#0d0887"
             ],
             [
              0.1111111111111111,
              "#46039f"
             ],
             [
              0.2222222222222222,
              "#7201a8"
             ],
             [
              0.3333333333333333,
              "#9c179e"
             ],
             [
              0.4444444444444444,
              "#bd3786"
             ],
             [
              0.5555555555555556,
              "#d8576b"
             ],
             [
              0.6666666666666666,
              "#ed7953"
             ],
             [
              0.7777777777777778,
              "#fb9f3a"
             ],
             [
              0.8888888888888888,
              "#fdca26"
             ],
             [
              1,
              "#f0f921"
             ]
            ],
            "type": "surface"
           }
          ],
          "table": [
           {
            "cells": {
             "fill": {
              "color": "#EBF0F8"
             },
             "line": {
              "color": "white"
             }
            },
            "header": {
             "fill": {
              "color": "#C8D4E3"
             },
             "line": {
              "color": "white"
             }
            },
            "type": "table"
           }
          ]
         },
         "layout": {
          "annotationdefaults": {
           "arrowcolor": "#2a3f5f",
           "arrowhead": 0,
           "arrowwidth": 1
          },
          "autotypenumbers": "strict",
          "coloraxis": {
           "colorbar": {
            "outlinewidth": 0,
            "ticks": ""
           }
          },
          "colorscale": {
           "diverging": [
            [
             0,
             "#8e0152"
            ],
            [
             0.1,
             "#c51b7d"
            ],
            [
             0.2,
             "#de77ae"
            ],
            [
             0.3,
             "#f1b6da"
            ],
            [
             0.4,
             "#fde0ef"
            ],
            [
             0.5,
             "#f7f7f7"
            ],
            [
             0.6,
             "#e6f5d0"
            ],
            [
             0.7,
             "#b8e186"
            ],
            [
             0.8,
             "#7fbc41"
            ],
            [
             0.9,
             "#4d9221"
            ],
            [
             1,
             "#276419"
            ]
           ],
           "sequential": [
            [
             0,
             "#0d0887"
            ],
            [
             0.1111111111111111,
             "#46039f"
            ],
            [
             0.2222222222222222,
             "#7201a8"
            ],
            [
             0.3333333333333333,
             "#9c179e"
            ],
            [
             0.4444444444444444,
             "#bd3786"
            ],
            [
             0.5555555555555556,
             "#d8576b"
            ],
            [
             0.6666666666666666,
             "#ed7953"
            ],
            [
             0.7777777777777778,
             "#fb9f3a"
            ],
            [
             0.8888888888888888,
             "#fdca26"
            ],
            [
             1,
             "#f0f921"
            ]
           ],
           "sequentialminus": [
            [
             0,
             "#0d0887"
            ],
            [
             0.1111111111111111,
             "#46039f"
            ],
            [
             0.2222222222222222,
             "#7201a8"
            ],
            [
             0.3333333333333333,
             "#9c179e"
            ],
            [
             0.4444444444444444,
             "#bd3786"
            ],
            [
             0.5555555555555556,
             "#d8576b"
            ],
            [
             0.6666666666666666,
             "#ed7953"
            ],
            [
             0.7777777777777778,
             "#fb9f3a"
            ],
            [
             0.8888888888888888,
             "#fdca26"
            ],
            [
             1,
             "#f0f921"
            ]
           ]
          },
          "colorway": [
           "#636efa",
           "#EF553B",
           "#00cc96",
           "#ab63fa",
           "#FFA15A",
           "#19d3f3",
           "#FF6692",
           "#B6E880",
           "#FF97FF",
           "#FECB52"
          ],
          "font": {
           "color": "#2a3f5f"
          },
          "geo": {
           "bgcolor": "white",
           "lakecolor": "white",
           "landcolor": "#E5ECF6",
           "showlakes": true,
           "showland": true,
           "subunitcolor": "white"
          },
          "hoverlabel": {
           "align": "left"
          },
          "hovermode": "closest",
          "mapbox": {
           "style": "light"
          },
          "paper_bgcolor": "white",
          "plot_bgcolor": "#E5ECF6",
          "polar": {
           "angularaxis": {
            "gridcolor": "white",
            "linecolor": "white",
            "ticks": ""
           },
           "bgcolor": "#E5ECF6",
           "radialaxis": {
            "gridcolor": "white",
            "linecolor": "white",
            "ticks": ""
           }
          },
          "scene": {
           "xaxis": {
            "backgroundcolor": "#E5ECF6",
            "gridcolor": "white",
            "gridwidth": 2,
            "linecolor": "white",
            "showbackground": true,
            "ticks": "",
            "zerolinecolor": "white"
           },
           "yaxis": {
            "backgroundcolor": "#E5ECF6",
            "gridcolor": "white",
            "gridwidth": 2,
            "linecolor": "white",
            "showbackground": true,
            "ticks": "",
            "zerolinecolor": "white"
           },
           "zaxis": {
            "backgroundcolor": "#E5ECF6",
            "gridcolor": "white",
            "gridwidth": 2,
            "linecolor": "white",
            "showbackground": true,
            "ticks": "",
            "zerolinecolor": "white"
           }
          },
          "shapedefaults": {
           "line": {
            "color": "#2a3f5f"
           }
          },
          "ternary": {
           "aaxis": {
            "gridcolor": "white",
            "linecolor": "white",
            "ticks": ""
           },
           "baxis": {
            "gridcolor": "white",
            "linecolor": "white",
            "ticks": ""
           },
           "bgcolor": "#E5ECF6",
           "caxis": {
            "gridcolor": "white",
            "linecolor": "white",
            "ticks": ""
           }
          },
          "title": {
           "x": 0.05
          },
          "xaxis": {
           "automargin": true,
           "gridcolor": "white",
           "linecolor": "white",
           "ticks": "",
           "title": {
            "standoff": 15
           },
           "zerolinecolor": "white",
           "zerolinewidth": 2
          },
          "yaxis": {
           "automargin": true,
           "gridcolor": "white",
           "linecolor": "white",
           "ticks": "",
           "title": {
            "standoff": 15
           },
           "zerolinecolor": "white",
           "zerolinewidth": 2
          }
         }
        },
        "title": {
         "font": {
          "size": 20
         },
         "text": "🧠 Spreidingsdiagram: Geluk vs. Depressie per land (2019)"
        },
        "xaxis": {
         "anchor": "y",
         "autorange": true,
         "domain": [
          0,
          1
         ],
         "gridcolor": "lightgrey",
         "range": [
          2.5473336968375135,
          7.882666303162487
         ],
         "showgrid": true,
         "title": {
          "text": "Geluksindex"
         },
         "type": "linear"
        },
        "yaxis": {
         "anchor": "x",
         "autorange": true,
         "domain": [
          0,
          1
         ],
         "gridcolor": "lightgrey",
         "range": [
          1.6341308873528029,
          6.958520012647197
         ],
         "showgrid": true,
         "title": {
          "text": "Depressie (%)"
         },
         "type": "linear"
        }
       }
      },
      "image/png": "[encoded data removed]",
      "text/html": [
       "<div>                            <div id=\"53c72507-f9a8-4916-b766-c799c23e1039\" class=\"plotly-graph-div\" style=\"height:525px; width:100%;\"></div>            <script type=\"text/javascript\">                require([\"plotly\"], function(Plotly) {                    window.PLOTLYENV=window.PLOTLYENV || {};                                    if (document.getElementById(\"53c72507-f9a8-4916-b766-c799c23e1039\")) {                    Plotly.newPlot(                        \"53c72507-f9a8-4916-b766-c799c23e1039\",                        [{\"hovertemplate\":\"<b>%{hovertext}</b><br><br>Geluksindex=%{x}<br>Depressie (%)=%{y}<extra></extra>\",\"hovertext\":[\"Switzerland\",\"Iceland\",\"Denmark\",\"Norway\",\"Canada\",\"Finland\",\"Netherlands\",\"Sweden\",\"New Zealand\",\"Australia\",\"Israel\",\"Costa Rica\",\"Austria\",\"Mexico\",\"United States\",\"Brazil\",\"Luxembourg\",\"Ireland\",\"Belgium\",\"United Arab Emirates\",\"United Kingdom\",\"Oman\",\"Venezuela\",\"Singapore\",\"Panama\",\"Germany\",\"Chile\",\"Qatar\",\"France\",\"Argentina\",\"Uruguay\",\"Colombia\",\"Thailand\",\"Saudi Arabia\",\"Spain\",\"Malta\",\"Taiwan\",\"Kuwait\",\"Suriname\",\"Trinidad and Tobago\",\"El Salvador\",\"Guatemala\",\"Uzbekistan\",\"Slovakia\",\"Japan\",\"South Korea\",\"Ecuador\",\"Bahrain\",\"Italy\",\"Bolivia\",\"Moldova\",\"Paraguay\",\"Kazakhstan\",\"Slovenia\",\"Lithuania\",\"Nicaragua\",\"Peru\",\"Belarus\",\"Poland\",\"Malaysia\",\"Croatia\",\"Libya\",\"Russia\",\"Jamaica\",\"Cyprus\",\"Algeria\",\"Turkmenistan\",\"Mauritius\",\"Estonia\",\"Indonesia\",\"Vietnam\",\"Turkey\",\"Kyrgyzstan\",\"Nigeria\",\"Bhutan\",\"Azerbaijan\",\"Pakistan\",\"Montenegro\",\"Jordan\",\"China\",\"Zambia\",\"Romania\",\"Serbia\",\"Portugal\",\"Latvia\",\"Philippines\",\"Morocco\",\"Mozambique\",\"Albania\",\"Bosnia and Herzegovina\",\"Lesotho\",\"Dominican Republic\",\"Laos\",\"Mongolia\",\"Greece\",\"Lebanon\",\"Hungary\",\"Honduras\",\"Tajikistan\",\"Tunisia\",\"Bangladesh\",\"Iran\",\"Ukraine\",\"Iraq\",\"South Africa\",\"Ghana\",\"Zimbabwe\",\"Liberia\",\"India\",\"Sudan\",\"Haiti\",\"Nepal\",\"Ethiopia\",\"Sierra Leone\",\"Mauritania\",\"Kenya\",\"Djibouti\",\"Armenia\",\"Botswana\",\"Myanmar\",\"Georgia\",\"Malawi\",\"Sri Lanka\",\"Cameroon\",\"Bulgaria\",\"Egypt\",\"Yemen\",\"Angola\",\"Mali\",\"Comoros\",\"Uganda\",\"Senegal\",\"Gabon\",\"Niger\",\"Cambodia\",\"Tanzania\",\"Madagascar\",\"Central African Republic\",\"Chad\",\"Guinea\",\"Burkina Faso\",\"Afghanistan\",\"Rwanda\",\"Benin\",\"Syria\",\"Burundi\",\"Togo\"],\"legendgroup\":\"\",\"marker\":{\"color\":\"darkcyan\",\"opacity\":0.7,\"symbol\":\"circle\",\"size\":8},\"mode\":\"markers\",\"name\":\"\",\"orientation\":\"v\",\"showlegend\":false,\"x\":[7.59,7.56,7.53,7.52,7.43,7.41,7.38,7.36,7.29,7.28,7.28,7.23,7.2,7.19,7.12,6.98,6.95,6.94,6.94,6.9,6.87,6.85,6.81,6.8,6.79,6.75,6.67,6.61,6.57,6.57,6.49,6.48,6.45,6.41,6.33,6.3,6.3,6.3,6.27,6.17,6.13,6.12,6.0,5.99,5.99,5.98,5.97,5.96,5.95,5.89,5.89,5.88,5.86,5.85,5.83,5.83,5.82,5.81,5.79,5.77,5.76,5.75,5.72,5.71,5.69,5.61,5.55,5.48,5.43,5.4,5.36,5.33,5.29,5.27,5.25,5.21,5.19,5.19,5.19,5.14,5.13,5.12,5.12,5.1,5.1,5.07,5.01,4.97,4.96,4.95,4.9,4.89,4.88,4.87,4.86,4.84,4.8,4.79,4.79,4.74,4.69,4.69,4.68,4.68,4.64,4.63,4.61,4.57,4.57,4.55,4.52,4.51,4.51,4.51,4.44,4.42,4.37,4.35,4.33,4.31,4.3,4.29,4.27,4.25,4.22,4.19,4.08,4.03,3.99,3.96,3.93,3.9,3.9,3.85,3.82,3.78,3.68,3.68,3.67,3.66,3.59,3.58,3.46,3.34,3.01,2.9,2.84],\"xaxis\":\"x\",\"y\":[3.705447,2.9365938,3.4828994,3.2382026,3.2904658,4.139295,3.5344012,4.116486,3.7238638,4.382458,4.127255,3.2132857,3.125201,3.5358298,4.375998,3.8015563,3.2193074,4.2169313,3.5420222,3.5784907,4.0975676,3.962998,3.2147944,2.0081315,2.9369144,3.3767943,3.6435125,3.9513783,3.835741,2.4075098,2.840908,2.2196279,2.847038,4.216069,4.704455,3.1311812,2.564065,4.0603004,4.6881685,3.82637,3.4073691,3.6679313,3.164448,2.695262,2.1032803,2.091181,3.3306973,4.5280886,3.561658,3.3994322,3.22074,3.6945765,3.4412057,3.1152232,3.9911947,3.2548654,2.2116694,3.824539,2.2779574,3.6630948,3.0076077,4.406427,3.0799155,3.0646706,3.1127021,4.1296806,3.0497415,3.8047628,3.6936426,2.4184713,2.473061,3.9422681,3.3816984,3.8173978,4.024815,2.7526312,3.9425256,2.8178656,4.15211,2.7240157,4.2194896,2.6501622,2.814907,4.3940663,3.7478287,2.779254,5.07854,4.992671,2.4602032,2.7624497,5.511564,3.8231027,2.7468913,3.9632094,5.0422506,4.652712,2.8233702,3.1551142,2.8172803,5.049405,4.6198096,4.860692,3.8973033,3.9326482,4.298678,4.3620286,3.3954756,4.556289,3.6598387,4.4230967,3.6351175,4.8975983,4.64972,4.392157,3.6558447,4.723163,4.4612656,2.9836516,4.2572603,2.1933033,3.3233132,4.100136,2.8662298,4.6046395,2.6916606,3.9397578,4.8953676,5.7441936,3.5413845,4.2631598,6.5845194,4.0294,5.5459714,4.235215,2.9500995,4.651242,4.737187,5.9238467,5.1334114,4.3731165,4.378302,4.945168,5.0970206,4.447893,4.132855,4.705153,4.5008154],\"yaxis\":\"y\",\"type\":\"scatter\"},{\"hovertemplate\":\"<b>OLS trendline</b><br>Depressie (%) = -0.284532 * Happiness score + 5.29221<br>R<sup>2</sup>=0.148592<br><br>Geluksindex=%{x}<br>Depressie (%)=%{y} <b>(trend)</b><extra></extra>\",\"legendgroup\":\"\",\"marker\":{\"color\":\"darkcyan\",\"symbol\":\"circle\",\"size\":8},\"mode\":\"lines\",\"name\":\"\",\"showlegend\":false,\"x\":[2.84,2.9,3.01,3.34,3.46,3.58,3.59,3.66,3.67,3.68,3.68,3.78,3.82,3.85,3.9,3.9,3.93,3.96,3.99,4.03,4.08,4.19,4.22,4.25,4.27,4.29,4.3,4.31,4.33,4.35,4.37,4.42,4.44,4.51,4.51,4.51,4.52,4.55,4.57,4.57,4.61,4.63,4.64,4.68,4.68,4.69,4.69,4.74,4.79,4.79,4.8,4.84,4.86,4.87,4.88,4.89,4.9,4.95,4.96,4.97,5.01,5.07,5.1,5.1,5.12,5.12,5.13,5.14,5.19,5.19,5.19,5.21,5.25,5.27,5.29,5.33,5.36,5.4,5.43,5.48,5.55,5.61,5.69,5.71,5.72,5.75,5.76,5.77,5.79,5.81,5.82,5.83,5.83,5.85,5.86,5.88,5.89,5.89,5.95,5.96,5.97,5.98,5.99,5.99,6.0,6.12,6.13,6.17,6.27,6.3,6.3,6.3,6.33,6.41,6.45,6.48,6.49,6.57,6.57,6.61,6.67,6.75,6.79,6.8,6.81,6.85,6.87,6.9,6.94,6.94,6.95,6.98,7.12,7.19,7.2,7.23,7.28,7.28,7.29,7.36,7.38,7.41,7.43,7.52,7.53,7.56,7.59],\"xaxis\":\"x\",\"y\":[4.48414292042811,4.467071021080406,4.435772538942947,4.341877092530573,4.307733293835163,4.273589495139754,4.270744178581804,4.250826962676149,4.247981646118198,4.245136329560247,4.245136329560247,4.21668316398074,4.205301897748937,4.196765948075084,4.182539365285331,4.182539365285331,4.1740034156114785,4.165467465937626,4.156931516263774,4.145550250031971,4.131323667242217,4.100025185104759,4.091489235430907,4.082953285757055,4.077262652641154,4.071572019525252,4.068726702967301,4.06588138640935,4.0601907532934485,4.054500120177547,4.048809487061646,4.034582904271892,4.028892271155991,4.008975055250335,4.008975055250335,4.008975055250335,4.006129738692385,3.9975937890185325,3.991903155902631,3.991903155902631,3.980521889670828,3.9748312565549266,3.971985939996976,3.9606046737651726,3.9606046737651726,3.957759357207222,3.957759357207222,3.943532774417468,3.9293061916277146,3.9293061916277146,3.926460875069764,3.915079608837961,3.9093889757220595,3.9065436591641083,3.903698342606158,3.9008530260482073,3.8980077094902565,3.8837811267005025,3.880935810142552,3.878090493584601,3.866709227352798,3.8496373280050937,3.8411013783312415,3.8411013783312415,3.8354107452153396,3.8354107452153396,3.8325654286573894,3.8297201120994386,3.815493529309685,3.815493529309685,3.815493529309685,3.8098028961937835,3.7984216299619806,3.792730996846079,3.7870403637301773,3.7756590974983744,3.767123147824522,3.7557418815927193,3.747205931918867,3.732979349129113,3.713062133223458,3.6959902338757535,3.6732277014121477,3.6675370682962463,3.664691751738295,3.6561558020644433,3.653310485506492,3.650465168948542,3.6447745358326404,3.639083902716739,3.636238586158788,3.633393269600837,3.633393269600837,3.627702636484936,3.624857319926985,3.6191666868110834,3.6163213702531327,3.6163213702531327,3.599249470905428,3.5964041543474776,3.593558837789527,3.590713521231576,3.587868204673625,3.587868204673625,3.5850228881156747,3.5508790894202655,3.548033772862315,3.536652506630512,3.5081993410510046,3.499663391377152,3.499663391377152,3.499663391377152,3.4911274417033,3.468364909239694,3.4569836430078906,3.448447693334039,3.4456023767760877,3.422839844312482,3.422839844312482,3.411458578080679,3.3943866787329746,3.371624146269369,3.360242880037566,3.3573975634796147,3.3545522469216644,3.3431709806898615,3.3374803475739596,3.3289443979001074,3.3175631316683045,3.3175631316683045,3.314717815110354,3.3061818654365016,3.266347433625191,3.246430217719536,3.243584901161585,3.235048951487733,3.2208223686979793,3.2208223686979793,3.2179770521400286,3.198059836234373,3.1923692031184716,3.1838332534446194,3.178142620328718,3.1525347713071614,3.1496894547492107,3.1411535050753585,3.1326175554015063],\"yaxis\":\"y\",\"type\":\"scatter\"}],                        {\"template\":{\"data\":{\"histogram2dcontour\":[{\"type\":\"histogram2dcontour\",\"colorbar\":{\"outlinewidth\":0,\"ticks\":\"\"},\"colorscale\":[[0.0,\"#0d0887\"],[0.1111111111111111,\"#46039f\"],[0.2222222222222222,\"#7201a8\"],[0.3333333333333333,\"#9c179e\"],[0.4444444444444444,\"#bd3786\"],[0.5555555555555556,\"#d8576b\"],[0.6666666666666666,\"#ed7953\"],[0.7777777777777778,\"#fb9f3a\"],[0.8888888888888888,\"#fdca26\"],[1.0,\"#f0f921\"]]}],\"choropleth\":[{\"type\":\"choropleth\",\"colorbar\":{\"outlinewidth\":0,\"ticks\":\"\"}}],\"histogram2d\":[{\"type\":\"histogram2d\",\"colorbar\":{\"outlinewidth\":0,\"ticks\":\"\"},\"colorscale\":[[0.0,\"#0d0887\"],[0.1111111111111111,\"#46039f\"],[0.2222222222222222,\"#7201a8\"],[0.3333333333333333,\"#9c179e\"],[0.4444444444444444,\"#bd3786\"],[0.5555555555555556,\"#d8576b\"],[0.6666666666666666,\"#ed7953\"],[0.7777777777777778,\"#fb9f3a\"],[0.8888888888888888,\"#fdca26\"],[1.0,\"#f0f921\"]]}],\"heatmap\":[{\"type\":\"heatmap\",\"colorbar\":{\"outlinewidth\":0,\"ticks\":\"\"},\"colorscale\":[[0.0,\"#0d0887\"],[0.1111111111111111,\"#46039f\"],[0.2222222222222222,\"#7201a8\"],[0.3333333333333333,\"#9c179e\"],[0.4444444444444444,\"#bd3786\"],[0.5555555555555556,\"#d8576b\"],[0.6666666666666666,\"#ed7953\"],[0.7777777777777778,\"#fb9f3a\"],[0.8888888888888888,\"#fdca26\"],[1.0,\"#f0f921\"]]}],\"heatmapgl\":[{\"type\":\"heatmapgl\",\"colorbar\":{\"outlinewidth\":0,\"ticks\":\"\"},\"colorscale\":[[0.0,\"#0d0887\"],[0.1111111111111111,\"#46039f\"],[0.2222222222222222,\"#7201a8\"],[0.3333333333333333,\"#9c179e\"],[0.4444444444444444,\"#bd3786\"],[0.5555555555555556,\"#d8576b\"],[0.6666666666666666,\"#ed7953\"],[0.7777777777777778,\"#fb9f3a\"],[0.8888888888888888,\"#fdca26\"],[1.0,\"#f0f921\"]]}],\"contourcarpet\":[{\"type\":\"contourcarpet\",\"colorbar\":{\"outlinewidth\":0,\"ticks\":\"\"}}],\"contour\":[{\"type\":\"contour\",\"colorbar\":{\"outlinewidth\":0,\"ticks\":\"\"},\"colorscale\":[[0.0,\"#0d0887\"],[0.1111111111111111,\"#46039f\"],[0.2222222222222222,\"#7201a8\"],[0.3333333333333333,\"#9c179e\"],[0.4444444444444444,\"#bd3786\"],[0.5555555555555556,\"#d8576b\"],[0.6666666666666666,\"#ed7953\"],[0.7777777777777778,\"#fb9f3a\"],[0.8888888888888888,\"#fdca26\"],[1.0,\"#f0f921\"]]}],\"surface\":[{\"type\":\"surface\",\"colorbar\":{\"outlinewidth\":0,\"ticks\":\"\"},\"colorscale\":[[0.0,\"#0d0887\"],[0.1111111111111111,\"#46039f\"],[0.2222222222222222,\"#7201a8\"],[0.3333333333333333,\"#9c179e\"],[0.4444444444444444,\"#bd3786\"],[0.5555555555555556,\"#d8576b\"],[0.6666666666666666,\"#ed7953\"],[0.7777777777777778,\"#fb9f3a\"],[0.8888888888888888,\"#fdca26\"],[1.0,\"#f0f921\"]]}],\"mesh3d\":[{\"type\":\"mesh3d\",\"colorbar\":{\"outlinewidth\":0,\"ticks\":\"\"}}],\"scatter\":[{\"fillpattern\":{\"fillmode\":\"overlay\",\"size\":10,\"solidity\":0.2},\"type\":\"scatter\"}],\"parcoords\":[{\"type\":\"parcoords\",\"line\":{\"colorbar\":{\"outlinewidth\":0,\"ticks\":\"\"}}}],\"scatterpolargl\":[{\"type\":\"scatterpolargl\",\"marker\":{\"colorbar\":{\"outlinewidth\":0,\"ticks\":\"\"}}}],\"bar\":[{\"error_x\":{\"color\":\"#2a3f5f\"},\"error_y\":{\"color\":\"#2a3f5f\"},\"marker\":{\"line\":{\"color\":\"#E5ECF6\",\"width\":0.5},\"pattern\":{\"fillmode\":\"overlay\",\"size\":10,\"solidity\":0.2}},\"type\":\"bar\"}],\"scattergeo\":[{\"type\":\"scattergeo\",\"marker\":{\"colorbar\":{\"outlinewidth\":0,\"ticks\":\"\"}}}],\"scatterpolar\":[{\"type\":\"scatterpolar\",\"marker\":{\"colorbar\":{\"outlinewidth\":0,\"ticks\":\"\"}}}],\"histogram\":[{\"marker\":{\"pattern\":{\"fillmode\":\"overlay\",\"size\":10,\"solidity\":0.2}},\"type\":\"histogram\"}],\"scattergl\":[{\"type\":\"scattergl\",\"marker\":{\"colorbar\":{\"outlinewidth\":0,\"ticks\":\"\"}}}],\"scatter3d\":[{\"type\":\"scatter3d\",\"line\":{\"colorbar\":{\"outlinewidth\":0,\"ticks\":\"\"}},\"marker\":{\"colorbar\":{\"outlinewidth\":0,\"ticks\":\"\"}}}],\"scattermapbox\":[{\"type\":\"scattermapbox\",\"marker\":{\"colorbar\":{\"outlinewidth\":0,\"ticks\":\"\"}}}],\"scatterternary\":[{\"type\":\"scatterternary\",\"marker\":{\"colorbar\":{\"outlinewidth\":0,\"ticks\":\"\"}}}],\"scattercarpet\":[{\"type\":\"scattercarpet\",\"marker\":{\"colorbar\":{\"outlinewidth\":0,\"ticks\":\"\"}}}],\"carpet\":[{\"aaxis\":{\"endlinecolor\":\"#2a3f5f\",\"gridcolor\":\"white\",\"linecolor\":\"white\",\"minorgridcolor\":\"white\",\"startlinecolor\":\"#2a3f5f\"},\"baxis\":{\"endlinecolor\":\"#2a3f5f\",\"gridcolor\":\"white\",\"linecolor\":\"white\",\"minorgridcolor\":\"white\",\"startlinecolor\":\"#2a3f5f\"},\"type\":\"carpet\"}],\"table\":[{\"cells\":{\"fill\":{\"color\":\"#EBF0F8\"},\"line\":{\"color\":\"white\"}},\"header\":{\"fill\":{\"color\":\"#C8D4E3\"},\"line\":{\"color\":\"white\"}},\"type\":\"table\"}],\"barpolar\":[{\"marker\":{\"line\":{\"color\":\"#E5ECF6\",\"width\":0.5},\"pattern\":{\"fillmode\":\"overlay\",\"size\":10,\"solidity\":0.2}},\"type\":\"barpolar\"}],\"pie\":[{\"automargin\":true,\"type\":\"pie\"}]},\"layout\":{\"autotypenumbers\":\"strict\",\"colorway\":[\"#636efa\",\"#EF553B\",\"#00cc96\",\"#ab63fa\",\"#FFA15A\",\"#19d3f3\",\"#FF6692\",\"#B6E880\",\"#FF97FF\",\"#FECB52\"],\"font\":{\"color\":\"#2a3f5f\"},\"hovermode\":\"closest\",\"hoverlabel\":{\"align\":\"left\"},\"paper_bgcolor\":\"white\",\"plot_bgcolor\":\"#E5ECF6\",\"polar\":{\"bgcolor\":\"#E5ECF6\",\"angularaxis\":{\"gridcolor\":\"white\",\"linecolor\":\"white\",\"ticks\":\"\"},\"radialaxis\":{\"gridcolor\":\"white\",\"linecolor\":\"white\",\"ticks\":\"\"}},\"ternary\":{\"bgcolor\":\"#E5ECF6\",\"aaxis\":{\"gridcolor\":\"white\",\"linecolor\":\"white\",\"ticks\":\"\"},\"baxis\":{\"gridcolor\":\"white\",\"linecolor\":\"white\",\"ticks\":\"\"},\"caxis\":{\"gridcolor\":\"white\",\"linecolor\":\"white\",\"ticks\":\"\"}},\"coloraxis\":{\"colorbar\":{\"outlinewidth\":0,\"ticks\":\"\"}},\"colorscale\":{\"sequential\":[[0.0,\"#0d0887\"],[0.1111111111111111,\"#46039f\"],[0.2222222222222222,\"#7201a8\"],[0.3333333333333333,\"#9c179e\"],[0.4444444444444444,\"#bd3786\"],[0.5555555555555556,\"#d8576b\"],[0.6666666666666666,\"#ed7953\"],[0.7777777777777778,\"#fb9f3a\"],[0.8888888888888888,\"#fdca26\"],[1.0,\"#f0f921\"]],\"sequentialminus\":[[0.0,\"#0d0887\"],[0.1111111111111111,\"#46039f\"],[0.2222222222222222,\"#7201a8\"],[0.3333333333333333,\"#9c179e\"],[0.4444444444444444,\"#bd3786\"],[0.5555555555555556,\"#d8576b\"],[0.6666666666666666,\"#ed7953\"],[0.7777777777777778,\"#fb9f3a\"],[0.8888888888888888,\"#fdca26\"],[1.0,\"#f0f921\"]],\"diverging\":[[0,\"#8e0152\"],[0.1,\"#c51b7d\"],[0.2,\"#de77ae\"],[0.3,\"#f1b6da\"],[0.4,\"#fde0ef\"],[0.5,\"#f7f7f7\"],[0.6,\"#e6f5d0\"],[0.7,\"#b8e186\"],[0.8,\"#7fbc41\"],[0.9,\"#4d9221\"],[1,\"#276419\"]]},\"xaxis\":{\"gridcolor\":\"white\",\"linecolor\":\"white\",\"ticks\":\"\",\"title\":{\"standoff\":15},\"zerolinecolor\":\"white\",\"automargin\":true,\"zerolinewidth\":2},\"yaxis\":{\"gridcolor\":\"white\",\"linecolor\":\"white\",\"ticks\":\"\",\"title\":{\"standoff\":15},\"zerolinecolor\":\"white\",\"automargin\":true,\"zerolinewidth\":2},\"scene\":{\"xaxis\":{\"backgroundcolor\":\"#E5ECF6\",\"gridcolor\":\"white\",\"linecolor\":\"white\",\"showbackground\":true,\"ticks\":\"\",\"zerolinecolor\":\"white\",\"gridwidth\":2},\"yaxis\":{\"backgroundcolor\":\"#E5ECF6\",\"gridcolor\":\"white\",\"linecolor\":\"white\",\"showbackground\":true,\"ticks\":\"\",\"zerolinecolor\":\"white\",\"gridwidth\":2},\"zaxis\":{\"backgroundcolor\":\"#E5ECF6\",\"gridcolor\":\"white\",\"linecolor\":\"white\",\"showbackground\":true,\"ticks\":\"\",\"zerolinecolor\":\"white\",\"gridwidth\":2}},\"shapedefaults\":{\"line\":{\"color\":\"#2a3f5f\"}},\"annotationdefaults\":{\"arrowcolor\":\"#2a3f5f\",\"arrowhead\":0,\"arrowwidth\":1},\"geo\":{\"bgcolor\":\"white\",\"landcolor\":\"#E5ECF6\",\"subunitcolor\":\"white\",\"showland\":true,\"showlakes\":true,\"lakecolor\":\"white\"},\"title\":{\"x\":0.05},\"mapbox\":{\"style\":\"light\"}}},\"xaxis\":{\"anchor\":\"y\",\"domain\":[0.0,1.0],\"title\":{\"text\":\"Geluksindex\"},\"showgrid\":true,\"gridcolor\":\"lightgrey\"},\"yaxis\":{\"anchor\":\"x\",\"domain\":[0.0,1.0],\"title\":{\"text\":\"Depressie (%)\"},\"showgrid\":true,\"gridcolor\":\"lightgrey\"},\"legend\":{\"tracegroupgap\":0},\"title\":{\"text\":\"\\ud83e\\udde0 Spreidingsdiagram: Geluk vs. Depressie per land (2019)\",\"font\":{\"size\":20}},\"margin\":{\"l\":20,\"r\":20,\"t\":60,\"b\":40},\"plot_bgcolor\":\"white\"},                        {\"responsive\": true}                    ).then(function(){\n",
       "                            \n",
       "var gd = document.getElementById('53c72507-f9a8-4916-b766-c799c23e1039');\n",
       "var x = new MutationObserver(function (mutations, observer) {{\n",
       "        var display = window.getComputedStyle(gd).display;\n",
       "        if (!display || display === 'none') {{\n",
       "            console.log([gd, 'removed!']);\n",
       "            Plotly.purge(gd);\n",
       "            observer.disconnect();\n",
       "        }}\n",
       "}});\n",
       "\n",
       "// Listen for the removal of the full notebook cells\n",
       "var notebookContainer = gd.closest('#notebook-container');\n",
       "if (notebookContainer) {{\n",
       "    x.observe(notebookContainer, {childList: true});\n",
       "}}\n",
       "\n",
       "// Listen for the clearing of the current output cell\n",
       "var outputEl = gd.closest('.output');\n",
       "if (outputEl) {{\n",
       "    x.observe(outputEl, {childList: true});\n",
       "}}\n",
       "\n",
       "                        })                };                });            </script>        </div>"
      ]
     },
     "metadata": {},
     "output_type": "display_data"
    }
   ],
   "source": [
    "# 5-Spreidingsdiagram\n",
    "# Verbindt geluk en depressie.\n",
    "\n",
    "df_2019 = df[df['Year'] == 2019]\n",
    "\n",
    "depressie_col = 'Depressive disorders (share of population) - Sex: Both - Age: Age-standardized'\n",
    "\n",
    "depressie_klein = df_2019[['Entity', depressie_col]].rename(\n",
    "    columns={'Entity': 'Country', depressie_col: 'Depressie (%)'}\n",
    ")\n",
    "\n",
    "# w_h['Happiness score'] = w_h['Happiness score'].str.replace(',', '.').astype(float)\n",
    "\n",
    "data = pd.merge(w_h[['Country', 'Happiness score']], depressie_klein, on='Country')\n",
    "\n",
    "fig = px.scatter(\n",
    "    data,\n",
    "    x='Happiness score',\n",
    "    y='Depressie (%)',\n",
    "    hover_name='Country',\n",
    "    title='\\U0001F9E0 Spreidingsdiagram: Geluk vs. Depressie per land (2019)',\n",
    "    labels={\n",
    "        'Happiness score': 'Geluksindex',\n",
    "        'Depressie (%)': 'Depressie (%)'\n",
    "    },\n",
    "    trendline='ols',\n",
    "    opacity=0.7\n",
    ")\n",
    "\n",
    "fig.update_traces(marker=dict(size=8, color='darkcyan'))\n",
    "fig.update_layout(\n",
    "    title_font=dict(size=20),\n",
    "    plot_bgcolor='white',\n",
    "    xaxis=dict(showgrid=True, gridcolor='lightgrey'),\n",
    "    yaxis=dict(showgrid=True, gridcolor='lightgrey'),\n",
    "    margin=dict(l=20, r=20, t=60, b=40)\n",
    ")\n",
    "\n",
    "fig.show()"
   ]
  },
  {
   "cell_type": "code",
   "execution_count": 90,
   "id": "58aa054e-f9a9-4b43-8714-8ca34ace62f9",
   "metadata": {},
   "outputs": [
    {
     "data": {
      "image/png": "[encoded data removed]",
      "text/plain": [
       "<Figure size 1100x700 with 1 Axes>"
      ]
     },
     "metadata": {},
     "output_type": "display_data"
    }
   ],
   "source": [
    "# 6. Staafdiagram\n",
    "# Toont de mate van maatschappelijke steun in de 15 gelukkigste landen.\n",
    "\n",
    "if w_h['Happiness score'].dtype == object:\n",
    "    w_h['Happiness score'] = w_h['Happiness score'].str.replace(',', '.').astype(float)\n",
    "\n",
    "if w_h['Social support'].dtype == object:\n",
    "    w_h['Social support'] = w_h['Social support'].str.replace(',', '.').astype(float)\n",
    "\n",
    "top15 = w_h.sort_values('Happiness score', ascending=False).head(15)\n",
    "\n",
    "top15_sorted = top15.sort_values('Social support')\n",
    "\n",
    "plt.figure(figsize=(11, 7))\n",
    "plt.scatter(top15_sorted['Social support'], top15_sorted['Country'], color='darkorange', s=100)\n",
    "\n",
    "for i, row in top15_sorted.iterrows():\n",
    "    plt.plot([0, row['Social support']], [row['Country'], row['Country']], color='lightgray', lw=1)\n",
    "\n",
    "for i, row in top15_sorted.iterrows():\n",
    "    x = float(row['Social support'])\n",
    "    y = row['Country']\n",
    "    label = f\"{x:.2f}\"\n",
    "    plt.text(x + 0.02, y, label, va='center', fontsize=9)\n",
    "\n",
    "plt.xlabel('Social support')\n",
    "plt.title('Maatschappelijke steun in de 15 gelukkigste landen (2015)', fontsize=14)\n",
    "plt.grid(axis='x', linestyle='--', alpha=0.5)\n",
    "plt.tight_layout()\n",
    "plt.show()\n"
   ]
  },
  {
   "cell_type": "code",
   "execution_count": 89,
   "id": "94f9a80c-3c46-48d4-aa0c-e942cfe66038",
   "metadata": {},
   "outputs": [
    {
     "data": {
      "application/vnd.plotly.v1+json": {
       "config": {
        "plotlyServerURL": "https://plot.ly"
       },
       "data": [
        {
         "alignmentgroup": "True",
         "hovertemplate": "Categorie=Geluksniveau<br>Land=%{x}<br>Score=%{y}<extra></extra>",
         "legendgroup": "Geluksniveau",
         "marker": {
          "color": "#636efa",
          "pattern": {
           "shape": ""
          }
         },
         "name": "Geluksniveau",
         "offsetgroup": "Geluksniveau",
         "orientation": "v",
         "showlegend": true,
         "textposition": "auto",
         "type": "bar",
         "x": [
          "Switzerland",
          "Iceland",
          "Denmark",
          "Norway",
          "Canada",
          "New Zealand",
          "Brazil",
          "Ireland",
          "Portugal",
          "Lesotho",
          "Iran",
          "Angola",
          "Uganda",
          "Gabon",
          "Central African Republic"
         ],
         "xaxis": "x",
         "y": [
          7.59,
          7.56,
          7.53,
          7.52,
          7.43,
          7.29,
          6.98,
          6.94,
          5.1,
          4.9,
          4.69,
          4.03,
          3.93,
          3.9,
          3.68
         ],
         "yaxis": "y"
        },
        {
         "alignmentgroup": "True",
         "hovertemplate": "Categorie=Depressie<br>Land=%{x}<br>Score=%{y}<extra></extra>",
         "legendgroup": "Depressie",
         "marker": {
          "color": "#EF553B",
          "pattern": {
           "shape": ""
          }
         },
         "name": "Depressie",
         "offsetgroup": "Depressie",
         "orientation": "v",
         "showlegend": true,
         "textposition": "auto",
         "type": "bar",
         "x": [
          "Switzerland",
          "Iceland",
          "Denmark",
          "Norway",
          "Canada",
          "New Zealand",
          "Brazil",
          "Ireland",
          "Portugal",
          "Lesotho",
          "Iran",
          "Angola",
          "Uganda",
          "Gabon",
          "Central African Republic"
         ],
         "xaxis": "x",
         "y": [
          3.6999056,
          2.9143543,
          3.4930105,
          3.1464283,
          3.2546144,
          3.7224247,
          3.8358004,
          4.0138073,
          4.29289,
          5.4719477,
          4.994914,
          5.747701,
          6.5792217,
          5.550644,
          5.933393
         ],
         "yaxis": "y"
        },
        {
         "alignmentgroup": "True",
         "hovertemplate": "Categorie=Angst<br>Land=%{x}<br>Score=%{y}<extra></extra>",
         "legendgroup": "Angst",
         "marker": {
          "color": "#00cc96",
          "pattern": {
           "shape": ""
          }
         },
         "name": "Angst",
         "offsetgroup": "Angst",
         "orientation": "v",
         "showlegend": true,
         "textposition": "auto",
         "type": "bar",
         "x": [
          "Switzerland",
          "Iceland",
          "Denmark",
          "Norway",
          "Canada",
          "New Zealand",
          "Brazil",
          "Ireland",
          "Portugal",
          "Lesotho",
          "Iran",
          "Angola",
          "Uganda",
          "Gabon",
          "Central African Republic"
         ],
         "xaxis": "x",
         "y": [
          6.8399982,
          5.1212854,
          4.896541,
          6.7566686,
          4.3409214,
          7.2632656,
          7.360401,
          7.194756,
          7.8879485,
          3.5783262,
          7.478174,
          3.9686215,
          4.0859733,
          3.967308,
          4.37294
         ],
         "yaxis": "y"
        }
       ],
       "layout": {
        "autosize": true,
        "bargap": 0.2,
        "barmode": "group",
        "legend": {
         "title": {
          "text": "Categorie"
         },
         "tracegroupgap": 0
        },
        "template": {
         "data": {
          "bar": [
           {
            "error_x": {
             "color": "#2a3f5f"
            },
            "error_y": {
             "color": "#2a3f5f"
            },
            "marker": {
             "line": {
              "color": "#E5ECF6",
              "width": 0.5
             },
             "pattern": {
              "fillmode": "overlay",
              "size": 10,
              "solidity": 0.2
             }
            },
            "type": "bar"
           }
          ],
          "barpolar": [
           {
            "marker": {
             "line": {
              "color": "#E5ECF6",
              "width": 0.5
             },
             "pattern": {
              "fillmode": "overlay",
              "size": 10,
              "solidity": 0.2
             }
            },
            "type": "barpolar"
           }
          ],
          "carpet": [
           {
            "aaxis": {
             "endlinecolor": "#2a3f5f",
             "gridcolor": "white",
             "linecolor": "white",
             "minorgridcolor": "white",
             "startlinecolor": "#2a3f5f"
            },
            "baxis": {
             "endlinecolor": "#2a3f5f",
             "gridcolor": "white",
             "linecolor": "white",
             "minorgridcolor": "white",
             "startlinecolor": "#2a3f5f"
            },
            "type": "carpet"
           }
          ],
          "choropleth": [
           {
            "colorbar": {
             "outlinewidth": 0,
             "ticks": ""
            },
            "type": "choropleth"
           }
          ],
          "contour": [
           {
            "colorbar": {
             "outlinewidth": 0,
             "ticks": ""
            },
            "colorscale": [
             [
              0,
              "#0d0887"
             ],
             [
              0.1111111111111111,
              "#46039f"
             ],
             [
              0.2222222222222222,
              "#7201a8"
             ],
             [
              0.3333333333333333,
              "#9c179e"
             ],
             [
              0.4444444444444444,
              "#bd3786"
             ],
             [
              0.5555555555555556,
              "#d8576b"
             ],
             [
              0.6666666666666666,
              "#ed7953"
             ],
             [
              0.7777777777777778,
              "#fb9f3a"
             ],
             [
              0.8888888888888888,
              "#fdca26"
             ],
             [
              1,
              "#f0f921"
             ]
            ],
            "type": "contour"
           }
          ],
          "contourcarpet": [
           {
            "colorbar": {
             "outlinewidth": 0,
             "ticks": ""
            },
            "type": "contourcarpet"
           }
          ],
          "heatmap": [
           {
            "colorbar": {
             "outlinewidth": 0,
             "ticks": ""
            },
            "colorscale": [
             [
              0,
              "#0d0887"
             ],
             [
              0.1111111111111111,
              "#46039f"
             ],
             [
              0.2222222222222222,
              "#7201a8"
             ],
             [
              0.3333333333333333,
              "#9c179e"
             ],
             [
              0.4444444444444444,
              "#bd3786"
             ],
             [
              0.5555555555555556,
              "#d8576b"
             ],
             [
              0.6666666666666666,
              "#ed7953"
             ],
             [
              0.7777777777777778,
              "#fb9f3a"
             ],
             [
              0.8888888888888888,
              "#fdca26"
             ],
             [
              1,
              "#f0f921"
             ]
            ],
            "type": "heatmap"
           }
          ],
          "heatmapgl": [
           {
            "colorbar": {
             "outlinewidth": 0,
             "ticks": ""
            },
            "colorscale": [
             [
              0,
              "#0d0887"
             ],
             [
              0.1111111111111111,
              "#46039f"
             ],
             [
              0.2222222222222222,
              "#7201a8"
             ],
             [
              0.3333333333333333,
              "#9c179e"
             ],
             [
              0.4444444444444444,
              "#bd3786"
             ],
             [
              0.5555555555555556,
              "#d8576b"
             ],
             [
              0.6666666666666666,
              "#ed7953"
             ],
             [
              0.7777777777777778,
              "#fb9f3a"
             ],
             [
              0.8888888888888888,
              "#fdca26"
             ],
             [
              1,
              "#f0f921"
             ]
            ],
            "type": "heatmapgl"
           }
          ],
          "histogram": [
           {
            "marker": {
             "pattern": {
              "fillmode": "overlay",
              "size": 10,
              "solidity": 0.2
             }
            },
            "type": "histogram"
           }
          ],
          "histogram2d": [
           {
            "colorbar": {
             "outlinewidth": 0,
             "ticks": ""
            },
            "colorscale": [
             [
              0,
              "#0d0887"
             ],
             [
              0.1111111111111111,
              "#46039f"
             ],
             [
              0.2222222222222222,
              "#7201a8"
             ],
             [
              0.3333333333333333,
              "#9c179e"
             ],
             [
              0.4444444444444444,
              "#bd3786"
             ],
             [
              0.5555555555555556,
              "#d8576b"
             ],
             [
              0.6666666666666666,
              "#ed7953"
             ],
             [
              0.7777777777777778,
              "#fb9f3a"
             ],
             [
              0.8888888888888888,
              "#fdca26"
             ],
             [
              1,
              "#f0f921"
             ]
            ],
            "type": "histogram2d"
           }
          ],
          "histogram2dcontour": [
           {
            "colorbar": {
             "outlinewidth": 0,
             "ticks": ""
            },
            "colorscale": [
             [
              0,
              "#0d0887"
             ],
             [
              0.1111111111111111,
              "#46039f"
             ],
             [
              0.2222222222222222,
              "#7201a8"
             ],
             [
              0.3333333333333333,
              "#9c179e"
             ],
             [
              0.4444444444444444,
              "#bd3786"
             ],
             [
              0.5555555555555556,
              "#d8576b"
             ],
             [
              0.6666666666666666,
              "#ed7953"
             ],
             [
              0.7777777777777778,
              "#fb9f3a"
             ],
             [
              0.8888888888888888,
              "#fdca26"
             ],
             [
              1,
              "#f0f921"
             ]
            ],
            "type": "histogram2dcontour"
           }
          ],
          "mesh3d": [
           {
            "colorbar": {
             "outlinewidth": 0,
             "ticks": ""
            },
            "type": "mesh3d"
           }
          ],
          "parcoords": [
           {
            "line": {
             "colorbar": {
              "outlinewidth": 0,
              "ticks": ""
             }
            },
            "type": "parcoords"
           }
          ],
          "pie": [
           {
            "automargin": true,
            "type": "pie"
           }
          ],
          "scatter": [
           {
            "fillpattern": {
             "fillmode": "overlay",
             "size": 10,
             "solidity": 0.2
            },
            "type": "scatter"
           }
          ],
          "scatter3d": [
           {
            "line": {
             "colorbar": {
              "outlinewidth": 0,
              "ticks": ""
             }
            },
            "marker": {
             "colorbar": {
              "outlinewidth": 0,
              "ticks": ""
             }
            },
            "type": "scatter3d"
           }
          ],
          "scattercarpet": [
           {
            "marker": {
             "colorbar": {
              "outlinewidth": 0,
              "ticks": ""
             }
            },
            "type": "scattercarpet"
           }
          ],
          "scattergeo": [
           {
            "marker": {
             "colorbar": {
              "outlinewidth": 0,
              "ticks": ""
             }
            },
            "type": "scattergeo"
           }
          ],
          "scattergl": [
           {
            "marker": {
             "colorbar": {
              "outlinewidth": 0,
              "ticks": ""
             }
            },
            "type": "scattergl"
           }
          ],
          "scattermapbox": [
           {
            "marker": {
             "colorbar": {
              "outlinewidth": 0,
              "ticks": ""
             }
            },
            "type": "scattermapbox"
           }
          ],
          "scatterpolar": [
           {
            "marker": {
             "colorbar": {
              "outlinewidth": 0,
              "ticks": ""
             }
            },
            "type": "scatterpolar"
           }
          ],
          "scatterpolargl": [
           {
            "marker": {
             "colorbar": {
              "outlinewidth": 0,
              "ticks": ""
             }
            },
            "type": "scatterpolargl"
           }
          ],
          "scatterternary": [
           {
            "marker": {
             "colorbar": {
              "outlinewidth": 0,
              "ticks": ""
             }
            },
            "type": "scatterternary"
           }
          ],
          "surface": [
           {
            "colorbar": {
             "outlinewidth": 0,
             "ticks": ""
            },
            "colorscale": [
             [
              0,
              "#0d0887"
             ],
             [
              0.1111111111111111,
              "#46039f"
             ],
             [
              0.2222222222222222,
              "#7201a8"
             ],
             [
              0.3333333333333333,
              "#9c179e"
             ],
             [
              0.4444444444444444,
              "#bd3786"
             ],
             [
              0.5555555555555556,
              "#d8576b"
             ],
             [
              0.6666666666666666,
              "#ed7953"
             ],
             [
              0.7777777777777778,
              "#fb9f3a"
             ],
             [
              0.8888888888888888,
              "#fdca26"
             ],
             [
              1,
              "#f0f921"
             ]
            ],
            "type": "surface"
           }
          ],
          "table": [
           {
            "cells": {
             "fill": {
              "color": "#EBF0F8"
             },
             "line": {
              "color": "white"
             }
            },
            "header": {
             "fill": {
              "color": "#C8D4E3"
             },
             "line": {
              "color": "white"
             }
            },
            "type": "table"
           }
          ]
         },
         "layout": {
          "annotationdefaults": {
           "arrowcolor": "#2a3f5f",
           "arrowhead": 0,
           "arrowwidth": 1
          },
          "autotypenumbers": "strict",
          "coloraxis": {
           "colorbar": {
            "outlinewidth": 0,
            "ticks": ""
           }
          },
          "colorscale": {
           "diverging": [
            [
             0,
             "#8e0152"
            ],
            [
             0.1,
             "#c51b7d"
            ],
            [
             0.2,
             "#de77ae"
            ],
            [
             0.3,
             "#f1b6da"
            ],
            [
             0.4,
             "#fde0ef"
            ],
            [
             0.5,
             "#f7f7f7"
            ],
            [
             0.6,
             "#e6f5d0"
            ],
            [
             0.7,
             "#b8e186"
            ],
            [
             0.8,
             "#7fbc41"
            ],
            [
             0.9,
             "#4d9221"
            ],
            [
             1,
             "#276419"
            ]
           ],
           "sequential": [
            [
             0,
             "#0d0887"
            ],
            [
             0.1111111111111111,
             "#46039f"
            ],
            [
             0.2222222222222222,
             "#7201a8"
            ],
            [
             0.3333333333333333,
             "#9c179e"
            ],
            [
             0.4444444444444444,
             "#bd3786"
            ],
            [
             0.5555555555555556,
             "#d8576b"
            ],
            [
             0.6666666666666666,
             "#ed7953"
            ],
            [
             0.7777777777777778,
             "#fb9f3a"
            ],
            [
             0.8888888888888888,
             "#fdca26"
            ],
            [
             1,
             "#f0f921"
            ]
           ],
           "sequentialminus": [
            [
             0,
             "#0d0887"
            ],
            [
             0.1111111111111111,
             "#46039f"
            ],
            [
             0.2222222222222222,
             "#7201a8"
            ],
            [
             0.3333333333333333,
             "#9c179e"
            ],
            [
             0.4444444444444444,
             "#bd3786"
            ],
            [
             0.5555555555555556,
             "#d8576b"
            ],
            [
             0.6666666666666666,
             "#ed7953"
            ],
            [
             0.7777777777777778,
             "#fb9f3a"
            ],
            [
             0.8888888888888888,
             "#fdca26"
            ],
            [
             1,
             "#f0f921"
            ]
           ]
          },
          "colorway": [
           "#636efa",
           "#EF553B",
           "#00cc96",
           "#ab63fa",
           "#FFA15A",
           "#19d3f3",
           "#FF6692",
           "#B6E880",
           "#FF97FF",
           "#FECB52"
          ],
          "font": {
           "color": "#2a3f5f"
          },
          "geo": {
           "bgcolor": "white",
           "lakecolor": "white",
           "landcolor": "#E5ECF6",
           "showlakes": true,
           "showland": true,
           "subunitcolor": "white"
          },
          "hoverlabel": {
           "align": "left"
          },
          "hovermode": "closest",
          "mapbox": {
           "style": "light"
          },
          "paper_bgcolor": "white",
          "plot_bgcolor": "#E5ECF6",
          "polar": {
           "angularaxis": {
            "gridcolor": "white",
            "linecolor": "white",
            "ticks": ""
           },
           "bgcolor": "#E5ECF6",
           "radialaxis": {
            "gridcolor": "white",
            "linecolor": "white",
            "ticks": ""
           }
          },
          "scene": {
           "xaxis": {
            "backgroundcolor": "#E5ECF6",
            "gridcolor": "white",
            "gridwidth": 2,
            "linecolor": "white",
            "showbackground": true,
            "ticks": "",
            "zerolinecolor": "white"
           },
           "yaxis": {
            "backgroundcolor": "#E5ECF6",
            "gridcolor": "white",
            "gridwidth": 2,
            "linecolor": "white",
            "showbackground": true,
            "ticks": "",
            "zerolinecolor": "white"
           },
           "zaxis": {
            "backgroundcolor": "#E5ECF6",
            "gridcolor": "white",
            "gridwidth": 2,
            "linecolor": "white",
            "showbackground": true,
            "ticks": "",
            "zerolinecolor": "white"
           }
          },
          "shapedefaults": {
           "line": {
            "color": "#2a3f5f"
           }
          },
          "ternary": {
           "aaxis": {
            "gridcolor": "white",
            "linecolor": "white",
            "ticks": ""
           },
           "baxis": {
            "gridcolor": "white",
            "linecolor": "white",
            "ticks": ""
           },
           "bgcolor": "#E5ECF6",
           "caxis": {
            "gridcolor": "white",
            "linecolor": "white",
            "ticks": ""
           }
          },
          "title": {
           "x": 0.05
          },
          "xaxis": {
           "automargin": true,
           "gridcolor": "white",
           "linecolor": "white",
           "ticks": "",
           "title": {
            "standoff": 15
           },
           "zerolinecolor": "white",
           "zerolinewidth": 2
          },
          "yaxis": {
           "automargin": true,
           "gridcolor": "white",
           "linecolor": "white",
           "ticks": "",
           "title": {
            "standoff": 15
           },
           "zerolinecolor": "white",
           "zerolinewidth": 2
          }
         }
        },
        "title": {
         "font": {
          "size": 18
         },
         "text": "Top 5 landen in 2015: Geluksniveau, Depressie en Angst"
        },
        "xaxis": {
         "anchor": "y",
         "autorange": true,
         "domain": [
          0,
          1
         ],
         "range": [
          -0.5,
          14.5
         ],
         "title": {
          "text": "Land"
         },
         "type": "category"
        },
        "yaxis": {
         "anchor": "x",
         "autorange": true,
         "domain": [
          0,
          1
         ],
         "range": [
          0,
          8.303103684210527
         ],
         "title": {
          "text": "Waarde"
         },
         "type": "linear"
        }
       }
      },
      "image/png": "[encoded data removed]",
      "text/html": [
       "<div>                            <div id=\"e82a86e9-d28b-4913-9400-37a6e3480409\" class=\"plotly-graph-div\" style=\"height:525px; width:100%;\"></div>            <script type=\"text/javascript\">                require([\"plotly\"], function(Plotly) {                    window.PLOTLYENV=window.PLOTLYENV || {};                                    if (document.getElementById(\"e82a86e9-d28b-4913-9400-37a6e3480409\")) {                    Plotly.newPlot(                        \"e82a86e9-d28b-4913-9400-37a6e3480409\",                        [{\"alignmentgroup\":\"True\",\"hovertemplate\":\"Categorie=Geluksniveau<br>Land=%{x}<br>Score=%{y}<extra></extra>\",\"legendgroup\":\"Geluksniveau\",\"marker\":{\"color\":\"#636efa\",\"pattern\":{\"shape\":\"\"}},\"name\":\"Geluksniveau\",\"offsetgroup\":\"Geluksniveau\",\"orientation\":\"v\",\"showlegend\":true,\"textposition\":\"auto\",\"x\":[\"Switzerland\",\"Iceland\",\"Denmark\",\"Norway\",\"Canada\",\"New Zealand\",\"Brazil\",\"Ireland\",\"Portugal\",\"Lesotho\",\"Iran\",\"Angola\",\"Uganda\",\"Gabon\",\"Central African Republic\"],\"xaxis\":\"x\",\"y\":[7.59,7.56,7.53,7.52,7.43,7.29,6.98,6.94,5.1,4.9,4.69,4.03,3.93,3.9,3.68],\"yaxis\":\"y\",\"type\":\"bar\"},{\"alignmentgroup\":\"True\",\"hovertemplate\":\"Categorie=Depressie<br>Land=%{x}<br>Score=%{y}<extra></extra>\",\"legendgroup\":\"Depressie\",\"marker\":{\"color\":\"#EF553B\",\"pattern\":{\"shape\":\"\"}},\"name\":\"Depressie\",\"offsetgroup\":\"Depressie\",\"orientation\":\"v\",\"showlegend\":true,\"textposition\":\"auto\",\"x\":[\"Switzerland\",\"Iceland\",\"Denmark\",\"Norway\",\"Canada\",\"New Zealand\",\"Brazil\",\"Ireland\",\"Portugal\",\"Lesotho\",\"Iran\",\"Angola\",\"Uganda\",\"Gabon\",\"Central African Republic\"],\"xaxis\":\"x\",\"y\":[3.6999056,2.9143543,3.4930105,3.1464283,3.2546144,3.7224247,3.8358004,4.0138073,4.29289,5.4719477,4.994914,5.747701,6.5792217,5.550644,5.933393],\"yaxis\":\"y\",\"type\":\"bar\"},{\"alignmentgroup\":\"True\",\"hovertemplate\":\"Categorie=Angst<br>Land=%{x}<br>Score=%{y}<extra></extra>\",\"legendgroup\":\"Angst\",\"marker\":{\"color\":\"#00cc96\",\"pattern\":{\"shape\":\"\"}},\"name\":\"Angst\",\"offsetgroup\":\"Angst\",\"orientation\":\"v\",\"showlegend\":true,\"textposition\":\"auto\",\"x\":[\"Switzerland\",\"Iceland\",\"Denmark\",\"Norway\",\"Canada\",\"New Zealand\",\"Brazil\",\"Ireland\",\"Portugal\",\"Lesotho\",\"Iran\",\"Angola\",\"Uganda\",\"Gabon\",\"Central African Republic\"],\"xaxis\":\"x\",\"y\":[6.8399982,5.1212854,4.896541,6.7566686,4.3409214,7.2632656,7.360401,7.194756,7.8879485,3.5783262,7.478174,3.9686215,4.0859733,3.967308,4.37294],\"yaxis\":\"y\",\"type\":\"bar\"}],                        {\"template\":{\"data\":{\"histogram2dcontour\":[{\"type\":\"histogram2dcontour\",\"colorbar\":{\"outlinewidth\":0,\"ticks\":\"\"},\"colorscale\":[[0.0,\"#0d0887\"],[0.1111111111111111,\"#46039f\"],[0.2222222222222222,\"#7201a8\"],[0.3333333333333333,\"#9c179e\"],[0.4444444444444444,\"#bd3786\"],[0.5555555555555556,\"#d8576b\"],[0.6666666666666666,\"#ed7953\"],[0.7777777777777778,\"#fb9f3a\"],[0.8888888888888888,\"#fdca26\"],[1.0,\"#f0f921\"]]}],\"choropleth\":[{\"type\":\"choropleth\",\"colorbar\":{\"outlinewidth\":0,\"ticks\":\"\"}}],\"histogram2d\":[{\"type\":\"histogram2d\",\"colorbar\":{\"outlinewidth\":0,\"ticks\":\"\"},\"colorscale\":[[0.0,\"#0d0887\"],[0.1111111111111111,\"#46039f\"],[0.2222222222222222,\"#7201a8\"],[0.3333333333333333,\"#9c179e\"],[0.4444444444444444,\"#bd3786\"],[0.5555555555555556,\"#d8576b\"],[0.6666666666666666,\"#ed7953\"],[0.7777777777777778,\"#fb9f3a\"],[0.8888888888888888,\"#fdca26\"],[1.0,\"#f0f921\"]]}],\"heatmap\":[{\"type\":\"heatmap\",\"colorbar\":{\"outlinewidth\":0,\"ticks\":\"\"},\"colorscale\":[[0.0,\"#0d0887\"],[0.1111111111111111,\"#46039f\"],[0.2222222222222222,\"#7201a8\"],[0.3333333333333333,\"#9c179e\"],[0.4444444444444444,\"#bd3786\"],[0.5555555555555556,\"#d8576b\"],[0.6666666666666666,\"#ed7953\"],[0.7777777777777778,\"#fb9f3a\"],[0.8888888888888888,\"#fdca26\"],[1.0,\"#f0f921\"]]}],\"heatmapgl\":[{\"type\":\"heatmapgl\",\"colorbar\":{\"outlinewidth\":0,\"ticks\":\"\"},\"colorscale\":[[0.0,\"#0d0887\"],[0.1111111111111111,\"#46039f\"],[0.2222222222222222,\"#7201a8\"],[0.3333333333333333,\"#9c179e\"],[0.4444444444444444,\"#bd3786\"],[0.5555555555555556,\"#d8576b\"],[0.6666666666666666,\"#ed7953\"],[0.7777777777777778,\"#fb9f3a\"],[0.8888888888888888,\"#fdca26\"],[1.0,\"#f0f921\"]]}],\"contourcarpet\":[{\"type\":\"contourcarpet\",\"colorbar\":{\"outlinewidth\":0,\"ticks\":\"\"}}],\"contour\":[{\"type\":\"contour\",\"colorbar\":{\"outlinewidth\":0,\"ticks\":\"\"},\"colorscale\":[[0.0,\"#0d0887\"],[0.1111111111111111,\"#46039f\"],[0.2222222222222222,\"#7201a8\"],[0.3333333333333333,\"#9c179e\"],[0.4444444444444444,\"#bd3786\"],[0.5555555555555556,\"#d8576b\"],[0.6666666666666666,\"#ed7953\"],[0.7777777777777778,\"#fb9f3a\"],[0.8888888888888888,\"#fdca26\"],[1.0,\"#f0f921\"]]}],\"surface\":[{\"type\":\"surface\",\"colorbar\":{\"outlinewidth\":0,\"ticks\":\"\"},\"colorscale\":[[0.0,\"#0d0887\"],[0.1111111111111111,\"#46039f\"],[0.2222222222222222,\"#7201a8\"],[0.3333333333333333,\"#9c179e\"],[0.4444444444444444,\"#bd3786\"],[0.5555555555555556,\"#d8576b\"],[0.6666666666666666,\"#ed7953\"],[0.7777777777777778,\"#fb9f3a\"],[0.8888888888888888,\"#fdca26\"],[1.0,\"#f0f921\"]]}],\"mesh3d\":[{\"type\":\"mesh3d\",\"colorbar\":{\"outlinewidth\":0,\"ticks\":\"\"}}],\"scatter\":[{\"fillpattern\":{\"fillmode\":\"overlay\",\"size\":10,\"solidity\":0.2},\"type\":\"scatter\"}],\"parcoords\":[{\"type\":\"parcoords\",\"line\":{\"colorbar\":{\"outlinewidth\":0,\"ticks\":\"\"}}}],\"scatterpolargl\":[{\"type\":\"scatterpolargl\",\"marker\":{\"colorbar\":{\"outlinewidth\":0,\"ticks\":\"\"}}}],\"bar\":[{\"error_x\":{\"color\":\"#2a3f5f\"},\"error_y\":{\"color\":\"#2a3f5f\"},\"marker\":{\"line\":{\"color\":\"#E5ECF6\",\"width\":0.5},\"pattern\":{\"fillmode\":\"overlay\",\"size\":10,\"solidity\":0.2}},\"type\":\"bar\"}],\"scattergeo\":[{\"type\":\"scattergeo\",\"marker\":{\"colorbar\":{\"outlinewidth\":0,\"ticks\":\"\"}}}],\"scatterpolar\":[{\"type\":\"scatterpolar\",\"marker\":{\"colorbar\":{\"outlinewidth\":0,\"ticks\":\"\"}}}],\"histogram\":[{\"marker\":{\"pattern\":{\"fillmode\":\"overlay\",\"size\":10,\"solidity\":0.2}},\"type\":\"histogram\"}],\"scattergl\":[{\"type\":\"scattergl\",\"marker\":{\"colorbar\":{\"outlinewidth\":0,\"ticks\":\"\"}}}],\"scatter3d\":[{\"type\":\"scatter3d\",\"line\":{\"colorbar\":{\"outlinewidth\":0,\"ticks\":\"\"}},\"marker\":{\"colorbar\":{\"outlinewidth\":0,\"ticks\":\"\"}}}],\"scattermapbox\":[{\"type\":\"scattermapbox\",\"marker\":{\"colorbar\":{\"outlinewidth\":0,\"ticks\":\"\"}}}],\"scatterternary\":[{\"type\":\"scatterternary\",\"marker\":{\"colorbar\":{\"outlinewidth\":0,\"ticks\":\"\"}}}],\"scattercarpet\":[{\"type\":\"scattercarpet\",\"marker\":{\"colorbar\":{\"outlinewidth\":0,\"ticks\":\"\"}}}],\"carpet\":[{\"aaxis\":{\"endlinecolor\":\"#2a3f5f\",\"gridcolor\":\"white\",\"linecolor\":\"white\",\"minorgridcolor\":\"white\",\"startlinecolor\":\"#2a3f5f\"},\"baxis\":{\"endlinecolor\":\"#2a3f5f\",\"gridcolor\":\"white\",\"linecolor\":\"white\",\"minorgridcolor\":\"white\",\"startlinecolor\":\"#2a3f5f\"},\"type\":\"carpet\"}],\"table\":[{\"cells\":{\"fill\":{\"color\":\"#EBF0F8\"},\"line\":{\"color\":\"white\"}},\"header\":{\"fill\":{\"color\":\"#C8D4E3\"},\"line\":{\"color\":\"white\"}},\"type\":\"table\"}],\"barpolar\":[{\"marker\":{\"line\":{\"color\":\"#E5ECF6\",\"width\":0.5},\"pattern\":{\"fillmode\":\"overlay\",\"size\":10,\"solidity\":0.2}},\"type\":\"barpolar\"}],\"pie\":[{\"automargin\":true,\"type\":\"pie\"}]},\"layout\":{\"autotypenumbers\":\"strict\",\"colorway\":[\"#636efa\",\"#EF553B\",\"#00cc96\",\"#ab63fa\",\"#FFA15A\",\"#19d3f3\",\"#FF6692\",\"#B6E880\",\"#FF97FF\",\"#FECB52\"],\"font\":{\"color\":\"#2a3f5f\"},\"hovermode\":\"closest\",\"hoverlabel\":{\"align\":\"left\"},\"paper_bgcolor\":\"white\",\"plot_bgcolor\":\"#E5ECF6\",\"polar\":{\"bgcolor\":\"#E5ECF6\",\"angularaxis\":{\"gridcolor\":\"white\",\"linecolor\":\"white\",\"ticks\":\"\"},\"radialaxis\":{\"gridcolor\":\"white\",\"linecolor\":\"white\",\"ticks\":\"\"}},\"ternary\":{\"bgcolor\":\"#E5ECF6\",\"aaxis\":{\"gridcolor\":\"white\",\"linecolor\":\"white\",\"ticks\":\"\"},\"baxis\":{\"gridcolor\":\"white\",\"linecolor\":\"white\",\"ticks\":\"\"},\"caxis\":{\"gridcolor\":\"white\",\"linecolor\":\"white\",\"ticks\":\"\"}},\"coloraxis\":{\"colorbar\":{\"outlinewidth\":0,\"ticks\":\"\"}},\"colorscale\":{\"sequential\":[[0.0,\"#0d0887\"],[0.1111111111111111,\"#46039f\"],[0.2222222222222222,\"#7201a8\"],[0.3333333333333333,\"#9c179e\"],[0.4444444444444444,\"#bd3786\"],[0.5555555555555556,\"#d8576b\"],[0.6666666666666666,\"#ed7953\"],[0.7777777777777778,\"#fb9f3a\"],[0.8888888888888888,\"#fdca26\"],[1.0,\"#f0f921\"]],\"sequentialminus\":[[0.0,\"#0d0887\"],[0.1111111111111111,\"#46039f\"],[0.2222222222222222,\"#7201a8\"],[0.3333333333333333,\"#9c179e\"],[0.4444444444444444,\"#bd3786\"],[0.5555555555555556,\"#d8576b\"],[0.6666666666666666,\"#ed7953\"],[0.7777777777777778,\"#fb9f3a\"],[0.8888888888888888,\"#fdca26\"],[1.0,\"#f0f921\"]],\"diverging\":[[0,\"#8e0152\"],[0.1,\"#c51b7d\"],[0.2,\"#de77ae\"],[0.3,\"#f1b6da\"],[0.4,\"#fde0ef\"],[0.5,\"#f7f7f7\"],[0.6,\"#e6f5d0\"],[0.7,\"#b8e186\"],[0.8,\"#7fbc41\"],[0.9,\"#4d9221\"],[1,\"#276419\"]]},\"xaxis\":{\"gridcolor\":\"white\",\"linecolor\":\"white\",\"ticks\":\"\",\"title\":{\"standoff\":15},\"zerolinecolor\":\"white\",\"automargin\":true,\"zerolinewidth\":2},\"yaxis\":{\"gridcolor\":\"white\",\"linecolor\":\"white\",\"ticks\":\"\",\"title\":{\"standoff\":15},\"zerolinecolor\":\"white\",\"automargin\":true,\"zerolinewidth\":2},\"scene\":{\"xaxis\":{\"backgroundcolor\":\"#E5ECF6\",\"gridcolor\":\"white\",\"linecolor\":\"white\",\"showbackground\":true,\"ticks\":\"\",\"zerolinecolor\":\"white\",\"gridwidth\":2},\"yaxis\":{\"backgroundcolor\":\"#E5ECF6\",\"gridcolor\":\"white\",\"linecolor\":\"white\",\"showbackground\":true,\"ticks\":\"\",\"zerolinecolor\":\"white\",\"gridwidth\":2},\"zaxis\":{\"backgroundcolor\":\"#E5ECF6\",\"gridcolor\":\"white\",\"linecolor\":\"white\",\"showbackground\":true,\"ticks\":\"\",\"zerolinecolor\":\"white\",\"gridwidth\":2}},\"shapedefaults\":{\"line\":{\"color\":\"#2a3f5f\"}},\"annotationdefaults\":{\"arrowcolor\":\"#2a3f5f\",\"arrowhead\":0,\"arrowwidth\":1},\"geo\":{\"bgcolor\":\"white\",\"landcolor\":\"#E5ECF6\",\"subunitcolor\":\"white\",\"showland\":true,\"showlakes\":true,\"lakecolor\":\"white\"},\"title\":{\"x\":0.05},\"mapbox\":{\"style\":\"light\"}}},\"xaxis\":{\"anchor\":\"y\",\"domain\":[0.0,1.0],\"title\":{\"text\":\"Land\"}},\"yaxis\":{\"anchor\":\"x\",\"domain\":[0.0,1.0],\"title\":{\"text\":\"Waarde\"}},\"legend\":{\"title\":{\"text\":\"Categorie\"},\"tracegroupgap\":0},\"title\":{\"text\":\"Top 5 landen in 2015: Geluksniveau, Depressie en Angst\",\"font\":{\"size\":18}},\"barmode\":\"group\",\"bargap\":0.2},                        {\"responsive\": true}                    ).then(function(){\n",
       "                            \n",
       "var gd = document.getElementById('e82a86e9-d28b-4913-9400-37a6e3480409');\n",
       "var x = new MutationObserver(function (mutations, observer) {{\n",
       "        var display = window.getComputedStyle(gd).display;\n",
       "        if (!display || display === 'none') {{\n",
       "            console.log([gd, 'removed!']);\n",
       "            Plotly.purge(gd);\n",
       "            observer.disconnect();\n",
       "        }}\n",
       "}});\n",
       "\n",
       "// Listen for the removal of the full notebook cells\n",
       "var notebookContainer = gd.closest('#notebook-container');\n",
       "if (notebookContainer) {{\n",
       "    x.observe(notebookContainer, {childList: true});\n",
       "}}\n",
       "\n",
       "// Listen for the clearing of the current output cell\n",
       "var outputEl = gd.closest('.output');\n",
       "if (outputEl) {{\n",
       "    x.observe(outputEl, {childList: true});\n",
       "}}\n",
       "\n",
       "                        })                };                });            </script>        </div>"
      ]
     },
     "metadata": {},
     "output_type": "display_data"
    }
   ],
   "source": [
    "top5_geluk = merged.nlargest(5, 'Happiness score')\n",
    "top5_depressie = merged.nlargest(5, depressie_col)\n",
    "top5_angst = merged.nlargest(5, angst_col)\n",
    "\n",
    "alle_landen = pd.concat([\n",
    "    top5_geluk[['Country']],\n",
    "    top5_depressie[['Country']],\n",
    "    top5_angst[['Country']]\n",
    "]).drop_duplicates()\n",
    "\n",
    "relevante_data = merged[merged['Country'].isin(alle_landen['Country'])]\n",
    "\n",
    "df_geluk = pd.DataFrame({\n",
    "    'Country': relevante_data['Country'],\n",
    "    'Waarde': relevante_data['Happiness score'],\n",
    "    'Categorie': 'Geluksniveau'  # Alleen dit is aangepast\n",
    "})\n",
    "\n",
    "df_depressie = pd.DataFrame({\n",
    "    'Country': relevante_data['Country'],\n",
    "    'Waarde': relevante_data[depressie_col],\n",
    "    'Categorie': 'Depressie'\n",
    "})\n",
    "\n",
    "df_angst = pd.DataFrame({\n",
    "    'Country': relevante_data['Country'],\n",
    "    'Waarde': relevante_data[angst_col],\n",
    "    'Categorie': 'Angst'\n",
    "})\n",
    "\n",
    "df_combine = pd.concat([df_geluk, df_depressie, df_angst])\n",
    "\n",
    "fig = px.bar(\n",
    "    df_combine,\n",
    "    x='Country',\n",
    "    y='Waarde',\n",
    "    color='Categorie',\n",
    "    barmode='group',\n",
    "    title='Top 5 landen in 2015: Geluksniveau, Depressie en Angst',  # ook hier aangepast\n",
    "    labels={'Waarde': 'Score', 'Country': 'Land'}\n",
    ")\n",
    "\n",
    "fig.update_layout(\n",
    "    title_font_size=18,\n",
    "    xaxis_title='Land',\n",
    "    yaxis_title='Waarde',\n",
    "    legend_title='Categorie',\n",
    "    bargap=0.2\n",
    ")\n",
    "\n",
    "fig.show()\n"
   ]
  },
  {
   "cell_type": "code",
   "execution_count": null,
   "id": "6332eb42-c196-452a-b85f-c0e95f06a8c0",
   "metadata": {},
   "outputs": [
    {
     "name": "stdout",
     "output_type": "stream",
     "text": [
      "6420\n",
      "8\n"
     ]
    }
   ],
   "source": [
    "\n",
    "df = pd.read_csv('../datasets/mental-illnesses-prevalence.csv')\n",
    "\n",
    "print(df.shape[0])\n",
    "print(df.shape[1])"
   ]
  },
  {
   "cell_type": "code",
   "execution_count": null,
   "id": "b088a9bf-51a7-403d-861b-67fe51a255fb",
   "metadata": {},
   "outputs": [
    {
     "name": "stdout",
     "output_type": "stream",
     "text": [
      "158\n",
      "10\n"
     ]
    }
   ],
   "source": [
    "w_h = pd.read_csv('../datasets/world_happiness_2015.csv', sep=';')\n",
    "\n",
    "print(w_h.shape[0])\n",
    "print(w_h.shape[1])"
   ]
  },
  {
   "cell_type": "code",
   "execution_count": null,
   "id": "6dc040bd-1c46-4ecd-9a77-328ab61345d0",
   "metadata": {},
   "outputs": [],
   "source": []
  }
 ],
 "metadata": {
  "kernelspec": {
   "display_name": "Python 3 (ipykernel)",
   "language": "python",
   "name": "python3"
  },
  "language_info": {
   "codemirror_mode": {
    "name": "ipython",
    "version": 3
   },
   "file_extension": ".py",
   "mimetype": "text/x-python",
   "name": "python",
   "nbconvert_exporter": "python",
   "pygments_lexer": "ipython3",
   "version": "3.11.7"
  }
 },
 "nbformat": 4,
 "nbformat_minor": 5
}
