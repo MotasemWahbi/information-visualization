{
 "cells": [
  {
   "cell_type": "markdown",
   "id": "c7616330",
   "metadata": {},
   "source": [
    "# Het verhaal"
   ]
  },
  {
   "cell_type": "code",
   "execution_count": 2,
   "id": "bb93d5c1-42be-40b5-8255-1622ca6d473a",
   "metadata": {},
   "outputs": [],
   "source": [
    "import pandas as pd\n",
    "import matplotlib.pyplot as plt\n",
    "import plotly.express as px\n",
    "import plotly.io as pio\n",
    "from IPython.display import HTML"
   ]
  },
  {
   "cell_type": "code",
   "execution_count": null,
   "id": "3e264bbe-bf2a-4105-8a0d-5d0614b50857",
   "metadata": {},
   "outputs": [
    {
     "data": {
      "text/html": [
       "<div>\n",
       "<style scoped>\n",
       "    .dataframe tbody tr th:only-of-type {\n",
       "        vertical-align: middle;\n",
       "    }\n",
       "\n",
       "    .dataframe tbody tr th {\n",
       "        vertical-align: top;\n",
       "    }\n",
       "\n",
       "    .dataframe thead th {\n",
       "        text-align: right;\n",
       "    }\n",
       "</style>\n",
       "<table border=\"1\" class=\"dataframe\">\n",
       "  <thead>\n",
       "    <tr style=\"text-align: right;\">\n",
       "      <th></th>\n",
       "      <th>Ranking</th>\n",
       "      <th>Country</th>\n",
       "      <th>Regional indicator</th>\n",
       "      <th>Happiness score</th>\n",
       "      <th>GDP per capita</th>\n",
       "      <th>Social support</th>\n",
       "      <th>Healthy life expectancy</th>\n",
       "      <th>Freedom to make life choices</th>\n",
       "      <th>Generosity</th>\n",
       "      <th>Perceptions of corruption</th>\n",
       "    </tr>\n",
       "  </thead>\n",
       "  <tbody>\n",
       "    <tr>\n",
       "      <th>0</th>\n",
       "      <td>1</td>\n",
       "      <td>Switzerland</td>\n",
       "      <td>Western Europe</td>\n",
       "      <td>7,59</td>\n",
       "      <td>8,26</td>\n",
       "      <td>0,96</td>\n",
       "      <td>73</td>\n",
       "      <td>0,99</td>\n",
       "      <td>0,37</td>\n",
       "      <td>0,24</td>\n",
       "    </tr>\n",
       "    <tr>\n",
       "      <th>1</th>\n",
       "      <td>2</td>\n",
       "      <td>Iceland</td>\n",
       "      <td>Western Europe</td>\n",
       "      <td>7,56</td>\n",
       "      <td>7,7</td>\n",
       "      <td>1</td>\n",
       "      <td>73</td>\n",
       "      <td>0,94</td>\n",
       "      <td>0,55</td>\n",
       "      <td>0,74</td>\n",
       "    </tr>\n",
       "    <tr>\n",
       "      <th>2</th>\n",
       "      <td>3</td>\n",
       "      <td>Denmark</td>\n",
       "      <td>Western Europe</td>\n",
       "      <td>7,53</td>\n",
       "      <td>7,84</td>\n",
       "      <td>0,97</td>\n",
       "      <td>70</td>\n",
       "      <td>0,97</td>\n",
       "      <td>0,43</td>\n",
       "      <td>0,12</td>\n",
       "    </tr>\n",
       "    <tr>\n",
       "      <th>3</th>\n",
       "      <td>4</td>\n",
       "      <td>Norway</td>\n",
       "      <td>Western Europe</td>\n",
       "      <td>7,52</td>\n",
       "      <td>8,63</td>\n",
       "      <td>0,95</td>\n",
       "      <td>71</td>\n",
       "      <td>1</td>\n",
       "      <td>0,44</td>\n",
       "      <td>0,34</td>\n",
       "    </tr>\n",
       "    <tr>\n",
       "      <th>4</th>\n",
       "      <td>5</td>\n",
       "      <td>Canada</td>\n",
       "      <td>North America and ANZ</td>\n",
       "      <td>7,43</td>\n",
       "      <td>7,85</td>\n",
       "      <td>0,94</td>\n",
       "      <td>71</td>\n",
       "      <td>0,95</td>\n",
       "      <td>0,58</td>\n",
       "      <td>0,4</td>\n",
       "    </tr>\n",
       "  </tbody>\n",
       "</table>\n",
       "</div>"
      ],
      "text/plain": [
       "   Ranking      Country     Regional indicator Happiness score GDP per capita  \\\n",
       "0        1  Switzerland         Western Europe            7,59           8,26   \n",
       "1        2      Iceland         Western Europe            7,56            7,7   \n",
       "2        3      Denmark         Western Europe            7,53           7,84   \n",
       "3        4       Norway         Western Europe            7,52           8,63   \n",
       "4        5       Canada  North America and ANZ            7,43           7,85   \n",
       "\n",
       "  Social support  Healthy life expectancy Freedom to make life choices  \\\n",
       "0           0,96                       73                         0,99   \n",
       "1              1                       73                         0,94   \n",
       "2           0,97                       70                         0,97   \n",
       "3           0,95                       71                            1   \n",
       "4           0,94                       71                         0,95   \n",
       "\n",
       "  Generosity Perceptions of corruption  \n",
       "0       0,37                      0,24  \n",
       "1       0,55                      0,74  \n",
       "2       0,43                      0,12  \n",
       "3       0,44                      0,34  \n",
       "4       0,58                       0,4  "
      ]
     },
     "execution_count": 4,
     "metadata": {},
     "output_type": "execute_result"
    }
   ],
   "source": [
    "w_h = pd.read_csv('../datasets/world_happiness_2015.csv', sep=';')\n",
    "\n",
    "w_h.head(5)"
   ]
  },
  {
   "cell_type": "code",
   "execution_count": 5,
   "id": "004f636d-74d8-4d32-b87e-9d7be9f0a462",
   "metadata": {},
   "outputs": [
    {
     "name": "stdout",
     "output_type": "stream",
     "text": [
      "Gemiddelde Happiness score: 5.38\n",
      "Gemiddelde Social support: 0.71 (std: 0.19)\n",
      "Gemiddelde Healthy life expectancy: 61.50 jaar\n",
      "Gemiddelde Freedom to make life choices: 0.64\n"
     ]
    }
   ],
   "source": [
    "def clean_number(x):\n",
    "    if isinstance(x, str):\n",
    "        x = x.replace('.', '')\n",
    "        x = x.replace(',', '.')\n",
    "    return x\n",
    "\n",
    "w_h['Happiness score'] = w_h['Happiness score'].apply(clean_number).astype(float)\n",
    "w_h['Social support'] = w_h['Social support'].apply(clean_number).astype(float)\n",
    "w_h['Healthy life expectancy'] = w_h['Healthy life expectancy'].apply(clean_number).astype(float)\n",
    "w_h['Freedom to make life choices'] = w_h['Freedom to make life choices'].apply(clean_number).astype(float)\n",
    "\n",
    "mean_happiness = w_h['Happiness score'].mean()\n",
    "mean_social_support = w_h['Social support'].mean()\n",
    "std_social_support = w_h['Social support'].std()\n",
    "mean_healthy_life = w_h['Healthy life expectancy'].mean()\n",
    "mean_freedom = w_h['Freedom to make life choices'].mean()\n",
    "\n",
    "print(f\"Gemiddelde Happiness score: {mean_happiness:.2f}\")\n",
    "print(f\"Gemiddelde Social support: {mean_social_support:.2f} (std: {std_social_support:.2f})\")\n",
    "print(f\"Gemiddelde Healthy life expectancy: {mean_healthy_life:.2f} jaar\")\n",
    "print(f\"Gemiddelde Freedom to make life choices: {mean_freedom:.2f}\")"
   ]
  },
  {
   "cell_type": "code",
   "execution_count": 6,
   "id": "a3ded471-3777-4b78-bcfc-d96fce9d9434",
   "metadata": {},
   "outputs": [
    {
     "name": "stdout",
     "output_type": "stream",
     "text": [
      "Gemiddelde Social support: 0.71\n",
      "Standaarddeviatie Social support: 0.19\n"
     ]
    }
   ],
   "source": [
    "gemiddelde = w_h['Social support'].mean()\n",
    "standaarddeviatie = w_h['Social support'].std()\n",
    "\n",
    "print(f\"Gemiddelde Social support: {gemiddelde:.2f}\")\n",
    "print(f\"Standaarddeviatie Social support: {standaarddeviatie:.2f}\")"
   ]
  },
  {
   "cell_type": "code",
   "execution_count": null,
   "id": "1e1806ef-df0a-48cf-bafc-c0942703428e",
   "metadata": {},
   "outputs": [
    {
     "data": {
      "text/html": [
       "<div>\n",
       "<style scoped>\n",
       "    .dataframe tbody tr th:only-of-type {\n",
       "        vertical-align: middle;\n",
       "    }\n",
       "\n",
       "    .dataframe tbody tr th {\n",
       "        vertical-align: top;\n",
       "    }\n",
       "\n",
       "    .dataframe thead th {\n",
       "        text-align: right;\n",
       "    }\n",
       "</style>\n",
       "<table border=\"1\" class=\"dataframe\">\n",
       "  <thead>\n",
       "    <tr style=\"text-align: right;\">\n",
       "      <th></th>\n",
       "      <th>Entity</th>\n",
       "      <th>Code</th>\n",
       "      <th>Year</th>\n",
       "      <th>Schizophrenia disorders (share of population) - Sex: Both - Age: Age-standardized</th>\n",
       "      <th>Depressive disorders (share of population) - Sex: Both - Age: Age-standardized</th>\n",
       "      <th>Anxiety disorders (share of population) - Sex: Both - Age: Age-standardized</th>\n",
       "      <th>Bipolar disorders (share of population) - Sex: Both - Age: Age-standardized</th>\n",
       "      <th>Eating disorders (share of population) - Sex: Both - Age: Age-standardized</th>\n",
       "    </tr>\n",
       "  </thead>\n",
       "  <tbody>\n",
       "    <tr>\n",
       "      <th>0</th>\n",
       "      <td>Afghanistan</td>\n",
       "      <td>AFG</td>\n",
       "      <td>1990</td>\n",
       "      <td>0.223206</td>\n",
       "      <td>4.996118</td>\n",
       "      <td>4.713314</td>\n",
       "      <td>0.703023</td>\n",
       "      <td>0.127700</td>\n",
       "    </tr>\n",
       "    <tr>\n",
       "      <th>1</th>\n",
       "      <td>Afghanistan</td>\n",
       "      <td>AFG</td>\n",
       "      <td>1991</td>\n",
       "      <td>0.222454</td>\n",
       "      <td>4.989290</td>\n",
       "      <td>4.702100</td>\n",
       "      <td>0.702069</td>\n",
       "      <td>0.123256</td>\n",
       "    </tr>\n",
       "    <tr>\n",
       "      <th>2</th>\n",
       "      <td>Afghanistan</td>\n",
       "      <td>AFG</td>\n",
       "      <td>1992</td>\n",
       "      <td>0.221751</td>\n",
       "      <td>4.981346</td>\n",
       "      <td>4.683743</td>\n",
       "      <td>0.700792</td>\n",
       "      <td>0.118844</td>\n",
       "    </tr>\n",
       "    <tr>\n",
       "      <th>3</th>\n",
       "      <td>Afghanistan</td>\n",
       "      <td>AFG</td>\n",
       "      <td>1993</td>\n",
       "      <td>0.220987</td>\n",
       "      <td>4.976958</td>\n",
       "      <td>4.673549</td>\n",
       "      <td>0.700087</td>\n",
       "      <td>0.115089</td>\n",
       "    </tr>\n",
       "    <tr>\n",
       "      <th>4</th>\n",
       "      <td>Afghanistan</td>\n",
       "      <td>AFG</td>\n",
       "      <td>1994</td>\n",
       "      <td>0.220183</td>\n",
       "      <td>4.977782</td>\n",
       "      <td>4.670810</td>\n",
       "      <td>0.699898</td>\n",
       "      <td>0.111815</td>\n",
       "    </tr>\n",
       "  </tbody>\n",
       "</table>\n",
       "</div>"
      ],
      "text/plain": [
       "        Entity Code  Year  \\\n",
       "0  Afghanistan  AFG  1990   \n",
       "1  Afghanistan  AFG  1991   \n",
       "2  Afghanistan  AFG  1992   \n",
       "3  Afghanistan  AFG  1993   \n",
       "4  Afghanistan  AFG  1994   \n",
       "\n",
       "   Schizophrenia disorders (share of population) - Sex: Both - Age: Age-standardized  \\\n",
       "0                                           0.223206                                   \n",
       "1                                           0.222454                                   \n",
       "2                                           0.221751                                   \n",
       "3                                           0.220987                                   \n",
       "4                                           0.220183                                   \n",
       "\n",
       "   Depressive disorders (share of population) - Sex: Both - Age: Age-standardized  \\\n",
       "0                                           4.996118                                \n",
       "1                                           4.989290                                \n",
       "2                                           4.981346                                \n",
       "3                                           4.976958                                \n",
       "4                                           4.977782                                \n",
       "\n",
       "   Anxiety disorders (share of population) - Sex: Both - Age: Age-standardized  \\\n",
       "0                                           4.713314                             \n",
       "1                                           4.702100                             \n",
       "2                                           4.683743                             \n",
       "3                                           4.673549                             \n",
       "4                                           4.670810                             \n",
       "\n",
       "   Bipolar disorders (share of population) - Sex: Both - Age: Age-standardized  \\\n",
       "0                                           0.703023                             \n",
       "1                                           0.702069                             \n",
       "2                                           0.700792                             \n",
       "3                                           0.700087                             \n",
       "4                                           0.699898                             \n",
       "\n",
       "   Eating disorders (share of population) - Sex: Both - Age: Age-standardized  \n",
       "0                                           0.127700                           \n",
       "1                                           0.123256                           \n",
       "2                                           0.118844                           \n",
       "3                                           0.115089                           \n",
       "4                                           0.111815                           "
      ]
     },
     "execution_count": 7,
     "metadata": {},
     "output_type": "execute_result"
    }
   ],
   "source": [
    "df = pd.read_csv('../datasets/mental-illnesses-prevalence.csv')\n",
    "\n",
    "df.head(5)"
   ]
  },
  {
   "cell_type": "code",
   "execution_count": 8,
   "id": "06e157f4-8652-4e8d-b746-548b29ae9a8d",
   "metadata": {},
   "outputs": [
    {
     "name": "stdout",
     "output_type": "stream",
     "text": [
      "Depressive disorders range: 1.52% – 7.65%\n",
      "Anxiety disorders range: 1.88% – 8.62%\n",
      "Gemiddelde depressie: 3.77%\n",
      "Gemiddelde angst: 4.10%\n"
     ]
    }
   ],
   "source": [
    "depression_col = 'Depressive disorders (share of population) - Sex: Both - Age: Age-standardized'\n",
    "anxiety_col = 'Anxiety disorders (share of population) - Sex: Both - Age: Age-standardized'\n",
    "\n",
    "depression_min = df[depression_col].min()\n",
    "depression_max = df[depression_col].max()\n",
    "\n",
    "anxiety_min = df[anxiety_col].min()\n",
    "anxiety_max = df[anxiety_col].max()\n",
    "\n",
    "print(f\"Depressive disorders range: {depression_min:.2f}% – {depression_max:.2f}%\")\n",
    "print(f\"Anxiety disorders range: {anxiety_min:.2f}% – {anxiety_max:.2f}%\")\n",
    "\n",
    "print(f\"Gemiddelde depressie: {df[depression_col].mean():.2f}%\")\n",
    "print(f\"Gemiddelde angst: {df[anxiety_col].mean():.2f}%\")\n"
   ]
  },
  {
   "cell_type": "markdown",
   "id": "3ecdd74f",
   "metadata": {},
   "source": [
    "# Lijndiagram\n",
    "Dit lijndiagram toont de evolutie van de geluksindex in landen van 2015. Dit helpt bij het begrijpen van algemene trends."
   ]
  },
  {
   "cell_type": "code",
   "execution_count": 9,
   "id": "4e7b8a33-5d69-4a58-b9d4-c717b027c02f",
   "metadata": {},
   "outputs": [
    {
     "data": {
      "image/png": "[encoded data removed]",
      "text/plain": [
       "<Figure size 1400x600 with 1 Axes>"
      ]
     },
     "metadata": {},
     "output_type": "display_data"
    }
   ],
   "source": [
    "w_h_sorted = w_h.sort_values('Happiness score', ascending=False)\n",
    "\n",
    "top_landen = w_h_sorted.head(30)\n",
    "\n",
    "plt.figure(figsize=(14, 6))\n",
    "plt.plot(top_landen['Country'], top_landen['Happiness score'], marker='o', linestyle='-', color='dodgerblue')\n",
    "\n",
    "plt.title('Happiness score per land (2015)', fontsize=14)\n",
    "plt.xlabel('Land')\n",
    "plt.ylabel('Happiness score')\n",
    "plt.xticks(rotation=45, ha='right')\n",
    "plt.grid(True)\n",
    "plt.tight_layout()\n",
    "plt.show()\n"
   ]
  },
  {
   "cell_type": "markdown",
   "id": "0c9d99eb",
   "metadata": {},
   "source": [
    "# Wereldkaart\n",
    "De landen zijn gekleurd volgens hun gemiddelde geluksindex. Dit toont de wereldwijde verdeling van geluk."
   ]
  },
  {
   "cell_type": "code",
   "execution_count": 11,
   "id": "533265dd-c7b7-4227-bc59-91e12a1aea1d",
   "metadata": {},
   "outputs": [
    {
     "data": {
      "application/vnd.plotly.v1+json": {
       "config": {
        "plotlyServerURL": "https://plot.ly"
       },
       "data": [
        {
         "colorscale": [
          [
           0,
           "green"
          ],
          [
           1,
           "green"
          ]
         ],
         "geo": "geo",
         "hovertemplate": "<b>%{hovertext}</b><br><br>Score Category=Hoog (7.5–10)<br>Country=%{location}<extra></extra>",
         "hovertext": [
          "Switzerland",
          "Iceland",
          "Denmark",
          "Norway"
         ],
         "locationmode": "country names",
         "locations": [
          "Switzerland",
          "Iceland",
          "Denmark",
          "Norway"
         ],
         "name": "Hoog (7.5–10)",
         "showlegend": true,
         "showscale": false,
         "type": "choropleth",
         "z": [
          1,
          1,
          1,
          1
         ]
        },
        {
         "colorscale": [
          [
           0,
           "lightgreen"
          ],
          [
           1,
           "lightgreen"
          ]
         ],
         "geo": "geo",
         "hovertemplate": "<b>%{hovertext}</b><br><br>Score Category=Gemiddeld (6–7.5)<br>Country=%{location}<extra></extra>",
         "hovertext": [
          "Canada",
          "Finland",
          "Netherlands",
          "Sweden",
          "New Zealand",
          "Australia",
          "Israel",
          "Costa Rica",
          "Austria",
          "Mexico",
          "United States",
          "Brazil",
          "Luxembourg",
          "Ireland",
          "Belgium",
          "United Arab Emirates",
          "United Kingdom",
          "Oman",
          "Venezuela",
          "Singapore",
          "Panama",
          "Germany",
          "Chile",
          "Qatar",
          "France",
          "Argentina",
          "Czech Republic",
          "Uruguay",
          "Colombia",
          "Thailand",
          "Saudi Arabia",
          "Spain",
          "Malta",
          "Taiwan",
          "Kuwait",
          "Suriname",
          "Trinidad and Tobago",
          "El Salvador",
          "Guatemala",
          "Uzbekistan"
         ],
         "locationmode": "country names",
         "locations": [
          "Canada",
          "Finland",
          "Netherlands",
          "Sweden",
          "New Zealand",
          "Australia",
          "Israel",
          "Costa Rica",
          "Austria",
          "Mexico",
          "United States",
          "Brazil",
          "Luxembourg",
          "Ireland",
          "Belgium",
          "United Arab Emirates",
          "United Kingdom",
          "Oman",
          "Venezuela",
          "Singapore",
          "Panama",
          "Germany",
          "Chile",
          "Qatar",
          "France",
          "Argentina",
          "Czech Republic",
          "Uruguay",
          "Colombia",
          "Thailand",
          "Saudi Arabia",
          "Spain",
          "Malta",
          "Taiwan",
          "Kuwait",
          "Suriname",
          "Trinidad and Tobago",
          "El Salvador",
          "Guatemala",
          "Uzbekistan"
         ],
         "name": "Gemiddeld (6–7.5)",
         "showlegend": true,
         "showscale": false,
         "type": "choropleth",
         "z": [
          1,
          1,
          1,
          1,
          1,
          1,
          1,
          1,
          1,
          1,
          1,
          1,
          1,
          1,
          1,
          1,
          1,
          1,
          1,
          1,
          1,
          1,
          1,
          1,
          1,
          1,
          1,
          1,
          1,
          1,
          1,
          1,
          1,
          1,
          1,
          1,
          1,
          1,
          1,
          1
         ]
        },
        {
         "colorscale": [
          [
           0,
           "orange"
          ],
          [
           1,
           "orange"
          ]
         ],
         "geo": "geo",
         "hovertemplate": "<b>%{hovertext}</b><br><br>Score Category=Laag (4–6)<br>Country=%{location}<extra></extra>",
         "hovertext": [
          "Slovakia",
          "Japan",
          "South Korea",
          "Ecuador",
          "Bahrain",
          "Italy",
          "Bolivia",
          "Moldova",
          "Paraguay",
          "Kazakhstan",
          "Slovenia",
          "Lithuania",
          "Nicaragua",
          "Peru",
          "Belarus",
          "Poland",
          "Malaysia",
          "Croatia",
          "Libya",
          "Russia",
          "Jamaica",
          "North Cyprus",
          "Cyprus",
          "Algeria",
          "Kosovo",
          "Turkmenistan",
          "Mauritius",
          "Hong Kong",
          "Estonia",
          "Indonesia",
          "Vietnam",
          "Turkey",
          "Kyrgyzstan",
          "Nigeria",
          "Bhutan",
          "Azerbaijan",
          "Pakistan",
          "Montenegro",
          "Jordan",
          "China",
          "Zambia",
          "Romania",
          "Serbia",
          "Portugal",
          "Latvia",
          "Philippines",
          "Somaliland region",
          "Morocco",
          "Macedonia",
          "Mozambique",
          "Albania",
          "Bosnia and Herzegovina",
          "Lesotho",
          "Dominican Republic",
          "Laos",
          "Mongolia",
          "Swaziland",
          "Greece",
          "Lebanon",
          "Hungary",
          "Honduras",
          "Tajikistan",
          "Tunisia",
          "Palestinian Territories",
          "Bangladesh",
          "Iran",
          "Ukraine",
          "Iraq",
          "South Africa",
          "Ghana",
          "Zimbabwe",
          "Liberia",
          "India",
          "Sudan",
          "Haiti",
          "Congo (Kinshasa)",
          "Nepal",
          "Ethiopia",
          "Sierra Leone",
          "Mauritania",
          "Kenya",
          "Djibouti",
          "Armenia",
          "Botswana",
          "Myanmar",
          "Georgia",
          "Malawi",
          "Sri Lanka",
          "Cameroon",
          "Bulgaria",
          "Egypt",
          "Yemen",
          "Angola"
         ],
         "locationmode": "country names",
         "locations": [
          "Slovakia",
          "Japan",
          "South Korea",
          "Ecuador",
          "Bahrain",
          "Italy",
          "Bolivia",
          "Moldova",
          "Paraguay",
          "Kazakhstan",
          "Slovenia",
          "Lithuania",
          "Nicaragua",
          "Peru",
          "Belarus",
          "Poland",
          "Malaysia",
          "Croatia",
          "Libya",
          "Russia",
          "Jamaica",
          "North Cyprus",
          "Cyprus",
          "Algeria",
          "Kosovo",
          "Turkmenistan",
          "Mauritius",
          "Hong Kong",
          "Estonia",
          "Indonesia",
          "Vietnam",
          "Turkey",
          "Kyrgyzstan",
          "Nigeria",
          "Bhutan",
          "Azerbaijan",
          "Pakistan",
          "Montenegro",
          "Jordan",
          "China",
          "Zambia",
          "Romania",
          "Serbia",
          "Portugal",
          "Latvia",
          "Philippines",
          "Somaliland region",
          "Morocco",
          "Macedonia",
          "Mozambique",
          "Albania",
          "Bosnia and Herzegovina",
          "Lesotho",
          "Dominican Republic",
          "Laos",
          "Mongolia",
          "Swaziland",
          "Greece",
          "Lebanon",
          "Hungary",
          "Honduras",
          "Tajikistan",
          "Tunisia",
          "Palestinian Territories",
          "Bangladesh",
          "Iran",
          "Ukraine",
          "Iraq",
          "South Africa",
          "Ghana",
          "Zimbabwe",
          "Liberia",
          "India",
          "Sudan",
          "Haiti",
          "Congo (Kinshasa)",
          "Nepal",
          "Ethiopia",
          "Sierra Leone",
          "Mauritania",
          "Kenya",
          "Djibouti",
          "Armenia",
          "Botswana",
          "Myanmar",
          "Georgia",
          "Malawi",
          "Sri Lanka",
          "Cameroon",
          "Bulgaria",
          "Egypt",
          "Yemen",
          "Angola"
         ],
         "name": "Laag (4–6)",
         "showlegend": true,
         "showscale": false,
         "type": "choropleth",
         "z": [
          1,
          1,
          1,
          1,
          1,
          1,
          1,
          1,
          1,
          1,
          1,
          1,
          1,
          1,
          1,
          1,
          1,
          1,
          1,
          1,
          1,
          1,
          1,
          1,
          1,
          1,
          1,
          1,
          1,
          1,
          1,
          1,
          1,
          1,
          1,
          1,
          1,
          1,
          1,
          1,
          1,
          1,
          1,
          1,
          1,
          1,
          1,
          1,
          1,
          1,
          1,
          1,
          1,
          1,
          1,
          1,
          1,
          1,
          1,
          1,
          1,
          1,
          1,
          1,
          1,
          1,
          1,
          1,
          1,
          1,
          1,
          1,
          1,
          1,
          1,
          1,
          1,
          1,
          1,
          1,
          1,
          1,
          1,
          1,
          1,
          1,
          1,
          1,
          1,
          1,
          1,
          1,
          1
         ]
        },
        {
         "colorscale": [
          [
           0,
           "darkred"
          ],
          [
           1,
           "darkred"
          ]
         ],
         "geo": "geo",
         "hovertemplate": "<b>%{hovertext}</b><br><br>Score Category=Zeer laag (0–4)<br>Country=%{location}<extra></extra>",
         "hovertext": [
          "Mali",
          "Congo (Brazzaville)",
          "Comoros",
          "Uganda",
          "Senegal",
          "Gabon",
          "Niger",
          "Cambodia",
          "Tanzania",
          "Madagascar",
          "Central African Republic",
          "Chad",
          "Guinea",
          "Ivory Coast",
          "Burkina Faso",
          "Afghanistan",
          "Rwanda",
          "Benin",
          "Syria",
          "Burundi",
          "Togo"
         ],
         "locationmode": "country names",
         "locations": [
          "Mali",
          "Congo (Brazzaville)",
          "Comoros",
          "Uganda",
          "Senegal",
          "Gabon",
          "Niger",
          "Cambodia",
          "Tanzania",
          "Madagascar",
          "Central African Republic",
          "Chad",
          "Guinea",
          "Ivory Coast",
          "Burkina Faso",
          "Afghanistan",
          "Rwanda",
          "Benin",
          "Syria",
          "Burundi",
          "Togo"
         ],
         "name": "Zeer laag (0–4)",
         "showlegend": true,
         "showscale": false,
         "type": "choropleth",
         "z": [
          1,
          1,
          1,
          1,
          1,
          1,
          1,
          1,
          1,
          1,
          1,
          1,
          1,
          1,
          1,
          1,
          1,
          1,
          1,
          1,
          1
         ]
        }
       ],
       "layout": {
        "geo": {
         "center": {},
         "domain": {
          "x": [
           0,
           1
          ],
          "y": [
           0,
           1
          ]
         },
         "landcolor": "lightgray",
         "projection": {
          "type": "equirectangular"
         },
         "showcoastlines": true,
         "showframe": false
        },
        "legend": {
         "title": {
          "text": "Score Category"
         },
         "tracegroupgap": 0
        },
        "margin": {
         "b": 0,
         "l": 0,
         "r": 0,
         "t": 40
        },
        "template": {
         "data": {
          "bar": [
           {
            "error_x": {
             "color": "#2a3f5f"
            },
            "error_y": {
             "color": "#2a3f5f"
            },
            "marker": {
             "line": {
              "color": "#E5ECF6",
              "width": 0.5
             },
             "pattern": {
              "fillmode": "overlay",
              "size": 10,
              "solidity": 0.2
             }
            },
            "type": "bar"
           }
          ],
          "barpolar": [
           {
            "marker": {
             "line": {
              "color": "#E5ECF6",
              "width": 0.5
             },
             "pattern": {
              "fillmode": "overlay",
              "size": 10,
              "solidity": 0.2
             }
            },
            "type": "barpolar"
           }
          ],
          "carpet": [
           {
            "aaxis": {
             "endlinecolor": "#2a3f5f",
             "gridcolor": "white",
             "linecolor": "white",
             "minorgridcolor": "white",
             "startlinecolor": "#2a3f5f"
            },
            "baxis": {
             "endlinecolor": "#2a3f5f",
             "gridcolor": "white",
             "linecolor": "white",
             "minorgridcolor": "white",
             "startlinecolor": "#2a3f5f"
            },
            "type": "carpet"
           }
          ],
          "choropleth": [
           {
            "colorbar": {
             "outlinewidth": 0,
             "ticks": ""
            },
            "type": "choropleth"
           }
          ],
          "contour": [
           {
            "colorbar": {
             "outlinewidth": 0,
             "ticks": ""
            },
            "colorscale": [
             [
              0,
              "#0d0887"
             ],
             [
              0.1111111111111111,
              "#46039f"
             ],
             [
              0.2222222222222222,
              "#7201a8"
             ],
             [
              0.3333333333333333,
              "#9c179e"
             ],
             [
              0.4444444444444444,
              "#bd3786"
             ],
             [
              0.5555555555555556,
              "#d8576b"
             ],
             [
              0.6666666666666666,
              "#ed7953"
             ],
             [
              0.7777777777777778,
              "#fb9f3a"
             ],
             [
              0.8888888888888888,
              "#fdca26"
             ],
             [
              1,
              "#f0f921"
             ]
            ],
            "type": "contour"
           }
          ],
          "contourcarpet": [
           {
            "colorbar": {
             "outlinewidth": 0,
             "ticks": ""
            },
            "type": "contourcarpet"
           }
          ],
          "heatmap": [
           {
            "colorbar": {
             "outlinewidth": 0,
             "ticks": ""
            },
            "colorscale": [
             [
              0,
              "#0d0887"
             ],
             [
              0.1111111111111111,
              "#46039f"
             ],
             [
              0.2222222222222222,
              "#7201a8"
             ],
             [
              0.3333333333333333,
              "#9c179e"
             ],
             [
              0.4444444444444444,
              "#bd3786"
             ],
             [
              0.5555555555555556,
              "#d8576b"
             ],
             [
              0.6666666666666666,
              "#ed7953"
             ],
             [
              0.7777777777777778,
              "#fb9f3a"
             ],
             [
              0.8888888888888888,
              "#fdca26"
             ],
             [
              1,
              "#f0f921"
             ]
            ],
            "type": "heatmap"
           }
          ],
          "histogram": [
           {
            "marker": {
             "pattern": {
              "fillmode": "overlay",
              "size": 10,
              "solidity": 0.2
             }
            },
            "type": "histogram"
           }
          ],
          "histogram2d": [
           {
            "colorbar": {
             "outlinewidth": 0,
             "ticks": ""
            },
            "colorscale": [
             [
              0,
              "#0d0887"
             ],
             [
              0.1111111111111111,
              "#46039f"
             ],
             [
              0.2222222222222222,
              "#7201a8"
             ],
             [
              0.3333333333333333,
              "#9c179e"
             ],
             [
              0.4444444444444444,
              "#bd3786"
             ],
             [
              0.5555555555555556,
              "#d8576b"
             ],
             [
              0.6666666666666666,
              "#ed7953"
             ],
             [
              0.7777777777777778,
              "#fb9f3a"
             ],
             [
              0.8888888888888888,
              "#fdca26"
             ],
             [
              1,
              "#f0f921"
             ]
            ],
            "type": "histogram2d"
           }
          ],
          "histogram2dcontour": [
           {
            "colorbar": {
             "outlinewidth": 0,
             "ticks": ""
            },
            "colorscale": [
             [
              0,
              "#0d0887"
             ],
             [
              0.1111111111111111,
              "#46039f"
             ],
             [
              0.2222222222222222,
              "#7201a8"
             ],
             [
              0.3333333333333333,
              "#9c179e"
             ],
             [
              0.4444444444444444,
              "#bd3786"
             ],
             [
              0.5555555555555556,
              "#d8576b"
             ],
             [
              0.6666666666666666,
              "#ed7953"
             ],
             [
              0.7777777777777778,
              "#fb9f3a"
             ],
             [
              0.8888888888888888,
              "#fdca26"
             ],
             [
              1,
              "#f0f921"
             ]
            ],
            "type": "histogram2dcontour"
           }
          ],
          "mesh3d": [
           {
            "colorbar": {
             "outlinewidth": 0,
             "ticks": ""
            },
            "type": "mesh3d"
           }
          ],
          "parcoords": [
           {
            "line": {
             "colorbar": {
              "outlinewidth": 0,
              "ticks": ""
             }
            },
            "type": "parcoords"
           }
          ],
          "pie": [
           {
            "automargin": true,
            "type": "pie"
           }
          ],
          "scatter": [
           {
            "fillpattern": {
             "fillmode": "overlay",
             "size": 10,
             "solidity": 0.2
            },
            "type": "scatter"
           }
          ],
          "scatter3d": [
           {
            "line": {
             "colorbar": {
              "outlinewidth": 0,
              "ticks": ""
             }
            },
            "marker": {
             "colorbar": {
              "outlinewidth": 0,
              "ticks": ""
             }
            },
            "type": "scatter3d"
           }
          ],
          "scattercarpet": [
           {
            "marker": {
             "colorbar": {
              "outlinewidth": 0,
              "ticks": ""
             }
            },
            "type": "scattercarpet"
           }
          ],
          "scattergeo": [
           {
            "marker": {
             "colorbar": {
              "outlinewidth": 0,
              "ticks": ""
             }
            },
            "type": "scattergeo"
           }
          ],
          "scattergl": [
           {
            "marker": {
             "colorbar": {
              "outlinewidth": 0,
              "ticks": ""
             }
            },
            "type": "scattergl"
           }
          ],
          "scattermap": [
           {
            "marker": {
             "colorbar": {
              "outlinewidth": 0,
              "ticks": ""
             }
            },
            "type": "scattermap"
           }
          ],
          "scattermapbox": [
           {
            "marker": {
             "colorbar": {
              "outlinewidth": 0,
              "ticks": ""
             }
            },
            "type": "scattermapbox"
           }
          ],
          "scatterpolar": [
           {
            "marker": {
             "colorbar": {
              "outlinewidth": 0,
              "ticks": ""
             }
            },
            "type": "scatterpolar"
           }
          ],
          "scatterpolargl": [
           {
            "marker": {
             "colorbar": {
              "outlinewidth": 0,
              "ticks": ""
             }
            },
            "type": "scatterpolargl"
           }
          ],
          "scatterternary": [
           {
            "marker": {
             "colorbar": {
              "outlinewidth": 0,
              "ticks": ""
             }
            },
            "type": "scatterternary"
           }
          ],
          "surface": [
           {
            "colorbar": {
             "outlinewidth": 0,
             "ticks": ""
            },
            "colorscale": [
             [
              0,
              "#0d0887"
             ],
             [
              0.1111111111111111,
              "#46039f"
             ],
             [
              0.2222222222222222,
              "#7201a8"
             ],
             [
              0.3333333333333333,
              "#9c179e"
             ],
             [
              0.4444444444444444,
              "#bd3786"
             ],
             [
              0.5555555555555556,
              "#d8576b"
             ],
             [
              0.6666666666666666,
              "#ed7953"
             ],
             [
              0.7777777777777778,
              "#fb9f3a"
             ],
             [
              0.8888888888888888,
              "#fdca26"
             ],
             [
              1,
              "#f0f921"
             ]
            ],
            "type": "surface"
           }
          ],
          "table": [
           {
            "cells": {
             "fill": {
              "color": "#EBF0F8"
             },
             "line": {
              "color": "white"
             }
            },
            "header": {
             "fill": {
              "color": "#C8D4E3"
             },
             "line": {
              "color": "white"
             }
            },
            "type": "table"
           }
          ]
         },
         "layout": {
          "annotationdefaults": {
           "arrowcolor": "#2a3f5f",
           "arrowhead": 0,
           "arrowwidth": 1
          },
          "autotypenumbers": "strict",
          "coloraxis": {
           "colorbar": {
            "outlinewidth": 0,
            "ticks": ""
           }
          },
          "colorscale": {
           "diverging": [
            [
             0,
             "#8e0152"
            ],
            [
             0.1,
             "#c51b7d"
            ],
            [
             0.2,
             "#de77ae"
            ],
            [
             0.3,
             "#f1b6da"
            ],
            [
             0.4,
             "#fde0ef"
            ],
            [
             0.5,
             "#f7f7f7"
            ],
            [
             0.6,
             "#e6f5d0"
            ],
            [
             0.7,
             "#b8e186"
            ],
            [
             0.8,
             "#7fbc41"
            ],
            [
             0.9,
             "#4d9221"
            ],
            [
             1,
             "#276419"
            ]
           ],
           "sequential": [
            [
             0,
             "#0d0887"
            ],
            [
             0.1111111111111111,
             "#46039f"
            ],
            [
             0.2222222222222222,
             "#7201a8"
            ],
            [
             0.3333333333333333,
             "#9c179e"
            ],
            [
             0.4444444444444444,
             "#bd3786"
            ],
            [
             0.5555555555555556,
             "#d8576b"
            ],
            [
             0.6666666666666666,
             "#ed7953"
            ],
            [
             0.7777777777777778,
             "#fb9f3a"
            ],
            [
             0.8888888888888888,
             "#fdca26"
            ],
            [
             1,
             "#f0f921"
            ]
           ],
           "sequentialminus": [
            [
             0,
             "#0d0887"
            ],
            [
             0.1111111111111111,
             "#46039f"
            ],
            [
             0.2222222222222222,
             "#7201a8"
            ],
            [
             0.3333333333333333,
             "#9c179e"
            ],
            [
             0.4444444444444444,
             "#bd3786"
            ],
            [
             0.5555555555555556,
             "#d8576b"
            ],
            [
             0.6666666666666666,
             "#ed7953"
            ],
            [
             0.7777777777777778,
             "#fb9f3a"
            ],
            [
             0.8888888888888888,
             "#fdca26"
            ],
            [
             1,
             "#f0f921"
            ]
           ]
          },
          "colorway": [
           "#636efa",
           "#EF553B",
           "#00cc96",
           "#ab63fa",
           "#FFA15A",
           "#19d3f3",
           "#FF6692",
           "#B6E880",
           "#FF97FF",
           "#FECB52"
          ],
          "font": {
           "color": "#2a3f5f"
          },
          "geo": {
           "bgcolor": "white",
           "lakecolor": "white",
           "landcolor": "#E5ECF6",
           "showlakes": true,
           "showland": true,
           "subunitcolor": "white"
          },
          "hoverlabel": {
           "align": "left"
          },
          "hovermode": "closest",
          "mapbox": {
           "style": "light"
          },
          "paper_bgcolor": "white",
          "plot_bgcolor": "#E5ECF6",
          "polar": {
           "angularaxis": {
            "gridcolor": "white",
            "linecolor": "white",
            "ticks": ""
           },
           "bgcolor": "#E5ECF6",
           "radialaxis": {
            "gridcolor": "white",
            "linecolor": "white",
            "ticks": ""
           }
          },
          "scene": {
           "xaxis": {
            "backgroundcolor": "#E5ECF6",
            "gridcolor": "white",
            "gridwidth": 2,
            "linecolor": "white",
            "showbackground": true,
            "ticks": "",
            "zerolinecolor": "white"
           },
           "yaxis": {
            "backgroundcolor": "#E5ECF6",
            "gridcolor": "white",
            "gridwidth": 2,
            "linecolor": "white",
            "showbackground": true,
            "ticks": "",
            "zerolinecolor": "white"
           },
           "zaxis": {
            "backgroundcolor": "#E5ECF6",
            "gridcolor": "white",
            "gridwidth": 2,
            "linecolor": "white",
            "showbackground": true,
            "ticks": "",
            "zerolinecolor": "white"
           }
          },
          "shapedefaults": {
           "line": {
            "color": "#2a3f5f"
           }
          },
          "ternary": {
           "aaxis": {
            "gridcolor": "white",
            "linecolor": "white",
            "ticks": ""
           },
           "baxis": {
            "gridcolor": "white",
            "linecolor": "white",
            "ticks": ""
           },
           "bgcolor": "#E5ECF6",
           "caxis": {
            "gridcolor": "white",
            "linecolor": "white",
            "ticks": ""
           }
          },
          "title": {
           "x": 0.05
          },
          "xaxis": {
           "automargin": true,
           "gridcolor": "white",
           "linecolor": "white",
           "ticks": "",
           "title": {
            "standoff": 15
           },
           "zerolinecolor": "white",
           "zerolinewidth": 2
          },
          "yaxis": {
           "automargin": true,
           "gridcolor": "white",
           "linecolor": "white",
           "ticks": "",
           "title": {
            "standoff": 15
           },
           "zerolinecolor": "white",
           "zerolinewidth": 2
          }
         }
        },
        "title": {
         "font": {
          "size": 20
         },
         "text": "🌍 Wereldkaart: Categorisatie van Happiness score (2015)"
        }
       }
      }
     },
     "metadata": {},
     "output_type": "display_data"
    }
   ],
   "source": [
    "def categoriseer(score):\n",
    "    if score < 4:\n",
    "        return 'Zeer laag (0–4)'\n",
    "    elif score < 6:\n",
    "        return 'Laag (4–6)'\n",
    "    elif score < 7.5:\n",
    "        return 'Gemiddeld (6–7.5)'\n",
    "    else:\n",
    "        return 'Hoog (7.5–10)'\n",
    "\n",
    "w_h['Score Category'] = w_h['Happiness score'].apply(categoriseer)\n",
    "\n",
    "kleurenschema = {\n",
    "    'Zeer laag (0–4)': 'darkred',\n",
    "    'Laag (4–6)': 'orange',\n",
    "    'Gemiddeld (6–7.5)': 'lightgreen',\n",
    "    'Hoog (7.5–10)': 'green'\n",
    "}\n",
    "\n",
    "fig = px.choropleth(\n",
    "    w_h,\n",
    "    locations='Country',\n",
    "    locationmode='country names',\n",
    "    color='Score Category',\n",
    "    hover_name='Country',\n",
    "    color_discrete_map=kleurenschema,\n",
    "    title='\\U0001F30D Wereldkaart: Categorisatie van Happiness score (2015)'\n",
    ")\n",
    "\n",
    "fig.update_layout(\n",
    "    title_font=dict(size=20),\n",
    "    geo=dict(\n",
    "        showframe=False,\n",
    "        showcoastlines=True,\n",
    "        projection_type='equirectangular',\n",
    "        landcolor='lightgray'\n",
    "    ),\n",
    "    margin=dict(l=0, r=0, t=40, b=0)\n",
    ")\n",
    "\n",
    "HTML(pio.to_html(fig, include_plotlyjs='cdn'))"
   ]
  },
  {
   "cell_type": "markdown",
   "id": "b76b9173",
   "metadata": {},
   "source": [
    "# Tijdlijn van psychische stoornissen\n",
    "Deze tijdlijn toont de evolutie van depressie- en angstpercentages tussen 1990 en 2019."
   ]
  },
  {
   "cell_type": "code",
   "execution_count": 12,
   "id": "d081d45e-5a62-4a58-818e-3a84bb0c25a8",
   "metadata": {},
   "outputs": [
    {
     "data": {
      "image/png": "[encoded data removed]",
      "text/plain": [
       "<Figure size 1200x600 with 1 Axes>"
      ]
     },
     "metadata": {},
     "output_type": "display_data"
    }
   ],
   "source": [
    "land = 'Afghanistan'\n",
    "df_land = df[df['Entity'] == land]\n",
    "\n",
    "depressie_col = 'Depressive disorders (share of population) - Sex: Both - Age: Age-standardized'\n",
    "angst_col = 'Anxiety disorders (share of population) - Sex: Both - Age: Age-standardized'\n",
    "\n",
    "plt.figure(figsize=(12, 6))\n",
    "plt.plot(df_land['Year'], df_land[depressie_col], label='Depressie (%)', marker='o')\n",
    "plt.plot(df_land['Year'], df_land[angst_col], label='Angst (%)', marker='s')\n",
    "\n",
    "plt.title(f'Evolutie van Depressie en Angst in {land} (1990–2019)', fontsize=14)\n",
    "plt.xlabel('Jaar')\n",
    "plt.ylabel('Percentage van bevolking (%)')\n",
    "plt.grid(True)\n",
    "plt.legend()\n",
    "plt.tight_layout()\n",
    "plt.show()\n"
   ]
  },
  {
   "cell_type": "markdown",
   "id": "d41c36aa",
   "metadata": {},
   "source": [
    "# Correlatiediagram\n",
    "In dit correlatiediagram worden de percentages van depressie en angst in elk land aan elkaar verbonden."
   ]
  },
  {
   "cell_type": "code",
   "execution_count": 14,
   "id": "22b6d8c9-1d6e-43fd-9c36-4075231637ef",
   "metadata": {},
   "outputs": [
    {
     "data": {
      "application/vnd.plotly.v1+json": {
       "config": {
        "plotlyServerURL": "https://plot.ly"
       },
       "data": [
        {
         "hovertemplate": "<b>%{hovertext}</b><br><br>Depressie (%)=%{marker.color}<br>Angst (%)=%{y}<extra></extra>",
         "hovertext": [
          "Afghanistan",
          "Africa (IHME GBD)",
          "Albania",
          "Algeria",
          "America (IHME GBD)",
          "American Samoa",
          "Andorra",
          "Angola",
          "Antigua and Barbuda",
          "Argentina",
          "Armenia",
          "Asia (IHME GBD)",
          "Australia",
          "Austria",
          "Azerbaijan",
          "Bahamas",
          "Bahrain",
          "Bangladesh",
          "Barbados",
          "Belarus",
          "Belgium",
          "Belize",
          "Benin",
          "Bermuda",
          "Bhutan",
          "Bolivia",
          "Bosnia and Herzegovina",
          "Botswana",
          "Brazil",
          "Brunei",
          "Bulgaria",
          "Burkina Faso",
          "Burundi",
          "Cambodia",
          "Cameroon",
          "Canada",
          "Cape Verde",
          "Central African Republic",
          "Chad",
          "Chile",
          "China",
          "Colombia",
          "Comoros",
          "Congo",
          "Cook Islands",
          "Costa Rica",
          "Cote d'Ivoire",
          "Croatia",
          "Cuba",
          "Cyprus",
          "Czechia",
          "Democratic Republic of Congo",
          "Denmark",
          "Djibouti",
          "Dominica",
          "Dominican Republic",
          "East Timor",
          "Ecuador",
          "Egypt",
          "El Salvador",
          "Equatorial Guinea",
          "Eritrea",
          "Estonia",
          "Eswatini",
          "Ethiopia",
          "Europe (IHME GBD)",
          "European Union (27)",
          "Fiji",
          "Finland",
          "France",
          "Gabon",
          "Gambia",
          "Georgia",
          "Germany",
          "Ghana",
          "Greece",
          "Greenland",
          "Grenada",
          "Guam",
          "Guatemala",
          "Guinea",
          "Guinea-Bissau",
          "Guyana",
          "Haiti",
          "High-income countries",
          "Honduras",
          "Hungary",
          "Iceland",
          "India",
          "Indonesia",
          "Iran",
          "Iraq",
          "Ireland",
          "Israel",
          "Italy",
          "Jamaica",
          "Japan",
          "Jordan",
          "Kazakhstan",
          "Kenya",
          "Kiribati",
          "Kuwait",
          "Kyrgyzstan",
          "Laos",
          "Latvia",
          "Lebanon",
          "Lesotho",
          "Liberia",
          "Libya",
          "Lithuania",
          "Low-income countries",
          "Lower-middle-income countries",
          "Luxembourg",
          "Madagascar",
          "Malawi",
          "Malaysia",
          "Maldives",
          "Mali",
          "Malta",
          "Marshall Islands",
          "Mauritania",
          "Mauritius",
          "Mexico",
          "Micronesia (country)",
          "Moldova",
          "Monaco",
          "Mongolia",
          "Montenegro",
          "Morocco",
          "Mozambique",
          "Myanmar",
          "Namibia",
          "Nauru",
          "Nepal",
          "Netherlands",
          "New Zealand",
          "Nicaragua",
          "Niger",
          "Nigeria",
          "Niue",
          "North Korea",
          "North Macedonia",
          "Northern Mariana Islands",
          "Norway",
          "Oman",
          "Pakistan",
          "Palau",
          "Palestine",
          "Panama",
          "Papua New Guinea",
          "Paraguay",
          "Peru",
          "Philippines",
          "Poland",
          "Portugal",
          "Puerto Rico",
          "Qatar",
          "Romania",
          "Russia",
          "Rwanda",
          "Saint Kitts and Nevis",
          "Saint Lucia",
          "Saint Vincent and the Grenadines",
          "Samoa",
          "San Marino",
          "Sao Tome and Principe",
          "Saudi Arabia",
          "Senegal",
          "Serbia",
          "Seychelles",
          "Sierra Leone",
          "Singapore",
          "Slovakia",
          "Slovenia",
          "Solomon Islands",
          "Somalia",
          "South Africa",
          "South Korea",
          "South Sudan",
          "Spain",
          "Sri Lanka",
          "Sudan",
          "Suriname",
          "Sweden",
          "Switzerland",
          "Syria",
          "Taiwan",
          "Tajikistan",
          "Tanzania",
          "Thailand",
          "Togo",
          "Tokelau",
          "Tonga",
          "Trinidad and Tobago",
          "Tunisia",
          "Turkey",
          "Turkmenistan",
          "Tuvalu",
          "Uganda",
          "Ukraine",
          "United Arab Emirates",
          "United Kingdom",
          "United States",
          "United States Virgin Islands",
          "Upper-middle-income countries",
          "Uruguay",
          "Uzbekistan",
          "Vanuatu",
          "Venezuela",
          "Vietnam",
          "World",
          "Yemen",
          "Zambia",
          "Zimbabwe"
         ],
         "legendgroup": "",
         "marker": {
          "color": {
           "bdata": "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",
           "dtype": "f8"
          },
          "coloraxis": "coloraxis",
          "symbol": "circle"
         },
         "mode": "markers",
         "name": "",
         "orientation": "v",
         "showlegend": false,
         "type": "scatter",
         "x": {
          "bdata": "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",
          "dtype": "f8"
         },
         "xaxis": "x",
         "y": {
          "bdata": "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",
          "dtype": "f8"
         },
         "yaxis": "y"
        },
        {
         "hovertemplate": "<b>OLS trendline</b><br>Anxiety disorders (share of population) - Sex: Both - Age: Age-standardized = 0.162676 * Depressive disorders (share of population) - Sex: Both - Age: Age-standardized + 3.55414<br>R<sup>2</sup>=0.018266<br><br>Depressie (%)=%{x}<br>Angst (%)=%{y} <b>(trend)</b><extra></extra>",
         "legendgroup": "",
         "marker": {
          "symbol": "circle"
         },
         "mode": "lines",
         "name": "",
         "showlegend": false,
         "type": "scatter",
         "x": {
          "bdata": "K8R+qmWm+T8WinQ/pxAAQPMhqBq9ugBAjZE2n4TTAEDIq72Z4osBQPSC9Ll/sQFAMlC+RczBAUAUc7W6QTkCQGFlfn+UQgNAUIQeewdZA0DLHewDf64DQL0aoDTUyANAwYu+gjSDBECuuDgqN5EEQJwWvOgrKAVAZ8NQPYgzBUABhuXPt0UFQD7WQn9XagVAM3RHWoWIBUBz7Oqf8Y4FQGE2AYbljwVAClNKvsjKBUDdVVklovkFQAmYr4FjBQZAlcJyOn8ZBkCsN2qF6TsGQArZeRubPQZAg0O5fgtsBkB95xcl6G8GQHRAEvbthAZAEFIBQcqJBkD2L6Qe/YoGQAECjB1DlgZA4443+S26BkAFwePbu8YGQKKQruMJ7gZAjDGwjuMHB0AmzuVh/A8HQBunfGNjGQdAGr/wSpJHB0A/UkSGVUwHQIHs9e6PVwdARhfl4yR+B0AyNhn6zH4HQE+RQ8TNmQdA/21gvDDDB0AyqNt+nssHQLxD5bqE3gdAZ/c/GxQICEANlTWglA8IQLd/wF68OghAKQge395lCECRzfo5qn8IQAEaAAVyhAhANgTHZdyUCEBDjNe8qqMIQPLEvUObrQhABrzMsFG2CEAwhs1b0OYIQHrsHST66whAURDhBEv6CEBxGw3gLQAJQHdpw2FpAAlA1Td6RmwBCUDfzJ66qAwJQKpgVFInIAlAwpt/BXoyCUBgKYGDrD0JQL8ts2N+SQlAECTvHMpQCUD8witJnmsJQLDmAMEcbQlAF6KembuRCUCG2RVE7pMJQMCiESLPtAlAW+laIOa3CUCUKvY8JMEJQDJaR1UTxAlAjUXT2cngCUDOk8bD1ucJQEAO7972CQpAEdq8u99SCkC3tBoS93gKQAZ/ZN+6hwpAvesiOyWWCkAHAUOgRKUKQJE6S9qe2gpA4VUgxN/wCkC/jd66rAMLQPV7B+S3DQtAhu2CHO8pC0AxwV+CCTILQCc1D7tKQgtAyiGYWTqFC0BleKLalocLQG4QUlz63AtAlYvnInRGDEAcx1kiYUkMQJF9kGXBVAxA1KU1vA9WDEDPsGICyFoMQE1LrIxGfgxAOVJsu7+gDEDCIzuAj9sMQFmerL302wxARPOlXIbkDED41tGCYeoMQOHx7V2D7gxAMPDce7gUDUASu1v+6CANQKCJsOHpJQ1AGQqOgSs/DUDMFCmDWUcNQGkugaUETg1AUcyLXexXDUA35tB9lIwNQKiPwB9+jg1AkX2QZcGkDUCvb3Ge+6wNQPgQnhp5yg1A4RQMnY37DUDdOHNZlmkOQFg33h0Zaw5AkkyYeidwDkAslJbbB4oOQJH+Td62lQ5AXTY656eYDkAGKuPfZ5wOQCNpN/qYrw5ANr5AWq0tD0A+LfXiemoPQNpibUIQdg9AZtQh3Al7D0CLScm8n4QPQDGDjNvDiQ9AaSSd3EqKD0Ac/uQ5bJwPQELooEs4tA9AKJlBIae0D0CNv6N89+0PQAzNdRppGRBAdQKaCBseEEBtYjcizjkQQC2+V2O/PRBA0UWefxZeEEDKmMzC6GMQQOmbNA2KZhBAdsQhG0h3EECKAn0iT4IQQOCzv/3KhBBAuXAgJAuIEEA7/DVZo44QQAiUTbnCmxBAu7ciMUHdEEBB6hs9I94QQJ0/t+HB4BBAVB1yM9zwEECSPHw+bwcRQNR8OsN5DRFAhSNIpdgxEUDe3RSgt3IRQFZkdEASfhFAFXKlngWBEUCqC3iZYYMRQNBf6BGjhxFAA5fHmpGREUCq0rsdhpMRQHfYRGYuoBFAni7mQkCxEUDU7lcBvrMRQOdtbHakyhFASxRrAlbYEUBtj95wH9kRQHA6bp0k+hFAJ1WRwNUAEkDMjwlCwxwSQIh/2NKjORJAq3r5nSZrEkDE/CZer3oSQH46HjNQmRJAZCDPLt+aEkC309aIYJwSQEuPS8G/pRJArIxGPq/AEkDFA8qmXNESQIW0xqAT0hJAgLVq14TkEkA5JSAm4fISQFuWr8vw/xJA4jlbQGhdE0D3C9F8KV8TQDSitDf4YhNAILdfPllxE0CQl38+25QTQOLHPQIklxNAGAtD5PS1E0Al58Qe2scTQB7AIr9++BNADfLEvUMrFEAYCW05lzIUQBy2LcpsUBRANydAXlljFECAp3//nIgUQL2pSIWxxRVAaTxsfewBFkBoPudu1wsWQLm3bL5bGhZAkTRuIBMvFkC1VN6OcOoWQO2RF+MN+hZAv3/z4sRXF0DyEYzeBLIXQDbvk/65yxhAmoLrQIxWGkA=",
          "dtype": "f8"
         },
         "xaxis": "x",
         "y": {
          "bdata": "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",
          "dtype": "f8"
         },
         "yaxis": "y"
        }
       ],
       "layout": {
        "coloraxis": {
         "colorbar": {
          "title": {
           "text": "Depressie (%)"
          }
         },
         "colorscale": [
          [
           0,
           "rgb(0,0,255)"
          ],
          [
           1,
           "rgb(255,0,0)"
          ]
         ]
        },
        "legend": {
         "tracegroupgap": 0
        },
        "margin": {
         "b": 40,
         "l": 40,
         "r": 20,
         "t": 60
        },
        "plot_bgcolor": "white",
        "template": {
         "data": {
          "bar": [
           {
            "error_x": {
             "color": "#2a3f5f"
            },
            "error_y": {
             "color": "#2a3f5f"
            },
            "marker": {
             "line": {
              "color": "#E5ECF6",
              "width": 0.5
             },
             "pattern": {
              "fillmode": "overlay",
              "size": 10,
              "solidity": 0.2
             }
            },
            "type": "bar"
           }
          ],
          "barpolar": [
           {
            "marker": {
             "line": {
              "color": "#E5ECF6",
              "width": 0.5
             },
             "pattern": {
              "fillmode": "overlay",
              "size": 10,
              "solidity": 0.2
             }
            },
            "type": "barpolar"
           }
          ],
          "carpet": [
           {
            "aaxis": {
             "endlinecolor": "#2a3f5f",
             "gridcolor": "white",
             "linecolor": "white",
             "minorgridcolor": "white",
             "startlinecolor": "#2a3f5f"
            },
            "baxis": {
             "endlinecolor": "#2a3f5f",
             "gridcolor": "white",
             "linecolor": "white",
             "minorgridcolor": "white",
             "startlinecolor": "#2a3f5f"
            },
            "type": "carpet"
           }
          ],
          "choropleth": [
           {
            "colorbar": {
             "outlinewidth": 0,
             "ticks": ""
            },
            "type": "choropleth"
           }
          ],
          "contour": [
           {
            "colorbar": {
             "outlinewidth": 0,
             "ticks": ""
            },
            "colorscale": [
             [
              0,
              "#0d0887"
             ],
             [
              0.1111111111111111,
              "#46039f"
             ],
             [
              0.2222222222222222,
              "#7201a8"
             ],
             [
              0.3333333333333333,
              "#9c179e"
             ],
             [
              0.4444444444444444,
              "#bd3786"
             ],
             [
              0.5555555555555556,
              "#d8576b"
             ],
             [
              0.6666666666666666,
              "#ed7953"
             ],
             [
              0.7777777777777778,
              "#fb9f3a"
             ],
             [
              0.8888888888888888,
              "#fdca26"
             ],
             [
              1,
              "#f0f921"
             ]
            ],
            "type": "contour"
           }
          ],
          "contourcarpet": [
           {
            "colorbar": {
             "outlinewidth": 0,
             "ticks": ""
            },
            "type": "contourcarpet"
           }
          ],
          "heatmap": [
           {
            "colorbar": {
             "outlinewidth": 0,
             "ticks": ""
            },
            "colorscale": [
             [
              0,
              "#0d0887"
             ],
             [
              0.1111111111111111,
              "#46039f"
             ],
             [
              0.2222222222222222,
              "#7201a8"
             ],
             [
              0.3333333333333333,
              "#9c179e"
             ],
             [
              0.4444444444444444,
              "#bd3786"
             ],
             [
              0.5555555555555556,
              "#d8576b"
             ],
             [
              0.6666666666666666,
              "#ed7953"
             ],
             [
              0.7777777777777778,
              "#fb9f3a"
             ],
             [
              0.8888888888888888,
              "#fdca26"
             ],
             [
              1,
              "#f0f921"
             ]
            ],
            "type": "heatmap"
           }
          ],
          "histogram": [
           {
            "marker": {
             "pattern": {
              "fillmode": "overlay",
              "size": 10,
              "solidity": 0.2
             }
            },
            "type": "histogram"
           }
          ],
          "histogram2d": [
           {
            "colorbar": {
             "outlinewidth": 0,
             "ticks": ""
            },
            "colorscale": [
             [
              0,
              "#0d0887"
             ],
             [
              0.1111111111111111,
              "#46039f"
             ],
             [
              0.2222222222222222,
              "#7201a8"
             ],
             [
              0.3333333333333333,
              "#9c179e"
             ],
             [
              0.4444444444444444,
              "#bd3786"
             ],
             [
              0.5555555555555556,
              "#d8576b"
             ],
             [
              0.6666666666666666,
              "#ed7953"
             ],
             [
              0.7777777777777778,
              "#fb9f3a"
             ],
             [
              0.8888888888888888,
              "#fdca26"
             ],
             [
              1,
              "#f0f921"
             ]
            ],
            "type": "histogram2d"
           }
          ],
          "histogram2dcontour": [
           {
            "colorbar": {
             "outlinewidth": 0,
             "ticks": ""
            },
            "colorscale": [
             [
              0,
              "#0d0887"
             ],
             [
              0.1111111111111111,
              "#46039f"
             ],
             [
              0.2222222222222222,
              "#7201a8"
             ],
             [
              0.3333333333333333,
              "#9c179e"
             ],
             [
              0.4444444444444444,
              "#bd3786"
             ],
             [
              0.5555555555555556,
              "#d8576b"
             ],
             [
              0.6666666666666666,
              "#ed7953"
             ],
             [
              0.7777777777777778,
              "#fb9f3a"
             ],
             [
              0.8888888888888888,
              "#fdca26"
             ],
             [
              1,
              "#f0f921"
             ]
            ],
            "type": "histogram2dcontour"
           }
          ],
          "mesh3d": [
           {
            "colorbar": {
             "outlinewidth": 0,
             "ticks": ""
            },
            "type": "mesh3d"
           }
          ],
          "parcoords": [
           {
            "line": {
             "colorbar": {
              "outlinewidth": 0,
              "ticks": ""
             }
            },
            "type": "parcoords"
           }
          ],
          "pie": [
           {
            "automargin": true,
            "type": "pie"
           }
          ],
          "scatter": [
           {
            "fillpattern": {
             "fillmode": "overlay",
             "size": 10,
             "solidity": 0.2
            },
            "type": "scatter"
           }
          ],
          "scatter3d": [
           {
            "line": {
             "colorbar": {
              "outlinewidth": 0,
              "ticks": ""
             }
            },
            "marker": {
             "colorbar": {
              "outlinewidth": 0,
              "ticks": ""
             }
            },
            "type": "scatter3d"
           }
          ],
          "scattercarpet": [
           {
            "marker": {
             "colorbar": {
              "outlinewidth": 0,
              "ticks": ""
             }
            },
            "type": "scattercarpet"
           }
          ],
          "scattergeo": [
           {
            "marker": {
             "colorbar": {
              "outlinewidth": 0,
              "ticks": ""
             }
            },
            "type": "scattergeo"
           }
          ],
          "scattergl": [
           {
            "marker": {
             "colorbar": {
              "outlinewidth": 0,
              "ticks": ""
             }
            },
            "type": "scattergl"
           }
          ],
          "scattermap": [
           {
            "marker": {
             "colorbar": {
              "outlinewidth": 0,
              "ticks": ""
             }
            },
            "type": "scattermap"
           }
          ],
          "scattermapbox": [
           {
            "marker": {
             "colorbar": {
              "outlinewidth": 0,
              "ticks": ""
             }
            },
            "type": "scattermapbox"
           }
          ],
          "scatterpolar": [
           {
            "marker": {
             "colorbar": {
              "outlinewidth": 0,
              "ticks": ""
             }
            },
            "type": "scatterpolar"
           }
          ],
          "scatterpolargl": [
           {
            "marker": {
             "colorbar": {
              "outlinewidth": 0,
              "ticks": ""
             }
            },
            "type": "scatterpolargl"
           }
          ],
          "scatterternary": [
           {
            "marker": {
             "colorbar": {
              "outlinewidth": 0,
              "ticks": ""
             }
            },
            "type": "scatterternary"
           }
          ],
          "surface": [
           {
            "colorbar": {
             "outlinewidth": 0,
             "ticks": ""
            },
            "colorscale": [
             [
              0,
              "#0d0887"
             ],
             [
              0.1111111111111111,
              "#46039f"
             ],
             [
              0.2222222222222222,
              "#7201a8"
             ],
             [
              0.3333333333333333,
              "#9c179e"
             ],
             [
              0.4444444444444444,
              "#bd3786"
             ],
             [
              0.5555555555555556,
              "#d8576b"
             ],
             [
              0.6666666666666666,
              "#ed7953"
             ],
             [
              0.7777777777777778,
              "#fb9f3a"
             ],
             [
              0.8888888888888888,
              "#fdca26"
             ],
             [
              1,
              "#f0f921"
             ]
            ],
            "type": "surface"
           }
          ],
          "table": [
           {
            "cells": {
             "fill": {
              "color": "#EBF0F8"
             },
             "line": {
              "color": "white"
             }
            },
            "header": {
             "fill": {
              "color": "#C8D4E3"
             },
             "line": {
              "color": "white"
             }
            },
            "type": "table"
           }
          ]
         },
         "layout": {
          "annotationdefaults": {
           "arrowcolor": "#2a3f5f",
           "arrowhead": 0,
           "arrowwidth": 1
          },
          "autotypenumbers": "strict",
          "coloraxis": {
           "colorbar": {
            "outlinewidth": 0,
            "ticks": ""
           }
          },
          "colorscale": {
           "diverging": [
            [
             0,
             "#8e0152"
            ],
            [
             0.1,
             "#c51b7d"
            ],
            [
             0.2,
             "#de77ae"
            ],
            [
             0.3,
             "#f1b6da"
            ],
            [
             0.4,
             "#fde0ef"
            ],
            [
             0.5,
             "#f7f7f7"
            ],
            [
             0.6,
             "#e6f5d0"
            ],
            [
             0.7,
             "#b8e186"
            ],
            [
             0.8,
             "#7fbc41"
            ],
            [
             0.9,
             "#4d9221"
            ],
            [
             1,
             "#276419"
            ]
           ],
           "sequential": [
            [
             0,
             "#0d0887"
            ],
            [
             0.1111111111111111,
             "#46039f"
            ],
            [
             0.2222222222222222,
             "#7201a8"
            ],
            [
             0.3333333333333333,
             "#9c179e"
            ],
            [
             0.4444444444444444,
             "#bd3786"
            ],
            [
             0.5555555555555556,
             "#d8576b"
            ],
            [
             0.6666666666666666,
             "#ed7953"
            ],
            [
             0.7777777777777778,
             "#fb9f3a"
            ],
            [
             0.8888888888888888,
             "#fdca26"
            ],
            [
             1,
             "#f0f921"
            ]
           ],
           "sequentialminus": [
            [
             0,
             "#0d0887"
            ],
            [
             0.1111111111111111,
             "#46039f"
            ],
            [
             0.2222222222222222,
             "#7201a8"
            ],
            [
             0.3333333333333333,
             "#9c179e"
            ],
            [
             0.4444444444444444,
             "#bd3786"
            ],
            [
             0.5555555555555556,
             "#d8576b"
            ],
            [
             0.6666666666666666,
             "#ed7953"
            ],
            [
             0.7777777777777778,
             "#fb9f3a"
            ],
            [
             0.8888888888888888,
             "#fdca26"
            ],
            [
             1,
             "#f0f921"
            ]
           ]
          },
          "colorway": [
           "#636efa",
           "#EF553B",
           "#00cc96",
           "#ab63fa",
           "#FFA15A",
           "#19d3f3",
           "#FF6692",
           "#B6E880",
           "#FF97FF",
           "#FECB52"
          ],
          "font": {
           "color": "#2a3f5f"
          },
          "geo": {
           "bgcolor": "white",
           "lakecolor": "white",
           "landcolor": "#E5ECF6",
           "showlakes": true,
           "showland": true,
           "subunitcolor": "white"
          },
          "hoverlabel": {
           "align": "left"
          },
          "hovermode": "closest",
          "mapbox": {
           "style": "light"
          },
          "paper_bgcolor": "white",
          "plot_bgcolor": "#E5ECF6",
          "polar": {
           "angularaxis": {
            "gridcolor": "white",
            "linecolor": "white",
            "ticks": ""
           },
           "bgcolor": "#E5ECF6",
           "radialaxis": {
            "gridcolor": "white",
            "linecolor": "white",
            "ticks": ""
           }
          },
          "scene": {
           "xaxis": {
            "backgroundcolor": "#E5ECF6",
            "gridcolor": "white",
            "gridwidth": 2,
            "linecolor": "white",
            "showbackground": true,
            "ticks": "",
            "zerolinecolor": "white"
           },
           "yaxis": {
            "backgroundcolor": "#E5ECF6",
            "gridcolor": "white",
            "gridwidth": 2,
            "linecolor": "white",
            "showbackground": true,
            "ticks": "",
            "zerolinecolor": "white"
           },
           "zaxis": {
            "backgroundcolor": "#E5ECF6",
            "gridcolor": "white",
            "gridwidth": 2,
            "linecolor": "white",
            "showbackground": true,
            "ticks": "",
            "zerolinecolor": "white"
           }
          },
          "shapedefaults": {
           "line": {
            "color": "#2a3f5f"
           }
          },
          "ternary": {
           "aaxis": {
            "gridcolor": "white",
            "linecolor": "white",
            "ticks": ""
           },
           "baxis": {
            "gridcolor": "white",
            "linecolor": "white",
            "ticks": ""
           },
           "bgcolor": "#E5ECF6",
           "caxis": {
            "gridcolor": "white",
            "linecolor": "white",
            "ticks": ""
           }
          },
          "title": {
           "x": 0.05
          },
          "xaxis": {
           "automargin": true,
           "gridcolor": "white",
           "linecolor": "white",
           "ticks": "",
           "title": {
            "standoff": 15
           },
           "zerolinecolor": "white",
           "zerolinewidth": 2
          },
          "yaxis": {
           "automargin": true,
           "gridcolor": "white",
           "linecolor": "white",
           "ticks": "",
           "title": {
            "standoff": 15
           },
           "zerolinecolor": "white",
           "zerolinewidth": 2
          }
         }
        },
        "title": {
         "font": {
          "size": 20
         },
         "text": "🔗 Correlatie tussen depressie en angst per land (2019)"
        },
        "xaxis": {
         "anchor": "y",
         "domain": [
          0,
          1
         ],
         "gridcolor": "lightgrey",
         "showgrid": true,
         "title": {
          "text": "Depressie (%)"
         }
        },
        "yaxis": {
         "anchor": "x",
         "domain": [
          0,
          1
         ],
         "gridcolor": "lightgrey",
         "showgrid": true,
         "title": {
          "text": "Angst (%)"
         }
        }
       }
      }
     },
     "metadata": {},
     "output_type": "display_data"
    }
   ],
   "source": [
    "df_2019 = df[df['Year'] == 2019]\n",
    "\n",
    "depressie_col = 'Depressive disorders (share of population) - Sex: Both - Age: Age-standardized'\n",
    "angst_col = 'Anxiety disorders (share of population) - Sex: Both - Age: Age-standardized'\n",
    "\n",
    "fig = px.scatter(\n",
    "    df_2019,\n",
    "    x=depressie_col,\n",
    "    y=angst_col,\n",
    "    hover_name='Entity',  # tooltip bij muis\n",
    "    color=depressie_col,  # kleur tonen op basis van depressie\n",
    "    color_continuous_scale='Bluered',\n",
    "    size_max=12,\n",
    "    labels={\n",
    "        depressie_col: 'Depressie (%)',\n",
    "        angst_col: 'Angst (%)'\n",
    "    },\n",
    "    title='\\U0001F517 Correlatie tussen depressie en angst per land (2019)',\n",
    "    trendline='ols'  # trendlijn toevoegen\n",
    ")\n",
    "\n",
    "fig.update_layout(\n",
    "    plot_bgcolor='white',\n",
    "    title_font=dict(size=20),\n",
    "    xaxis=dict(showgrid=True, gridcolor='lightgrey'),\n",
    "    yaxis=dict(showgrid=True, gridcolor='lightgrey'),\n",
    "    margin=dict(l=40, r=20, t=60, b=40)\n",
    ")\n",
    "\n",
    "HTML(pio.to_html(fig, include_plotlyjs='cdn'))\n",
    "\n",
    "\n",
    "\n"
   ]
  },
  {
   "cell_type": "markdown",
   "id": "8dab2ab0",
   "metadata": {},
   "source": [
    "# Spreidingsdiagram\n",
    "Dit spreidingsdiagram verbindt geluk en depressie."
   ]
  },
  {
   "cell_type": "code",
   "execution_count": 15,
   "id": "d3d6f178-43bf-403b-b5ec-daa7c4e68ac1",
   "metadata": {},
   "outputs": [
    {
     "data": {
      "application/vnd.plotly.v1+json": {
       "config": {
        "plotlyServerURL": "https://plot.ly"
       },
       "data": [
        {
         "hovertemplate": "<b>%{hovertext}</b><br><br>Geluksindex=%{x}<br>Depressie (%)=%{y}<extra></extra>",
         "hovertext": [
          "Switzerland",
          "Iceland",
          "Denmark",
          "Norway",
          "Canada",
          "Finland",
          "Netherlands",
          "Sweden",
          "New Zealand",
          "Australia",
          "Israel",
          "Costa Rica",
          "Austria",
          "Mexico",
          "United States",
          "Brazil",
          "Luxembourg",
          "Ireland",
          "Belgium",
          "United Arab Emirates",
          "United Kingdom",
          "Oman",
          "Venezuela",
          "Singapore",
          "Panama",
          "Germany",
          "Chile",
          "Qatar",
          "France",
          "Argentina",
          "Uruguay",
          "Colombia",
          "Thailand",
          "Saudi Arabia",
          "Spain",
          "Malta",
          "Taiwan",
          "Kuwait",
          "Suriname",
          "Trinidad and Tobago",
          "El Salvador",
          "Guatemala",
          "Uzbekistan",
          "Slovakia",
          "Japan",
          "South Korea",
          "Ecuador",
          "Bahrain",
          "Italy",
          "Bolivia",
          "Moldova",
          "Paraguay",
          "Kazakhstan",
          "Slovenia",
          "Lithuania",
          "Nicaragua",
          "Peru",
          "Belarus",
          "Poland",
          "Malaysia",
          "Croatia",
          "Libya",
          "Russia",
          "Jamaica",
          "Cyprus",
          "Algeria",
          "Turkmenistan",
          "Mauritius",
          "Estonia",
          "Indonesia",
          "Vietnam",
          "Turkey",
          "Kyrgyzstan",
          "Nigeria",
          "Bhutan",
          "Azerbaijan",
          "Pakistan",
          "Montenegro",
          "Jordan",
          "China",
          "Zambia",
          "Romania",
          "Serbia",
          "Portugal",
          "Latvia",
          "Philippines",
          "Morocco",
          "Mozambique",
          "Albania",
          "Bosnia and Herzegovina",
          "Lesotho",
          "Dominican Republic",
          "Laos",
          "Mongolia",
          "Greece",
          "Lebanon",
          "Hungary",
          "Honduras",
          "Tajikistan",
          "Tunisia",
          "Bangladesh",
          "Iran",
          "Ukraine",
          "Iraq",
          "South Africa",
          "Ghana",
          "Zimbabwe",
          "Liberia",
          "India",
          "Sudan",
          "Haiti",
          "Nepal",
          "Ethiopia",
          "Sierra Leone",
          "Mauritania",
          "Kenya",
          "Djibouti",
          "Armenia",
          "Botswana",
          "Myanmar",
          "Georgia",
          "Malawi",
          "Sri Lanka",
          "Cameroon",
          "Bulgaria",
          "Egypt",
          "Yemen",
          "Angola",
          "Mali",
          "Comoros",
          "Uganda",
          "Senegal",
          "Gabon",
          "Niger",
          "Cambodia",
          "Tanzania",
          "Madagascar",
          "Central African Republic",
          "Chad",
          "Guinea",
          "Burkina Faso",
          "Afghanistan",
          "Rwanda",
          "Benin",
          "Syria",
          "Burundi",
          "Togo"
         ],
         "legendgroup": "",
         "marker": {
          "color": "darkcyan",
          "opacity": 0.7,
          "size": 8,
          "symbol": "circle"
         },
         "mode": "markers",
         "name": "",
         "orientation": "v",
         "showlegend": false,
         "type": "scatter",
         "x": {
          "bdata": "XI/C9ShcHkA9CtejcD0eQB+F61G4Hh5AFK5H4XoUHkC4HoXrUbgdQKRwPQrXox1AhetRuB6FHUBxPQrXo3AdQClcj8L1KB1AH4XrUbgeHUAfhetRuB4dQOxRuB6F6xxAzczMzMzMHEDD9Shcj8IcQHsUrkfhehxA7FG4HoXrG0DNzMzMzMwbQMP1KFyPwhtAw/UoXI/CG0CamZmZmZkbQHsUrkfhehtAZmZmZmZmG0A9CtejcD0bQDMzMzMzMxtAKVyPwvUoG0AAAAAAAAAbQK5H4XoUrhpAcT0K16NwGkBI4XoUrkcaQEjhehSuRxpA9ihcj8L1GUDsUbgehesZQM3MzMzMzBlApHA9CtejGUBSuB6F61EZQDMzMzMzMxlAMzMzMzMzGUAzMzMzMzMZQBSuR+F6FBlArkfhehSuGECF61G4HoUYQHsUrkfhehhAAAAAAAAAGED2KFyPwvUXQPYoXI/C9RdA7FG4HoXrF0DhehSuR+EXQNejcD0K1xdAzczMzMzMF0CPwvUoXI8XQI/C9ShcjxdAhetRuB6FF0BxPQrXo3AXQGZmZmZmZhdAUrgehetRF0BSuB6F61EXQEjhehSuRxdAPQrXo3A9F0ApXI/C9SgXQBSuR+F6FBdACtejcD0KF0AAAAAAAAAXQOF6FK5H4RZA16NwPQrXFkDD9Shcj8IWQHE9CtejcBZAMzMzMzMzFkDsUbgehesVQLgehetRuBVAmpmZmZmZFUBxPQrXo3AVQFK4HoXrURVAKVyPwvUoFUAUrkfhehQVQAAAAAAAABVA16NwPQrXFEDD9Shcj8IUQMP1KFyPwhRAw/UoXI/CFECPwvUoXI8UQIXrUbgehRRAexSuR+F6FEB7FK5H4XoUQGZmZmZmZhRAZmZmZmZmFEBI4XoUrkcUQArXo3A9ChRA4XoUrkfhE0DXo3A9CtcTQM3MzMzMzBNAmpmZmZmZE0CPwvUoXI8TQIXrUbgehRNAexSuR+F6E0BxPQrXo3ATQFyPwvUoXBNAMzMzMzMzE0ApXI/C9SgTQClcj8L1KBNA9ihcj8L1EkDD9Shcj8ISQMP1KFyPwhJAuB6F61G4EkC4HoXrUbgSQI/C9ShcjxJAhetRuB6FEkBxPQrXo3ASQEjhehSuRxJASOF6FK5HEkAzMzMzMzMSQBSuR+F6FBJACtejcD0KEkAK16NwPQoSQArXo3A9ChJAw/UoXI/CEUCuR+F6FK4RQHsUrkfhehFAZmZmZmZmEUBSuB6F61ERQD0K16NwPRFAMzMzMzMzEUApXI/C9SgRQBSuR+F6FBFAAAAAAAAAEUDhehSuR+EQQMP1KFyPwhBAUrgehetREEAfhetRuB4QQOxRuB6F6w9ArkfhehSuD0BxPQrXo3APQDMzMzMzMw9AMzMzMzMzD0DNzMzMzMwOQI/C9Shcjw5APQrXo3A9DkBxPQrXo3ANQHE9CtejcA1AXI/C9ShcDUBI4XoUrkcNQLgehetRuAxApHA9CtejDECuR+F6FK4LQLgehetRuApAFK5H4XoUCEAzMzMzMzMHQLgehetRuAZA",
          "dtype": "f8"
         },
         "xaxis": "x",
         "y": {
          "bdata": "kX2QZcGkDUBGF+XjJH4HQG4QUlz63AtAzpPGw9bnCUAR2ry731IKQDv8NVmjjhBAlYvnInRGDEB2xCEbSHcQQPgQnhp5yg1A0F/oEaOHEUCKAn0iT4IQQMCiESLPtAlAd2nDYWkACUAcx1kiYUkMQBVypZ4FgRFA3ThzWZZpDkCUKvY8JMEJQEHqGz0j3hBA1KU1vA9WDEA5Umy7v6AMQMqYzMLoYxBAQuigSzi0D0Bb6Vog5rcJQBaKdD+nEABAMjYZ+sx+B0C/jd66rAMLQKCJsOHpJQ1AHP7kOWycD0AjaTf6mK8OQGFlfn+UQgNA4443+S26BkAyUL5FzMEBQAXB49u7xgZAu7ciMUHdEEDFA8qmXNESQN/MnrqoDAlAwYu+gjSDBEAtvldjvz0QQKyMRj6vwBJABirj32ecDkAnNQ+7SkILQFHMi13sVw1AECTvHMpQCUBhNgGG5Y8FQI2RNp+E0wBA8yGoGr26AEAHAUOgRKUKQMyPCULDHBJATUusjEZ+DEAxwV+CCTILQDJaR1UTxAlAqI/AH36ODUBleKLalocLQHrsHST66whAjb+jfPftD0BADu/e9gkKQPSC9Ll/sQFAXTY656eYDkAUc7W6QTkCQGkugaUETg1ADZU1oJQPCEB32ERmLqARQEOM17yqowhAARoABXKECEAwhs1b0OYIQOCzv/3KhBBAKQge395lCECSTJh6J3AOQDfm0H2UjA1AUIQeewdZA0C9GqA01MgDQDGDjNvDiQ9A9XsH5LcNC0AslJbbB4oOQAzNdRppGRBACZivgWMFBkBpJJ3cSooPQPYvpB79igZACJRNucKbEEAKU0q+yMoFQJ0/t+HB4BBAZ8NQPYgzBUB0QBL27YQGQKrSux2GkxFA4RQMnY37DUCsN2qF6TsGQBy2LcpsUBRAHsAiv374E0DLHewDf64DQJXCcjp/GQZAaD7nbtcLFkCR/k3etpUOQN1VWSWi+QVAKJlBIae0D0AN8sS9QysUQLfT1ohgnBJAAQKMHUOWBkBgKYGDrD0JQBBSAUHKiQZAGAltOZcyFEDE/CZer3oSQCC3Xz5ZcRNANr5AWq0tD0DaYm1CEHYPQIUjSKXYMRFA3t0UoLdyEUCG7YIc7ykLQIh/2NKjORJAzBQpg1lHDUCeLuZCQLERQDDw3Hu4FA1A4sc9AiSXE0B+Oh4zUJkSQAOXx5qRkRFAGQqOgSs/DUCAtWrXhOQSQEsUawJW2BFAvEPluoTeB0CSPHw+bwcRQMirvZniiwFAvesiOyWWCkDpmzQNimYQQKKQruMJ7gZAq3r5nSZrEkAzdEdahYgFQItJybyfhA9AkJd/PtuUE0DtkRfjDfoWQJF9kGXBVAxA1Hw6w3kNEUCagutAjFYaQHUCmggbHhBAkTRuIBMvFkBUHXIz3PAQQE+RQ8TNmQdAZCDPLt+aEkA5JSAm4fISQPIRjN4EshdAgKd//5yIFEBWZHRAEn4RQKoLeJlhgxFAJefEHtrHE0A3J0BeWWMUQOdtbHakyhFAuXAgJAuIEECFtMagE9ISQCdVkcDVABJA",
          "dtype": "f8"
         },
         "yaxis": "y"
        },
        {
         "hovertemplate": "<b>OLS trendline</b><br>Depressie (%) = -0.284532 * Happiness score + 5.29221<br>R<sup>2</sup>=0.148592<br><br>Geluksindex=%{x}<br>Depressie (%)=%{y} <b>(trend)</b><extra></extra>",
         "legendgroup": "",
         "marker": {
          "color": "darkcyan",
          "size": 8,
          "symbol": "circle"
         },
         "mode": "lines",
         "name": "",
         "showlegend": false,
         "type": "scatter",
         "x": {
          "bdata": "uB6F61G4BkAzMzMzMzMHQBSuR+F6FAhAuB6F61G4CkCuR+F6FK4LQKRwPQrXowxAuB6F61G4DEBI4XoUrkcNQFyPwvUoXA1AcT0K16NwDUBxPQrXo3ANQD0K16NwPQ5Aj8L1KFyPDkDNzMzMzMwOQDMzMzMzMw9AMzMzMzMzD0BxPQrXo3APQK5H4XoUrg9A7FG4HoXrD0AfhetRuB4QQFK4HoXrURBAw/UoXI/CEEDhehSuR+EQQAAAAAAAABFAFK5H4XoUEUApXI/C9SgRQDMzMzMzMxFAPQrXo3A9EUBSuB6F61ERQGZmZmZmZhFAexSuR+F6EUCuR+F6FK4RQMP1KFyPwhFACtejcD0KEkAK16NwPQoSQArXo3A9ChJAFK5H4XoUEkAzMzMzMzMSQEjhehSuRxJASOF6FK5HEkBxPQrXo3ASQIXrUbgehRJAj8L1KFyPEkC4HoXrUbgSQLgehetRuBJAw/UoXI/CEkDD9Shcj8ISQPYoXI/C9RJAKVyPwvUoE0ApXI/C9SgTQDMzMzMzMxNAXI/C9ShcE0BxPQrXo3ATQHsUrkfhehNAhetRuB6FE0CPwvUoXI8TQJqZmZmZmRNAzczMzMzME0DXo3A9CtcTQOF6FK5H4RNACtejcD0KFEBI4XoUrkcUQGZmZmZmZhRAZmZmZmZmFEB7FK5H4XoUQHsUrkfhehRAhetRuB6FFECPwvUoXI8UQMP1KFyPwhRAw/UoXI/CFEDD9Shcj8IUQNejcD0K1xRAAAAAAAAAFUAUrkfhehQVQClcj8L1KBVAUrgehetRFUBxPQrXo3AVQJqZmZmZmRVAuB6F61G4FUDsUbgehesVQDMzMzMzMxZAcT0K16NwFkDD9Shcj8IWQNejcD0K1xZA4XoUrkfhFkAAAAAAAAAXQArXo3A9ChdAFK5H4XoUF0ApXI/C9SgXQD0K16NwPRdASOF6FK5HF0BSuB6F61EXQFK4HoXrURdAZmZmZmZmF0BxPQrXo3AXQIXrUbgehRdAj8L1KFyPF0CPwvUoXI8XQM3MzMzMzBdA16NwPQrXF0DhehSuR+EXQOxRuB6F6xdA9ihcj8L1F0D2KFyPwvUXQAAAAAAAABhAexSuR+F6GECF61G4HoUYQK5H4XoUrhhAFK5H4XoUGUAzMzMzMzMZQDMzMzMzMxlAMzMzMzMzGUBSuB6F61EZQKRwPQrXoxlAzczMzMzMGUDsUbgehesZQPYoXI/C9RlASOF6FK5HGkBI4XoUrkcaQHE9CtejcBpArkfhehSuGkAAAAAAAAAbQClcj8L1KBtAMzMzMzMzG0A9CtejcD0bQGZmZmZmZhtAexSuR+F6G0CamZmZmZkbQMP1KFyPwhtAw/UoXI/CG0DNzMzMzMwbQOxRuB6F6xtAexSuR+F6HEDD9Shcj8IcQM3MzMzMzBxA7FG4HoXrHEAfhetRuB4dQB+F61G4Hh1AKVyPwvUoHUBxPQrXo3AdQIXrUbgehR1ApHA9CtejHUC4HoXrUbgdQBSuR+F6FB5AH4XrUbgeHkA9CtejcD0eQFyPwvUoXB5A",
          "dtype": "f8"
         },
         "xaxis": "x",
         "y": {
          "bdata": "i1BnKcPvEUB0zKHdR94RQPQEDSg7vhFAda5OBxVeEUBGpsNvHjsRQBieONgnGBFAal1C9j0VEUCkmIbI2AARQPVXkObu/RBARxeaBAX7EEBHF5oEBfsQQHaQ+zDi3RBAvI0iqTrSEECwyz8DfckQQEeIcJnruhBAR4hwmeu6EEA8xo3zLbIQQDAEq01wqRBAJULIp7KgEEBrP+8fC5UQQAL8H7Z5hhBAgjSLAG1mEEB3cqhar10QQGuwxbTxVBBADi/Z8B1PEECxrewsSkkQQANt9kpgRhBAVCwAaXZDEED3qhOloj0QQJopJ+HONxBAPag6HfsxEEDUZGuzaSMQQHfjfu+VHRBAsh7DwTAJEECyHsPBMAkQQLIew8EwCRBAA97M30YGEEDvN9RzEvsPQDU1++tq7w9ANTX762rvD0DBL0ncG9gPQActcFR0zA9AqquDkKDGD0A2ptGAUa8PQDam0YBRrw9A2CTlvH2pD0DYJOW8fakPQAeeRulajA9ANheoFThvD0A2F6gVOG8PQNmVu1FkaQ9AZZAJQhVSD0CrjTC6bUYPQE4MRPaZQA9A8YpXMsY6D0CUCWtu8jQPQDaIfqoeLw9AZQHg1vsRD0AIgPMSKAwPQKv+Bk9UBg9AN/lUPwXvDkAJ8cmnDswOQPJsBFyTug5A8mwEXJO6DkA4aivU664OQDhqK9Trrg5A2+g+EBipDkB+Z1JMRKMOQKzgs3ghhg5ArOCzeCGGDkCs4LN4IYYOQPLd2vB5eg5Aftgo4SpjDkDE1U9Zg1cOQArTdtHbSw5Als3EwYw0DkB+Sf91ESMOQApETWbCCw5A87+HGkf6DUAiOelGJN0NQJevcetZtA1AaKfmU2ORDUCAnII0xWINQMaZqawdVw1AaRi96ElRDUBSlPeczj8NQPUSC9n6OQ1AmJEeFSc0DUDejkWNfygNQCSMbAXYHA1AxgqAQQQXDUBpiZN9MBENQGmJk30wEQ1AsIa69YgFDUBSBc4xtf8MQJgC9akN9AxAO4EI5jnuDEA7gQjmOe4MQA15fU5DywxAsPeQim/FDEBTdqTGm78MQPb0twLIuQxAmXPLPvSzDECZc8s+9LMMQDzy3nogrgxA3+HISzNoDECCYNyHX2IMQA5bKngQSwxAbE3t0MoQDEBVySeFT/8LQFXJJ4VP/wtAVcknhU//C0A9RWI51O0LQFU6/hk2vwtA4TRMCuenC0DJsIa+a5YLQGwvmvqXkAtAhCQ22/lhC0CEJDbb+WELQBAfhMuqSgtA4hb5M7QnC0D5C5UUFvkKQIUG4wTH4QpAKIX2QPPbCkDLAwp9H9YKQFf+V23QvgpAnft+5SizCkCGd7mZraEKQBFyB4peigpAEXIHil6KCkC08BrGioQKQJ1sVXoPcwpAh1lmw3ohCkD7z+5nsPgJQJ5OAqTc8glAh8o8WGHhCUC2Q56EPsQJQLZDnoQ+xAlAWcKxwGq+CUDOODploJUJQBQ2Yd34iQlA/LGbkX14CUBDr8IJ1mwJQP0iciZkOAlAoKGFYpAyCUCJHcAWFSEJQHKZ+sqZDwlA",
          "dtype": "f8"
         },
         "yaxis": "y"
        }
       ],
       "layout": {
        "legend": {
         "tracegroupgap": 0
        },
        "margin": {
         "b": 40,
         "l": 20,
         "r": 20,
         "t": 60
        },
        "plot_bgcolor": "white",
        "template": {
         "data": {
          "bar": [
           {
            "error_x": {
             "color": "#2a3f5f"
            },
            "error_y": {
             "color": "#2a3f5f"
            },
            "marker": {
             "line": {
              "color": "#E5ECF6",
              "width": 0.5
             },
             "pattern": {
              "fillmode": "overlay",
              "size": 10,
              "solidity": 0.2
             }
            },
            "type": "bar"
           }
          ],
          "barpolar": [
           {
            "marker": {
             "line": {
              "color": "#E5ECF6",
              "width": 0.5
             },
             "pattern": {
              "fillmode": "overlay",
              "size": 10,
              "solidity": 0.2
             }
            },
            "type": "barpolar"
           }
          ],
          "carpet": [
           {
            "aaxis": {
             "endlinecolor": "#2a3f5f",
             "gridcolor": "white",
             "linecolor": "white",
             "minorgridcolor": "white",
             "startlinecolor": "#2a3f5f"
            },
            "baxis": {
             "endlinecolor": "#2a3f5f",
             "gridcolor": "white",
             "linecolor": "white",
             "minorgridcolor": "white",
             "startlinecolor": "#2a3f5f"
            },
            "type": "carpet"
           }
          ],
          "choropleth": [
           {
            "colorbar": {
             "outlinewidth": 0,
             "ticks": ""
            },
            "type": "choropleth"
           }
          ],
          "contour": [
           {
            "colorbar": {
             "outlinewidth": 0,
             "ticks": ""
            },
            "colorscale": [
             [
              0,
              "#0d0887"
             ],
             [
              0.1111111111111111,
              "#46039f"
             ],
             [
              0.2222222222222222,
              "#7201a8"
             ],
             [
              0.3333333333333333,
              "#9c179e"
             ],
             [
              0.4444444444444444,
              "#bd3786"
             ],
             [
              0.5555555555555556,
              "#d8576b"
             ],
             [
              0.6666666666666666,
              "#ed7953"
             ],
             [
              0.7777777777777778,
              "#fb9f3a"
             ],
             [
              0.8888888888888888,
              "#fdca26"
             ],
             [
              1,
              "#f0f921"
             ]
            ],
            "type": "contour"
           }
          ],
          "contourcarpet": [
           {
            "colorbar": {
             "outlinewidth": 0,
             "ticks": ""
            },
            "type": "contourcarpet"
           }
          ],
          "heatmap": [
           {
            "colorbar": {
             "outlinewidth": 0,
             "ticks": ""
            },
            "colorscale": [
             [
              0,
              "#0d0887"
             ],
             [
              0.1111111111111111,
              "#46039f"
             ],
             [
              0.2222222222222222,
              "#7201a8"
             ],
             [
              0.3333333333333333,
              "#9c179e"
             ],
             [
              0.4444444444444444,
              "#bd3786"
             ],
             [
              0.5555555555555556,
              "#d8576b"
             ],
             [
              0.6666666666666666,
              "#ed7953"
             ],
             [
              0.7777777777777778,
              "#fb9f3a"
             ],
             [
              0.8888888888888888,
              "#fdca26"
             ],
             [
              1,
              "#f0f921"
             ]
            ],
            "type": "heatmap"
           }
          ],
          "histogram": [
           {
            "marker": {
             "pattern": {
              "fillmode": "overlay",
              "size": 10,
              "solidity": 0.2
             }
            },
            "type": "histogram"
           }
          ],
          "histogram2d": [
           {
            "colorbar": {
             "outlinewidth": 0,
             "ticks": ""
            },
            "colorscale": [
             [
              0,
              "#0d0887"
             ],
             [
              0.1111111111111111,
              "#46039f"
             ],
             [
              0.2222222222222222,
              "#7201a8"
             ],
             [
              0.3333333333333333,
              "#9c179e"
             ],
             [
              0.4444444444444444,
              "#bd3786"
             ],
             [
              0.5555555555555556,
              "#d8576b"
             ],
             [
              0.6666666666666666,
              "#ed7953"
             ],
             [
              0.7777777777777778,
              "#fb9f3a"
             ],
             [
              0.8888888888888888,
              "#fdca26"
             ],
             [
              1,
              "#f0f921"
             ]
            ],
            "type": "histogram2d"
           }
          ],
          "histogram2dcontour": [
           {
            "colorbar": {
             "outlinewidth": 0,
             "ticks": ""
            },
            "colorscale": [
             [
              0,
              "#0d0887"
             ],
             [
              0.1111111111111111,
              "#46039f"
             ],
             [
              0.2222222222222222,
              "#7201a8"
             ],
             [
              0.3333333333333333,
              "#9c179e"
             ],
             [
              0.4444444444444444,
              "#bd3786"
             ],
             [
              0.5555555555555556,
              "#d8576b"
             ],
             [
              0.6666666666666666,
              "#ed7953"
             ],
             [
              0.7777777777777778,
              "#fb9f3a"
             ],
             [
              0.8888888888888888,
              "#fdca26"
             ],
             [
              1,
              "#f0f921"
             ]
            ],
            "type": "histogram2dcontour"
           }
          ],
          "mesh3d": [
           {
            "colorbar": {
             "outlinewidth": 0,
             "ticks": ""
            },
            "type": "mesh3d"
           }
          ],
          "parcoords": [
           {
            "line": {
             "colorbar": {
              "outlinewidth": 0,
              "ticks": ""
             }
            },
            "type": "parcoords"
           }
          ],
          "pie": [
           {
            "automargin": true,
            "type": "pie"
           }
          ],
          "scatter": [
           {
            "fillpattern": {
             "fillmode": "overlay",
             "size": 10,
             "solidity": 0.2
            },
            "type": "scatter"
           }
          ],
          "scatter3d": [
           {
            "line": {
             "colorbar": {
              "outlinewidth": 0,
              "ticks": ""
             }
            },
            "marker": {
             "colorbar": {
              "outlinewidth": 0,
              "ticks": ""
             }
            },
            "type": "scatter3d"
           }
          ],
          "scattercarpet": [
           {
            "marker": {
             "colorbar": {
              "outlinewidth": 0,
              "ticks": ""
             }
            },
            "type": "scattercarpet"
           }
          ],
          "scattergeo": [
           {
            "marker": {
             "colorbar": {
              "outlinewidth": 0,
              "ticks": ""
             }
            },
            "type": "scattergeo"
           }
          ],
          "scattergl": [
           {
            "marker": {
             "colorbar": {
              "outlinewidth": 0,
              "ticks": ""
             }
            },
            "type": "scattergl"
           }
          ],
          "scattermap": [
           {
            "marker": {
             "colorbar": {
              "outlinewidth": 0,
              "ticks": ""
             }
            },
            "type": "scattermap"
           }
          ],
          "scattermapbox": [
           {
            "marker": {
             "colorbar": {
              "outlinewidth": 0,
              "ticks": ""
             }
            },
            "type": "scattermapbox"
           }
          ],
          "scatterpolar": [
           {
            "marker": {
             "colorbar": {
              "outlinewidth": 0,
              "ticks": ""
             }
            },
            "type": "scatterpolar"
           }
          ],
          "scatterpolargl": [
           {
            "marker": {
             "colorbar": {
              "outlinewidth": 0,
              "ticks": ""
             }
            },
            "type": "scatterpolargl"
           }
          ],
          "scatterternary": [
           {
            "marker": {
             "colorbar": {
              "outlinewidth": 0,
              "ticks": ""
             }
            },
            "type": "scatterternary"
           }
          ],
          "surface": [
           {
            "colorbar": {
             "outlinewidth": 0,
             "ticks": ""
            },
            "colorscale": [
             [
              0,
              "#0d0887"
             ],
             [
              0.1111111111111111,
              "#46039f"
             ],
             [
              0.2222222222222222,
              "#7201a8"
             ],
             [
              0.3333333333333333,
              "#9c179e"
             ],
             [
              0.4444444444444444,
              "#bd3786"
             ],
             [
              0.5555555555555556,
              "#d8576b"
             ],
             [
              0.6666666666666666,
              "#ed7953"
             ],
             [
              0.7777777777777778,
              "#fb9f3a"
             ],
             [
              0.8888888888888888,
              "#fdca26"
             ],
             [
              1,
              "#f0f921"
             ]
            ],
            "type": "surface"
           }
          ],
          "table": [
           {
            "cells": {
             "fill": {
              "color": "#EBF0F8"
             },
             "line": {
              "color": "white"
             }
            },
            "header": {
             "fill": {
              "color": "#C8D4E3"
             },
             "line": {
              "color": "white"
             }
            },
            "type": "table"
           }
          ]
         },
         "layout": {
          "annotationdefaults": {
           "arrowcolor": "#2a3f5f",
           "arrowhead": 0,
           "arrowwidth": 1
          },
          "autotypenumbers": "strict",
          "coloraxis": {
           "colorbar": {
            "outlinewidth": 0,
            "ticks": ""
           }
          },
          "colorscale": {
           "diverging": [
            [
             0,
             "#8e0152"
            ],
            [
             0.1,
             "#c51b7d"
            ],
            [
             0.2,
             "#de77ae"
            ],
            [
             0.3,
             "#f1b6da"
            ],
            [
             0.4,
             "#fde0ef"
            ],
            [
             0.5,
             "#f7f7f7"
            ],
            [
             0.6,
             "#e6f5d0"
            ],
            [
             0.7,
             "#b8e186"
            ],
            [
             0.8,
             "#7fbc41"
            ],
            [
             0.9,
             "#4d9221"
            ],
            [
             1,
             "#276419"
            ]
           ],
           "sequential": [
            [
             0,
             "#0d0887"
            ],
            [
             0.1111111111111111,
             "#46039f"
            ],
            [
             0.2222222222222222,
             "#7201a8"
            ],
            [
             0.3333333333333333,
             "#9c179e"
            ],
            [
             0.4444444444444444,
             "#bd3786"
            ],
            [
             0.5555555555555556,
             "#d8576b"
            ],
            [
             0.6666666666666666,
             "#ed7953"
            ],
            [
             0.7777777777777778,
             "#fb9f3a"
            ],
            [
             0.8888888888888888,
             "#fdca26"
            ],
            [
             1,
             "#f0f921"
            ]
           ],
           "sequentialminus": [
            [
             0,
             "#0d0887"
            ],
            [
             0.1111111111111111,
             "#46039f"
            ],
            [
             0.2222222222222222,
             "#7201a8"
            ],
            [
             0.3333333333333333,
             "#9c179e"
            ],
            [
             0.4444444444444444,
             "#bd3786"
            ],
            [
             0.5555555555555556,
             "#d8576b"
            ],
            [
             0.6666666666666666,
             "#ed7953"
            ],
            [
             0.7777777777777778,
             "#fb9f3a"
            ],
            [
             0.8888888888888888,
             "#fdca26"
            ],
            [
             1,
             "#f0f921"
            ]
           ]
          },
          "colorway": [
           "#636efa",
           "#EF553B",
           "#00cc96",
           "#ab63fa",
           "#FFA15A",
           "#19d3f3",
           "#FF6692",
           "#B6E880",
           "#FF97FF",
           "#FECB52"
          ],
          "font": {
           "color": "#2a3f5f"
          },
          "geo": {
           "bgcolor": "white",
           "lakecolor": "white",
           "landcolor": "#E5ECF6",
           "showlakes": true,
           "showland": true,
           "subunitcolor": "white"
          },
          "hoverlabel": {
           "align": "left"
          },
          "hovermode": "closest",
          "mapbox": {
           "style": "light"
          },
          "paper_bgcolor": "white",
          "plot_bgcolor": "#E5ECF6",
          "polar": {
           "angularaxis": {
            "gridcolor": "white",
            "linecolor": "white",
            "ticks": ""
           },
           "bgcolor": "#E5ECF6",
           "radialaxis": {
            "gridcolor": "white",
            "linecolor": "white",
            "ticks": ""
           }
          },
          "scene": {
           "xaxis": {
            "backgroundcolor": "#E5ECF6",
            "gridcolor": "white",
            "gridwidth": 2,
            "linecolor": "white",
            "showbackground": true,
            "ticks": "",
            "zerolinecolor": "white"
           },
           "yaxis": {
            "backgroundcolor": "#E5ECF6",
            "gridcolor": "white",
            "gridwidth": 2,
            "linecolor": "white",
            "showbackground": true,
            "ticks": "",
            "zerolinecolor": "white"
           },
           "zaxis": {
            "backgroundcolor": "#E5ECF6",
            "gridcolor": "white",
            "gridwidth": 2,
            "linecolor": "white",
            "showbackground": true,
            "ticks": "",
            "zerolinecolor": "white"
           }
          },
          "shapedefaults": {
           "line": {
            "color": "#2a3f5f"
           }
          },
          "ternary": {
           "aaxis": {
            "gridcolor": "white",
            "linecolor": "white",
            "ticks": ""
           },
           "baxis": {
            "gridcolor": "white",
            "linecolor": "white",
            "ticks": ""
           },
           "bgcolor": "#E5ECF6",
           "caxis": {
            "gridcolor": "white",
            "linecolor": "white",
            "ticks": ""
           }
          },
          "title": {
           "x": 0.05
          },
          "xaxis": {
           "automargin": true,
           "gridcolor": "white",
           "linecolor": "white",
           "ticks": "",
           "title": {
            "standoff": 15
           },
           "zerolinecolor": "white",
           "zerolinewidth": 2
          },
          "yaxis": {
           "automargin": true,
           "gridcolor": "white",
           "linecolor": "white",
           "ticks": "",
           "title": {
            "standoff": 15
           },
           "zerolinecolor": "white",
           "zerolinewidth": 2
          }
         }
        },
        "title": {
         "font": {
          "size": 20
         },
         "text": "🧠 Spreidingsdiagram: Geluk vs. Depressie per land (2019)"
        },
        "xaxis": {
         "anchor": "y",
         "domain": [
          0,
          1
         ],
         "gridcolor": "lightgrey",
         "showgrid": true,
         "title": {
          "text": "Geluksindex"
         }
        },
        "yaxis": {
         "anchor": "x",
         "domain": [
          0,
          1
         ],
         "gridcolor": "lightgrey",
         "showgrid": true,
         "title": {
          "text": "Depressie (%)"
         }
        }
       }
      }
     },
     "metadata": {},
     "output_type": "display_data"
    }
   ],
   "source": [
    "df_2019 = df[df['Year'] == 2019]\n",
    "\n",
    "depressie_col = 'Depressive disorders (share of population) - Sex: Both - Age: Age-standardized'\n",
    "\n",
    "depressie_klein = df_2019[['Entity', depressie_col]].rename(\n",
    "    columns={'Entity': 'Country', depressie_col: 'Depressie (%)'}\n",
    ")\n",
    "\n",
    "# w_h['Happiness score'] = w_h['Happiness score'].str.replace(',', '.').astype(float)\n",
    "\n",
    "data = pd.merge(w_h[['Country', 'Happiness score']], depressie_klein, on='Country')\n",
    "\n",
    "fig = px.scatter(\n",
    "    data,\n",
    "    x='Happiness score',\n",
    "    y='Depressie (%)',\n",
    "    hover_name='Country',\n",
    "    title='\\U0001F9E0 Spreidingsdiagram: Geluk vs. Depressie per land (2019)',\n",
    "    labels={\n",
    "        'Happiness score': 'Geluksindex',\n",
    "        'Depressie (%)': 'Depressie (%)'\n",
    "    },\n",
    "    trendline='ols',\n",
    "    opacity=0.7\n",
    ")\n",
    "\n",
    "fig.update_traces(marker=dict(size=8, color='darkcyan'))\n",
    "fig.update_layout(\n",
    "    title_font=dict(size=20),\n",
    "    plot_bgcolor='white',\n",
    "    xaxis=dict(showgrid=True, gridcolor='lightgrey'),\n",
    "    yaxis=dict(showgrid=True, gridcolor='lightgrey'),\n",
    "    margin=dict(l=20, r=20, t=60, b=40)\n",
    ")\n",
    "\n",
    "HTML(pio.to_html(fig, include_plotlyjs='cdn'))"
   ]
  },
  {
   "cell_type": "markdown",
   "id": "dd669b51",
   "metadata": {},
   "source": [
    "# Staafdiagram\n",
    "Dit toont de mate van maatschappelijke steun in de 15 gelukkigste landen."
   ]
  },
  {
   "cell_type": "code",
   "execution_count": 16,
   "id": "58aa054e-f9a9-4b43-8714-8ca34ace62f9",
   "metadata": {},
   "outputs": [
    {
     "data": {
      "image/png": "[encoded data removed]",
      "text/plain": [
       "<Figure size 1100x700 with 1 Axes>"
      ]
     },
     "metadata": {},
     "output_type": "display_data"
    }
   ],
   "source": [
    "if w_h['Happiness score'].dtype == object:\n",
    "    w_h['Happiness score'] = w_h['Happiness score'].str.replace(',', '.').astype(float)\n",
    "\n",
    "if w_h['Social support'].dtype == object:\n",
    "    w_h['Social support'] = w_h['Social support'].str.replace(',', '.').astype(float)\n",
    "\n",
    "top15 = w_h.sort_values('Happiness score', ascending=False).head(15)\n",
    "\n",
    "top15_sorted = top15.sort_values('Social support')\n",
    "\n",
    "plt.figure(figsize=(11, 7))\n",
    "plt.scatter(top15_sorted['Social support'], top15_sorted['Country'], color='darkorange', s=100)\n",
    "\n",
    "for i, row in top15_sorted.iterrows():\n",
    "    plt.plot([0, row['Social support']], [row['Country'], row['Country']], color='lightgray', lw=1)\n",
    "\n",
    "for i, row in top15_sorted.iterrows():\n",
    "    x = float(row['Social support'])\n",
    "    y = row['Country']\n",
    "    label = f\"{x:.2f}\"\n",
    "    plt.text(x + 0.02, y, label, va='center', fontsize=9)\n",
    "\n",
    "plt.xlabel('Social support')\n",
    "plt.title('Maatschappelijke steun in de 15 gelukkigste landen (2015)', fontsize=14)\n",
    "plt.grid(axis='x', linestyle='--', alpha=0.5)\n",
    "plt.tight_layout()\n",
    "\n",
    "HTML(pio.to_html(fig, include_plotlyjs='cdn'))\n"
   ]
  },
  {
   "cell_type": "code",
   "execution_count": 17,
   "id": "94f9a80c-3c46-48d4-aa0c-e942cfe66038",
   "metadata": {},
   "outputs": [
    {
     "ename": "NameError",
     "evalue": "name 'merged' is not defined",
     "output_type": "error",
     "traceback": [
      "\u001b[31m---------------------------------------------------------------------------\u001b[39m",
      "\u001b[31mNameError\u001b[39m                                 Traceback (most recent call last)",
      "\u001b[36mCell\u001b[39m\u001b[36m \u001b[39m\u001b[32mIn[17]\u001b[39m\u001b[32m, line 1\u001b[39m\n\u001b[32m----> \u001b[39m\u001b[32m1\u001b[39m top5_geluk = \u001b[43mmerged\u001b[49m.nlargest(\u001b[32m5\u001b[39m, \u001b[33m'\u001b[39m\u001b[33mHappiness score\u001b[39m\u001b[33m'\u001b[39m)\n\u001b[32m      2\u001b[39m top5_depressie = merged.nlargest(\u001b[32m5\u001b[39m, depressie_col)\n\u001b[32m      3\u001b[39m top5_angst = merged.nlargest(\u001b[32m5\u001b[39m, angst_col)\n",
      "\u001b[31mNameError\u001b[39m: name 'merged' is not defined"
     ]
    }
   ],
   "source": [
    "def clean_number(x):\n",
    "    if isinstance(x, str):\n",
    "        x = x.replace(',', '.')\n",
    "    return x\n",
    "\n",
    "w_h['Happiness score'] = w_h['Happiness score'].apply(clean_number).astype(float)\n",
    "\n",
    "depression_col = 'Depressive disorders (share of population) - Sex: Both - Age: Age-standardized'\n",
    "anxiety_col = 'Anxiety disorders (share of population) - Sex: Both - Age: Age-standardized'\n",
    "\n",
    "df_2015 = df[df['Year'] == 2015]\n",
    "\n",
    "top5_geluk = w_h.nlargest(5, 'Happiness score')[['Country', 'Happiness score']].rename(columns={'Happiness score': 'Value'})\n",
    "top5_geluk['Categorie'] = 'Geluksniveau'\n",
    "\n",
    "top5_depressie = df_2015.nlargest(5, depression_col)[['Entity', depression_col]].rename(columns={depression_col: 'Value', 'Entity': 'Country'})\n",
    "top5_depressie['Categorie'] = 'Depressie'\n",
    "\n",
    "top5_angst = df_2015.nlargest(5, anxiety_col)[['Entity', anxiety_col]].rename(columns={anxiety_col: 'Value', 'Entity': 'Country'})\n",
    "top5_angst['Categorie'] = 'Angst'\n",
    "\n",
    "alle_landen = pd.concat([\n",
    "    top5_geluk[['Country']],\n",
    "    top5_depressie[['Country']],\n",
    "    top5_angst[['Country']]\n",
    "]).drop_duplicates()\n",
    "\n",
    "landen_lijst = alle_landen['Country'].tolist()\n",
    "\n",
    "relevante_geluk = w_h[w_h['Country'].isin(landen_lijst)][['Country', 'Happiness score']].rename(columns={'Happiness score': 'Value'})\n",
    "relevante_geluk['Categorie'] = 'Geluksniveau'\n",
    "\n",
    "relevante_depressie = df_2015[df_2015['Entity'].isin(landen_lijst)][['Entity', depression_col]].rename(columns={depression_col: 'Value', 'Entity': 'Country'})\n",
    "relevante_depressie['Categorie'] = 'Depressie'\n",
    "\n",
    "relevante_angst = df_2015[df_2015['Entity'].isin(landen_lijst)][['Entity', anxiety_col]].rename(columns={anxiety_col: 'Value', 'Entity': 'Country'})\n",
    "relevante_angst['Categorie'] = 'Angst'\n",
    "\n",
    "df_alle = pd.concat([relevante_geluk, relevante_depressie, relevante_angst])\n",
    "\n",
    "fig = px.bar(\n",
    "    df_alle,\n",
    "    x='Country',\n",
    "    y='Value',\n",
    "    color='Categorie',\n",
    "    barmode='group',\n",
    "    title='Top 5 landen in 2015: Geluksniveau, Depressie en Angst',\n",
    "    labels={'Value': 'Waarde', 'Country': 'Land'}\n",
    ")\n",
    "\n",
    "HTML(pio.to_html(fig, include_plotlyjs='cdn'))\n"
   ]
  },
  {
   "cell_type": "code",
   "execution_count": null,
   "id": "6332eb42-c196-452a-b85f-c0e95f06a8c0",
   "metadata": {},
   "outputs": [
    {
     "name": "stdout",
     "output_type": "stream",
     "text": [
      "6420\n",
      "8\n"
     ]
    }
   ],
   "source": [
    "\n",
    "df = pd.read_csv('../datasets/mental-illnesses-prevalence.csv')\n",
    "\n",
    "print(df.shape[0])\n",
    "print(df.shape[1])"
   ]
  },
  {
   "cell_type": "code",
   "execution_count": null,
   "id": "b088a9bf-51a7-403d-861b-67fe51a255fb",
   "metadata": {},
   "outputs": [
    {
     "name": "stdout",
     "output_type": "stream",
     "text": [
      "158\n",
      "10\n"
     ]
    }
   ],
   "source": [
    "w_h = pd.read_csv('../datasets/world_happiness_2015.csv', sep=';')\n",
    "\n",
    "print(w_h.shape[0])\n",
    "print(w_h.shape[1])"
   ]
  }
 ],
 "metadata": {
  "kernelspec": {
   "display_name": "Python 3 (ipykernel)",
   "language": "python",
   "name": "python3"
  }
 },
 "nbformat": 4,
 "nbformat_minor": 5
}
