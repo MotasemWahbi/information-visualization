{
 "cells": [
  {
   "cell_type": "code",
   "execution_count": 2,
   "id": "8611a157-4ea5-44df-8be8-45d3da668579",
   "metadata": {},
   "outputs": [],
   "source": [
    "import pandas \n",
    "import seaborn \n"
   ]
  },
  {
   "cell_type": "code",
   "execution_count": null,
   "id": "84584c37-04fe-4e41-95e6-c802acb0c0d8",
   "metadata": {},
   "outputs": [],
   "source": []
  }
 ],
 "metadata": {
  "kernelspec": {
   "display_name": "Python 3 (ipykernel)",
   "language": "python",
   "name": "python3"
  },
  "language_info": {
   "codemirror_mode": {
    "name": "ipython",
    "version": 3
   },
   "file_extension": ".py",
   "mimetype": "text/x-python",
   "name": "python",
   "nbconvert_exporter": "python",
   "pygments_lexer": "ipython3",
   "version": "3.11.7"
  }
 },
 "nbformat": 4,
 "nbformat_minor": 5
}
